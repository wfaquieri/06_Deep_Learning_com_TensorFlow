{
 "cells": [
  {
   "cell_type": "code",
   "execution_count": 1,
   "id": "08dc94a8",
   "metadata": {},
   "outputs": [
    {
     "data": {
      "text/html": [
       "<marquee style='width: 90%; color: blue;'><b>INSTITUTO INFNET | ESCOLA SUPERIOR DA\n",
       "TECNOLOGIA DA INFORMAÇÃO</b></marquee>\n"
      ],
      "text/plain": [
       "<IPython.core.display.HTML object>"
      ]
     },
     "metadata": {},
     "output_type": "display_data"
    }
   ],
   "source": [
    "%%html\n",
    "<marquee style='width: 90%; color: blue;'><b>INSTITUTO INFNET | ESCOLA SUPERIOR DA\n",
    "TECNOLOGIA DA INFORMAÇÃO</b></marquee>"
   ]
  },
  {
   "cell_type": "markdown",
   "id": "8e6bf5d5",
   "metadata": {},
   "source": [
    "![logo_infnet.png](https://www.infnet.edu.br/infnet/wp-content/uploads/sites/6/2021/10/infnet_mod.svg)"
   ]
  },
  {
   "cell_type": "markdown",
   "id": "151ea1f1",
   "metadata": {},
   "source": [
    "<h2>Pós-graduação MIT em Inteligência Artificial, Machine Learning & Deep Learning</h2>\n",
    "\n",
    "<h3>Projeto da disciplina de Deep Learning com TensorFlow.</h3>\n",
    "\n",
    "Bloco: Redes neurais com TensorFlow\n",
    "\n",
    "Docente: Diego da Silva Rodrigues\n",
    "\n",
    "Aluno: Winicius Botelho Faquieri \n",
    "\n",
    "Título: Um modelo de Deep Neural Networks para classificação de estabelecimentos nos segmentos Autosserviço, Mercado Quente e Mercado Frio com diferentes funções de ativação\n",
    "\n",
    "---"
   ]
  },
  {
   "cell_type": "markdown",
   "id": "3c2b0087",
   "metadata": {},
   "source": [
    "### Um modelo de Deep Neural Networks para classificação de estabelecimentos nos segmentos Autosserviço, Mercado Quente e Mercado Frio com diferentes funções de ativação\n",
    "\n",
    "separando o conjunto de dados nos segmentos 1, 2 e 3, respectivamente: Autosserviço, Mercado Quente e Mercado Frio.\n"
   ]
  },
  {
   "cell_type": "code",
   "execution_count": 84,
   "id": "0a2e0f9f",
   "metadata": {},
   "outputs": [],
   "source": [
    "# Libs:\n",
    "import pandas as pd\n",
    "import numpy as np\n",
    "import seaborn as sns\n",
    "import math\n",
    "import inflection\n",
    "from matplotlib import pyplot as plt\n",
    "from IPython.core.display import HTML\n",
    "from sklearn import model_selection as ms\n",
    "from sklearn.preprocessing import RobustScaler\n",
    "from sklearn.preprocessing import LabelEncoder\n",
    "from sklearn.model_selection import KFold\n",
    "from sklearn.model_selection import cross_val_score\n",
    "from sklearn.metrics import multilabel_confusion_matrix\n",
    "from sklearn.metrics import classification_report\n",
    "from sklearn.metrics import confusion_matrix\n",
    "from sklearn.metrics import roc_curve\n",
    "from sklearn.ensemble import RandomForestRegressor\n",
    "from keras.utils import np_utils\n",
    "from keras.models import Sequential \n",
    "from keras.layers import Dense\n",
    "from keras.wrappers.scikit_learn import KerasClassifier\n",
    "from keras.optimizers import SGD"
   ]
  },
  {
   "cell_type": "markdown",
   "id": "5678b8ea",
   "metadata": {},
   "source": [
    "## TABLE OF CONTENTS\n",
    "* [1. Entendendo o Problema de Negócio](#label1)\n",
    "\n",
    "* [2. A descrição dos dados](##label2)\n",
    "\n",
    "    * [1.1 Data dimensions](#datadim)\n",
    "    \n",
    "    * [1.2 Data types](#datatyp)\n",
    "    \n",
    "    * [1.3 Check NA](#checkna)\n",
    "    \n",
    "    * [Fillout NA](#filloutna)\n",
    "    \n",
    "    * [Change data types](#changetypes)\n",
    "    \n",
    "    * [Descriptive statistics](#descrstats)\n",
    "    \n",
    "    * [Numerical atributes](#numstats)\n",
    "    \n",
    "    * [Categorical atributes](#categ_atrib)     \n",
    "    \n",
    "* [3. Feature Engineering](#label3)\n",
    "\n",
    "* [4. Análise Exploratória dos Dados](#label4)\n",
    "\n",
    "* [5. Preparação dos Dados](#label5)\n",
    "\n",
    "* [6. Feature Selection](#label6)\n",
    "\n",
    "* [7. Modelo de Machine Learning](#)\n",
    "\n",
    "* [8. Hyperparameter Fine Tuning](#)\n",
    "\n",
    "* [9. Interpretação e Tradução do Erro](#)\n",
    "\n",
    "* [10. Deploy do Modelo em Produção](#)\n",
    "\n",
    "* [References](#)\n"
   ]
  },
  {
   "cell_type": "markdown",
   "id": "c596ec63",
   "metadata": {},
   "source": [
    "## 0. Business understanding<a class=\"anchor\" id=\"dataset_info\"></a>\n",
    "\n",
    "Desafio: classificar empresas em 03 segmentos, a saber:\n",
    "\n",
    "* Segmento I - Supermercados com 5 ou mais checkouts\n",
    "\n",
    "* Segmento II - Supermercados com 4 ou menos checkouts (mercadinhos, mercearias, etc)\n",
    "\n",
    "* Segmento III - Bares, restaurantes, padarias"
   ]
  },
  {
   "attachments": {
    "features.png": {
     "image/png": "[encoded data removed]"
    }
   },
   "cell_type": "markdown",
   "id": "324c6da1",
   "metadata": {},
   "source": [
    "Utilizaremos os 06 recursos destacados para classificar nossos dados em canais de distribuição ou segmentos I, II ou III:\n",
    "\n",
    "- Segmento I - Supermercados com 5 ou mais checkouts\n",
    "\n",
    "- Segmento II - Supermercados com 4 ou menos checkouts (mercadinhos, mercearias, etc)\n",
    "\n",
    "- Segmento III - Bares, restaurantes, padarias, etc.\n",
    "\n",
    "![features.png](attachment:features.png)"
   ]
  },
  {
   "cell_type": "markdown",
   "id": "943345a2",
   "metadata": {},
   "source": [
    "### RESUMO\n",
    "\n",
    "Primeiramente, realizamos uma análise exploratória de dados onde observamos a distribuição de cada variável, bem como a relação entre cada variável e a variável de interesse (target). Em seguida, realizamos o pré-processamento de dados para remover dados ausentes e também padronizamos nossos dados utilizando uma abordagem robusta devido a presença de valores atípicos. Por fim, dividimos nossos dados originais aleatoriamente em um conjunto de treinamento, um conjunto de validação e um conjunto de teste.\n",
    "\n",
    "Em seguida, analisamos a arquitetura do MLP que usamos, que consiste em 2 camadas ocultas, com xx nós na primeira camada oculta e xx nós na segunda camada oculta. Em seguida, implementamos esse MLP no Keras usando o modelo sequencial, que nos permite empilhar camadas umas sobre as outras. Então, treinamos nosso MLP usando o conjunto de treinamento, onde Keras usou o algoritmo otimizador Adam para modificar os pesos e vieses na rede neural em mais de 200 iterações, melhorando gradualmente a precisão do modelo.\n",
    "\n",
    "Por fim, avaliamos nosso modelo usando métricas como acurácia, matriz de confusão e curva ROC. "
   ]
  },
  {
   "attachments": {
    "crisp_dm.png": {
     "image/png": "[encoded data removed]"
    }
   },
   "cell_type": "markdown",
   "id": "18be36b7",
   "metadata": {},
   "source": [
    "### CRISP-DM\n",
    "\n",
    "- Método cíclico de desenvolvimento do projeto de DS.\n",
    "\n",
    "- 1º ciclo CRISP completo.\n",
    "![crisp_dm.png](attachment:crisp_dm.png)\n",
    "\n"
   ]
  },
  {
   "cell_type": "markdown",
   "id": "170b4f6d",
   "metadata": {},
   "source": [
    "## 1. A Descrição dos Dados <a class=\"anchor\" id=\"dataset_info\"></a>"
   ]
  },
  {
   "cell_type": "code",
   "execution_count": 50,
   "id": "7af52abf",
   "metadata": {},
   "outputs": [],
   "source": [
    "df = pd.read_csv('../data/dataset.csv', dtype=str)"
   ]
  },
  {
   "cell_type": "code",
   "execution_count": 51,
   "id": "93f35810",
   "metadata": {},
   "outputs": [
    {
     "data": {
      "text/html": [
       "<div>\n",
       "<style scoped>\n",
       "    .dataframe tbody tr th:only-of-type {\n",
       "        vertical-align: middle;\n",
       "    }\n",
       "\n",
       "    .dataframe tbody tr th {\n",
       "        vertical-align: top;\n",
       "    }\n",
       "\n",
       "    .dataframe thead th {\n",
       "        text-align: right;\n",
       "    }\n",
       "</style>\n",
       "<table border=\"1\" class=\"dataframe\">\n",
       "  <thead>\n",
       "    <tr style=\"text-align: right;\">\n",
       "      <th></th>\n",
       "      <th>NUM_DOC_DEST</th>\n",
       "      <th>N_TRANS</th>\n",
       "      <th>VAL_UNIT_MEDIO</th>\n",
       "      <th>VOLUME_COMPRA_MEDIO</th>\n",
       "      <th>CESTA_PROD_DIFER</th>\n",
       "      <th>seg</th>\n",
       "    </tr>\n",
       "  </thead>\n",
       "  <tbody>\n",
       "    <tr>\n",
       "      <th>0</th>\n",
       "      <td>93209765032582</td>\n",
       "      <td>3847</td>\n",
       "      <td>21.188510626992255</td>\n",
       "      <td>3171.2399272160123</td>\n",
       "      <td>266</td>\n",
       "      <td>I</td>\n",
       "    </tr>\n",
       "    <tr>\n",
       "      <th>1</th>\n",
       "      <td>13004510017235</td>\n",
       "      <td>8293</td>\n",
       "      <td>20.919979153356135</td>\n",
       "      <td>295.0801881104546</td>\n",
       "      <td>244</td>\n",
       "      <td>I</td>\n",
       "    </tr>\n",
       "    <tr>\n",
       "      <th>2</th>\n",
       "      <td>06966628000122</td>\n",
       "      <td>1115</td>\n",
       "      <td>19.182569216795695</td>\n",
       "      <td>264.914798206278</td>\n",
       "      <td>103</td>\n",
       "      <td>I</td>\n",
       "    </tr>\n",
       "    <tr>\n",
       "      <th>3</th>\n",
       "      <td>30029774000106</td>\n",
       "      <td>232</td>\n",
       "      <td>14.686313469827589</td>\n",
       "      <td>62.5</td>\n",
       "      <td>56</td>\n",
       "      <td>I</td>\n",
       "    </tr>\n",
       "    <tr>\n",
       "      <th>4</th>\n",
       "      <td>32860231000676</td>\n",
       "      <td>2149</td>\n",
       "      <td>3.087029304447976</td>\n",
       "      <td>836.3192182410423</td>\n",
       "      <td>157</td>\n",
       "      <td>I</td>\n",
       "    </tr>\n",
       "  </tbody>\n",
       "</table>\n",
       "</div>"
      ],
      "text/plain": [
       "     NUM_DOC_DEST N_TRANS      VAL_UNIT_MEDIO VOLUME_COMPRA_MEDIO  \\\n",
       "0  93209765032582    3847  21.188510626992255  3171.2399272160123   \n",
       "1  13004510017235    8293  20.919979153356135   295.0801881104546   \n",
       "2  06966628000122    1115  19.182569216795695    264.914798206278   \n",
       "3  30029774000106     232  14.686313469827589                62.5   \n",
       "4  32860231000676    2149   3.087029304447976   836.3192182410423   \n",
       "\n",
       "  CESTA_PROD_DIFER seg  \n",
       "0              266   I  \n",
       "1              244   I  \n",
       "2              103   I  \n",
       "3               56   I  \n",
       "4              157   I  "
      ]
     },
     "execution_count": 51,
     "metadata": {},
     "output_type": "execute_result"
    }
   ],
   "source": [
    "df.head()"
   ]
  },
  {
   "cell_type": "code",
   "execution_count": 6,
   "id": "68ac8093",
   "metadata": {},
   "outputs": [
    {
     "name": "stdout",
     "output_type": "stream",
     "text": [
      "<class 'pandas.core.frame.DataFrame'>\n",
      "RangeIndex: 3699 entries, 0 to 3698\n",
      "Data columns (total 7 columns):\n",
      " #   Column               Non-Null Count  Dtype \n",
      "---  ------               --------------  ----- \n",
      " 0   NUM_DOC_DEST         3699 non-null   object\n",
      " 1   N_TRANS              3699 non-null   object\n",
      " 2   VAL_UNIT_MEDIO       3699 non-null   object\n",
      " 3   VOLUME_COMPRA_MEDIO  3699 non-null   object\n",
      " 4   CESTA_PROD_DIFER     3699 non-null   object\n",
      " 5   GRUPO_PROD_DIFER     3699 non-null   object\n",
      " 6   seg                  3699 non-null   object\n",
      "dtypes: object(7)\n",
      "memory usage: 202.4+ KB\n"
     ]
    }
   ],
   "source": [
    "df.info()"
   ]
  },
  {
   "cell_type": "markdown",
   "id": "bc611192",
   "metadata": {},
   "source": [
    "### 1.1 Data Dimensions <a class=\"anchor\" id=\"datadim\"></a>"
   ]
  },
  {
   "cell_type": "code",
   "execution_count": 7,
   "id": "be88ed3e",
   "metadata": {},
   "outputs": [
    {
     "name": "stdout",
     "output_type": "stream",
     "text": [
      "Number of Rows: 3699\n",
      "Number of Cols: 7\n"
     ]
    }
   ],
   "source": [
    "print( 'Number of Rows: {}'.format( df.shape[0] ) )\n",
    "print( 'Number of Cols: {}'.format( df.shape[1] ) )"
   ]
  },
  {
   "cell_type": "markdown",
   "id": "4541ebc3",
   "metadata": {},
   "source": [
    "### 1.2 Data Types <a class=\"anchor\" id=\"datatyp\"></a>"
   ]
  },
  {
   "cell_type": "code",
   "execution_count": 9,
   "id": "eb556406",
   "metadata": {},
   "outputs": [
    {
     "data": {
      "text/plain": [
       "NUM_DOC_DEST           object\n",
       "N_TRANS                object\n",
       "VAL_UNIT_MEDIO         object\n",
       "VOLUME_COMPRA_MEDIO    object\n",
       "CESTA_PROD_DIFER       object\n",
       "GRUPO_PROD_DIFER       object\n",
       "seg                    object\n",
       "dtype: object"
      ]
     },
     "execution_count": 9,
     "metadata": {},
     "output_type": "execute_result"
    }
   ],
   "source": [
    "df.dtypes"
   ]
  },
  {
   "cell_type": "markdown",
   "id": "6d87e2b5",
   "metadata": {},
   "source": [
    "### 1.3 Check NA<a class=\"anchor\" id=\"checkna\"></a>"
   ]
  },
  {
   "cell_type": "code",
   "execution_count": 10,
   "id": "5bf7cba8",
   "metadata": {},
   "outputs": [
    {
     "data": {
      "text/plain": [
       "NUM_DOC_DEST           0\n",
       "N_TRANS                0\n",
       "VAL_UNIT_MEDIO         0\n",
       "VOLUME_COMPRA_MEDIO    0\n",
       "CESTA_PROD_DIFER       0\n",
       "GRUPO_PROD_DIFER       0\n",
       "seg                    0\n",
       "dtype: int64"
      ]
     },
     "execution_count": 10,
     "metadata": {},
     "output_type": "execute_result"
    }
   ],
   "source": [
    "df.isna().sum()"
   ]
  },
  {
   "cell_type": "markdown",
   "id": "43bbb9fb",
   "metadata": {},
   "source": [
    "### 1.4 Change data types <a class=\"anchor\" id=\"changetypes\"></a>"
   ]
  },
  {
   "cell_type": "code",
   "execution_count": 60,
   "id": "44f44a6f",
   "metadata": {},
   "outputs": [
    {
     "data": {
      "text/plain": [
       "NUM_DOC_DEST            object\n",
       "N_TRANS                  int32\n",
       "VAL_UNIT_MEDIO         float64\n",
       "VOLUME_COMPRA_MEDIO    float64\n",
       "CESTA_PROD_DIFER         int32\n",
       "seg                     object\n",
       "dtype: object"
      ]
     },
     "execution_count": 60,
     "metadata": {},
     "output_type": "execute_result"
    }
   ],
   "source": [
    "df['N_TRANS'] = df['N_TRANS'].astype( int )\n",
    "\n",
    "# VAL_UN_COMPRA: VALOR UNITÁRIO PAGO PELA COMPRA\n",
    "df['VAL_UNIT_MEDIO'] = df['VAL_UNIT_MEDIO'].astype( float )\n",
    "df['VAL_UNIT_MEDIO'] = df['VAL_UNIT_MEDIO'].round(decimals = 2)\n",
    "\n",
    "# VAL_BRUTO: VAL_UN_COMPRA X NUM_QTD_COMPRA\n",
    "df['VOLUME_COMPRA_MEDIO'] = df['VOLUME_COMPRA_MEDIO'].astype( float )\n",
    "df['VOLUME_COMPRA_MEDIO'] = df['VOLUME_COMPRA_MEDIO'].round(decimals = 2)\n",
    "\n",
    "df['CESTA_PROD_DIFER'] = df['CESTA_PROD_DIFER'].astype( int )\n",
    "\n",
    "df.dtypes"
   ]
  },
  {
   "cell_type": "markdown",
   "id": "e2307762",
   "metadata": {},
   "source": [
    "### 1.5 Descriptive statistics <a class=\"anchor\" id=\"descrstats\"></a>"
   ]
  },
  {
   "cell_type": "code",
   "execution_count": 61,
   "id": "9dcf4a51",
   "metadata": {},
   "outputs": [],
   "source": [
    "num_attributes = df.select_dtypes( include=['int32', 'float64'] )\n",
    "cat_attributes = df.select_dtypes( exclude=['int32', 'float64','datetime64[ns]'] )"
   ]
  },
  {
   "cell_type": "markdown",
   "id": "c56a011a",
   "metadata": {},
   "source": [
    "### 1.6 Numerical atributes <a class=\"anchor\" id=\"numstats\"></a>"
   ]
  },
  {
   "cell_type": "code",
   "execution_count": 62,
   "id": "f4cabddf",
   "metadata": {},
   "outputs": [
    {
     "data": {
      "text/html": [
       "<div>\n",
       "<style scoped>\n",
       "    .dataframe tbody tr th:only-of-type {\n",
       "        vertical-align: middle;\n",
       "    }\n",
       "\n",
       "    .dataframe tbody tr th {\n",
       "        vertical-align: top;\n",
       "    }\n",
       "\n",
       "    .dataframe thead th {\n",
       "        text-align: right;\n",
       "    }\n",
       "</style>\n",
       "<table border=\"1\" class=\"dataframe\">\n",
       "  <thead>\n",
       "    <tr style=\"text-align: right;\">\n",
       "      <th></th>\n",
       "      <th>attributes</th>\n",
       "      <th>min</th>\n",
       "      <th>max</th>\n",
       "      <th>range</th>\n",
       "      <th>mean</th>\n",
       "      <th>median</th>\n",
       "      <th>std</th>\n",
       "      <th>skew</th>\n",
       "      <th>kurtosis</th>\n",
       "    </tr>\n",
       "  </thead>\n",
       "  <tbody>\n",
       "    <tr>\n",
       "      <th>0</th>\n",
       "      <td>N_TRANS</td>\n",
       "      <td>1.00</td>\n",
       "      <td>8752.00</td>\n",
       "      <td>8751.00</td>\n",
       "      <td>390.512301</td>\n",
       "      <td>151.00</td>\n",
       "      <td>717.239176</td>\n",
       "      <td>4.746505</td>\n",
       "      <td>32.516963</td>\n",
       "    </tr>\n",
       "    <tr>\n",
       "      <th>1</th>\n",
       "      <td>VAL_UNIT_MEDIO</td>\n",
       "      <td>0.57</td>\n",
       "      <td>104.89</td>\n",
       "      <td>104.32</td>\n",
       "      <td>17.032476</td>\n",
       "      <td>12.81</td>\n",
       "      <td>15.389505</td>\n",
       "      <td>1.648951</td>\n",
       "      <td>3.817230</td>\n",
       "    </tr>\n",
       "    <tr>\n",
       "      <th>2</th>\n",
       "      <td>VOLUME_COMPRA_MEDIO</td>\n",
       "      <td>10.00</td>\n",
       "      <td>9604.96</td>\n",
       "      <td>9594.96</td>\n",
       "      <td>224.864388</td>\n",
       "      <td>112.33</td>\n",
       "      <td>496.712648</td>\n",
       "      <td>7.970708</td>\n",
       "      <td>90.182047</td>\n",
       "    </tr>\n",
       "    <tr>\n",
       "      <th>3</th>\n",
       "      <td>CESTA_PROD_DIFER</td>\n",
       "      <td>1.00</td>\n",
       "      <td>332.00</td>\n",
       "      <td>331.00</td>\n",
       "      <td>40.104893</td>\n",
       "      <td>24.00</td>\n",
       "      <td>46.810880</td>\n",
       "      <td>2.326335</td>\n",
       "      <td>6.224756</td>\n",
       "    </tr>\n",
       "  </tbody>\n",
       "</table>\n",
       "</div>"
      ],
      "text/plain": [
       "            attributes    min      max    range        mean  median  \\\n",
       "0              N_TRANS   1.00  8752.00  8751.00  390.512301  151.00   \n",
       "1       VAL_UNIT_MEDIO   0.57   104.89   104.32   17.032476   12.81   \n",
       "2  VOLUME_COMPRA_MEDIO  10.00  9604.96  9594.96  224.864388  112.33   \n",
       "3     CESTA_PROD_DIFER   1.00   332.00   331.00   40.104893   24.00   \n",
       "\n",
       "          std      skew   kurtosis  \n",
       "0  717.239176  4.746505  32.516963  \n",
       "1   15.389505  1.648951   3.817230  \n",
       "2  496.712648  7.970708  90.182047  \n",
       "3   46.810880  2.326335   6.224756  "
      ]
     },
     "execution_count": 62,
     "metadata": {},
     "output_type": "execute_result"
    }
   ],
   "source": [
    "# Central Tendency - mean, meadina\n",
    "ct1 = pd.DataFrame( num_attributes.apply( np.mean ) ).T\n",
    "ct2 = pd.DataFrame( num_attributes.apply( np.median ) ).T\n",
    "\n",
    "# dispersion - std, min, max, range, skew, kurtosis\n",
    "d1 = pd.DataFrame( num_attributes.apply( np.std ) ).T\n",
    "d2 = pd.DataFrame( num_attributes.apply( min ) ).T\n",
    "d3 = pd.DataFrame( num_attributes.apply( max ) ).T\n",
    "d4 = pd.DataFrame( num_attributes.apply( lambda x: x.max() - x.min() ) ).T\n",
    "d5 = pd.DataFrame( num_attributes.apply( lambda x: x.skew() ) ).T\n",
    "d6 = pd.DataFrame( num_attributes.apply( lambda x: x.kurtosis() ) ).T\n",
    "\n",
    "# concatenar\n",
    "m = pd.concat( [d2, d3, d4, ct1, ct2, d1, d5, d6] ).T.reset_index()\n",
    "m.columns = ['attributes', 'min', 'max', 'range', 'mean', 'median', 'std','skew', 'kurtosis']\n",
    "m"
   ]
  },
  {
   "cell_type": "code",
   "execution_count": 16,
   "id": "55f1058f",
   "metadata": {},
   "outputs": [
    {
     "data": {
      "text/plain": [
       "<AxesSubplot:xlabel='N_TRANS', ylabel='Count'>"
      ]
     },
     "execution_count": 16,
     "metadata": {},
     "output_type": "execute_result"
    },
    {
     "data": {
      "image/png": "[encoded data removed]",
      "text/plain": [
       "<Figure size 432x288 with 1 Axes>"
      ]
     },
     "metadata": {
      "needs_background": "light"
     },
     "output_type": "display_data"
    }
   ],
   "source": [
    "sns.histplot( df['N_TRANS'], kde=False )"
   ]
  },
  {
   "cell_type": "markdown",
   "id": "ec2f9268",
   "metadata": {},
   "source": [
    "### FEATURE ENGINEERING <a class=\"anchor\" id=\"hipotes\"></a>\n",
    "\n",
    "- Canais de distribuição:\n",
    "\n",
    "Segmento I - Supermercados com 5 ou mais checkouts\n",
    "\n",
    "Segmento II - Supermercados com 4 ou menos checkouts (mercadinhos, mercearias, etc)\n",
    "\n",
    "Segmento III - Bares, restaurantes, padarias, etc.\n",
    "\n",
    "**Hipóteses**:\n",
    "\n",
    "- H1: VALOR UNITÁRIO MÉDIO DE COMPRA: É esperado um valor unitário da compra maior de empresas no segmento 3 do que nos segmentos 1 e 2? \n",
    "\n",
    "\n",
    "\n",
    "- H2. QUANTIDADE COMPRADA: É esperado um volume médio de compras maior por empresas do segmento 1 do que de outros segmentos?\n",
    "\n",
    "\n",
    "\n",
    "- H3. CESTA DE PRODUTOS DIFERENTES: é esperado um mix de produtos maior no segmento 1 do que nos segmentos 2 e 3? \n",
    "\n",
    "\n",
    "\n",
    "- H4. TRANSAÇÕES EFETUADAS: É esperado um número de compras realizadas maior no segmento 1 do que em outros segmentos?\n",
    "\n",
    "...\n"
   ]
  },
  {
   "cell_type": "markdown",
   "id": "fd1a46ae",
   "metadata": {},
   "source": [
    "### ANÁLISE EXPLORATÓRIA DE DADOS <a class=\"anchor\" id=\"prep\"></a>\n",
    "\n",
    "Objetivos:\n",
    "\n",
    "- Validar hipóteses (insights)\n",
    "\n",
    "- Perceber variáveis que são importantes para o modelo"
   ]
  },
  {
   "cell_type": "markdown",
   "id": "587a4e7d",
   "metadata": {},
   "source": [
    "### Distribuição da variável target\n",
    "\n",
    "> Cerca de 2% da coluna SEGMENTO não estão classificados em I, II ou III. Nosso problema consiste em classificar esses dados."
   ]
  },
  {
   "cell_type": "code",
   "execution_count": 64,
   "id": "cb616cbd",
   "metadata": {},
   "outputs": [
    {
     "data": {
      "image/png": "[encoded data removed]",
      "text/plain": [
       "<Figure size 1080x432 with 2 Axes>"
      ]
     },
     "metadata": {
      "needs_background": "light"
     },
     "output_type": "display_data"
    }
   ],
   "source": [
    "features = df.copy()\n",
    "fig, ax=plt.subplots(1,2,figsize=(15,6))\n",
    "_ = sns.countplot(x='seg', data=features, ax=ax[0])\n",
    "_ = features['seg'].value_counts().plot.pie(autopct=\"%1.1f%%\", ax=ax[1])"
   ]
  },
  {
   "cell_type": "code",
   "execution_count": 65,
   "id": "443ef5f1",
   "metadata": {},
   "outputs": [
    {
     "name": "stdout",
     "output_type": "stream",
     "text": [
      "<class 'pandas.core.frame.DataFrame'>\n",
      "RangeIndex: 3699 entries, 0 to 3698\n",
      "Data columns (total 6 columns):\n",
      " #   Column               Non-Null Count  Dtype  \n",
      "---  ------               --------------  -----  \n",
      " 0   NUM_DOC_DEST         3699 non-null   object \n",
      " 1   N_TRANS              3699 non-null   int32  \n",
      " 2   VAL_UNIT_MEDIO       3699 non-null   float64\n",
      " 3   VOLUME_COMPRA_MEDIO  3699 non-null   float64\n",
      " 4   CESTA_PROD_DIFER     3699 non-null   int32  \n",
      " 5   seg                  3699 non-null   object \n",
      "dtypes: float64(2), int32(2), object(2)\n",
      "memory usage: 144.6+ KB\n"
     ]
    }
   ],
   "source": [
    "features.info()"
   ]
  },
  {
   "cell_type": "code",
   "execution_count": 66,
   "id": "89f29346",
   "metadata": {},
   "outputs": [
    {
     "data": {
      "image/png": "[encoded data removed]",
      "text/plain": [
       "<Figure size 800x345.6 with 6 Axes>"
      ]
     },
     "metadata": {
      "needs_background": "light"
     },
     "output_type": "display_data"
    }
   ],
   "source": [
    "plt.rcParams[\"figure.figsize\"] = (800/72., 4.8)\n",
    "num_attributes.hist( bins=25, layout=(2,3) );"
   ]
  },
  {
   "cell_type": "markdown",
   "id": "c1632781",
   "metadata": {},
   "source": [
    " - Análise bivariada:\n",
    " \n",
    " H1: É esperado um valor unitário da compra maior de empresas no segmento 3 do que nos segmentos 1 e 2? Por outras palavras, empresas nesse canal de distribuição (bares e restaurantes) pagam um preço unitário médio maior do que nos outros segmentos?\n",
    " \n",
    " "
   ]
  },
  {
   "cell_type": "code",
   "execution_count": 68,
   "id": "0c272b38",
   "metadata": {},
   "outputs": [
    {
     "data": {
      "text/plain": [
       "<AxesSubplot:xlabel='VAL_UNIT_MEDIO', ylabel='Density'>"
      ]
     },
     "execution_count": 68,
     "metadata": {},
     "output_type": "execute_result"
    },
    {
     "data": {
      "image/png": "[encoded data removed]",
      "text/plain": [
       "<Figure size 800x345.6 with 1 Axes>"
      ]
     },
     "metadata": {
      "needs_background": "light"
     },
     "output_type": "display_data"
    }
   ],
   "source": [
    "plt.rcParams[\"figure.figsize\"] = (800/72., 4.8)\n",
    "plt.subplot( 3, 1, 1 )\n",
    "sns.kdeplot( features[features['seg'] == 'I']['VAL_UNIT_MEDIO'], label='SEGMENTO I', shade=True, color = 'green')\n",
    "sns.kdeplot( features[features['seg'] == 'II']['VAL_UNIT_MEDIO'], label='SEGMENTO II', shade=True, color = 'red' )"
   ]
  },
  {
   "cell_type": "code",
   "execution_count": 76,
   "id": "86653477",
   "metadata": {},
   "outputs": [
    {
     "data": {
      "text/plain": [
       "<AxesSubplot:xlabel='VAL_UNIT_MEDIO', ylabel='Density'>"
      ]
     },
     "execution_count": 76,
     "metadata": {},
     "output_type": "execute_result"
    },
    {
     "data": {
      "image/png": "[encoded data removed]",
      "text/plain": [
       "<Figure size 800x345.6 with 1 Axes>"
      ]
     },
     "metadata": {
      "needs_background": "light"
     },
     "output_type": "display_data"
    }
   ],
   "source": [
    "plt.subplot( 3, 1, 1 )\n",
    "sns.kdeplot( features1[features1['SEGMENTO'] == 'I']['VAL_UNIT_MEDIO'], label='SEGMENTO I', shade=True, color = 'green' )\n",
    "sns.kdeplot( features1[features1['SEGMENTO'] == 'III']['VAL_UNIT_MEDIO'], label='SEGMENTO III', shade=True , color = 'blue')"
   ]
  },
  {
   "cell_type": "code",
   "execution_count": 84,
   "id": "2bfb0ace",
   "metadata": {},
   "outputs": [
    {
     "data": {
      "text/plain": [
       "<AxesSubplot:xlabel='VAL_UNIT_MEDIO', ylabel='Density'>"
      ]
     },
     "execution_count": 84,
     "metadata": {},
     "output_type": "execute_result"
    },
    {
     "data": {
      "image/png": "[encoded data removed]",
      "text/plain": [
       "<Figure size 800x345.6 with 1 Axes>"
      ]
     },
     "metadata": {
      "needs_background": "light"
     },
     "output_type": "display_data"
    }
   ],
   "source": [
    "plt.subplot( 3, 1, 1 )\n",
    "sns.kdeplot( VAL_UNIT_MEDIO[features1['SEGMENTO'] == 'II']['VAL_UNIT_MEDIO'], label='SEGMENTO II', shade=True, color = 'red' )\n",
    "sns.kdeplot( features1[features1['SEGMENTO'] == 'III']['VAL_UNIT_MEDIO'], label='SEGMENTO III', shade=True, color = 'blue' )"
   ]
  },
  {
   "cell_type": "markdown",
   "id": "3c63f464",
   "metadata": {},
   "source": [
    "### DATA PREPARATION <a class=\"anchor\" id=\"prep\"></a>\n",
    "\n",
    "> O aprendizado da maioria dos algoritmos de ML é facilitado por dados numéricos, na mesma escala."
   ]
  },
  {
   "cell_type": "markdown",
   "id": "f3d41f12",
   "metadata": {},
   "source": [
    "- Normalização: reescala o centro para zero com desvio-padrao igual a 1.\n",
    "\n",
    "\n",
    "- Rescaling: reescala para o intervalo 0 e 1 (distribuições não Gaussianas):\n",
    "\n",
    "\n",
    "    - Min-Max Scaler: utiliza o range\n",
    "    - Robust Scaler: utiliza o IQR\n",
    "\n",
    "\n",
    "- Transformação: conversão da feature categórica para numérica - encoding - e de natureza."
   ]
  },
  {
   "cell_type": "code",
   "execution_count": 69,
   "id": "99ac3ac7",
   "metadata": {},
   "outputs": [
    {
     "data": {
      "text/html": [
       "<div>\n",
       "<style scoped>\n",
       "    .dataframe tbody tr th:only-of-type {\n",
       "        vertical-align: middle;\n",
       "    }\n",
       "\n",
       "    .dataframe tbody tr th {\n",
       "        vertical-align: top;\n",
       "    }\n",
       "\n",
       "    .dataframe thead th {\n",
       "        text-align: right;\n",
       "    }\n",
       "</style>\n",
       "<table border=\"1\" class=\"dataframe\">\n",
       "  <thead>\n",
       "    <tr style=\"text-align: right;\">\n",
       "      <th></th>\n",
       "      <th>count</th>\n",
       "      <th>mean</th>\n",
       "      <th>std</th>\n",
       "      <th>min</th>\n",
       "      <th>25%</th>\n",
       "      <th>50%</th>\n",
       "      <th>75%</th>\n",
       "      <th>max</th>\n",
       "    </tr>\n",
       "  </thead>\n",
       "  <tbody>\n",
       "    <tr>\n",
       "      <th>N_TRANS</th>\n",
       "      <td>3699.0</td>\n",
       "      <td>390.512301</td>\n",
       "      <td>717.336147</td>\n",
       "      <td>1.00</td>\n",
       "      <td>42.000</td>\n",
       "      <td>151.00</td>\n",
       "      <td>412.000</td>\n",
       "      <td>8752.00</td>\n",
       "    </tr>\n",
       "    <tr>\n",
       "      <th>VAL_UNIT_MEDIO</th>\n",
       "      <td>3699.0</td>\n",
       "      <td>17.032476</td>\n",
       "      <td>15.391585</td>\n",
       "      <td>0.57</td>\n",
       "      <td>4.885</td>\n",
       "      <td>12.81</td>\n",
       "      <td>24.955</td>\n",
       "      <td>104.89</td>\n",
       "    </tr>\n",
       "    <tr>\n",
       "      <th>VOLUME_COMPRA_MEDIO</th>\n",
       "      <td>3699.0</td>\n",
       "      <td>224.864388</td>\n",
       "      <td>496.779803</td>\n",
       "      <td>10.00</td>\n",
       "      <td>40.000</td>\n",
       "      <td>112.33</td>\n",
       "      <td>210.635</td>\n",
       "      <td>9604.96</td>\n",
       "    </tr>\n",
       "    <tr>\n",
       "      <th>CESTA_PROD_DIFER</th>\n",
       "      <td>3699.0</td>\n",
       "      <td>40.104893</td>\n",
       "      <td>46.817209</td>\n",
       "      <td>1.00</td>\n",
       "      <td>11.000</td>\n",
       "      <td>24.00</td>\n",
       "      <td>51.000</td>\n",
       "      <td>332.00</td>\n",
       "    </tr>\n",
       "  </tbody>\n",
       "</table>\n",
       "</div>"
      ],
      "text/plain": [
       "                      count        mean         std    min     25%     50%  \\\n",
       "N_TRANS              3699.0  390.512301  717.336147   1.00  42.000  151.00   \n",
       "VAL_UNIT_MEDIO       3699.0   17.032476   15.391585   0.57   4.885   12.81   \n",
       "VOLUME_COMPRA_MEDIO  3699.0  224.864388  496.779803  10.00  40.000  112.33   \n",
       "CESTA_PROD_DIFER     3699.0   40.104893   46.817209   1.00  11.000   24.00   \n",
       "\n",
       "                         75%      max  \n",
       "N_TRANS              412.000  8752.00  \n",
       "VAL_UNIT_MEDIO        24.955   104.89  \n",
       "VOLUME_COMPRA_MEDIO  210.635  9604.96  \n",
       "CESTA_PROD_DIFER      51.000   332.00  "
      ]
     },
     "execution_count": 69,
     "metadata": {},
     "output_type": "execute_result"
    }
   ],
   "source": [
    "features.describe().T"
   ]
  },
  {
   "cell_type": "code",
   "execution_count": 70,
   "id": "e875ecd5",
   "metadata": {},
   "outputs": [
    {
     "data": {
      "text/plain": [
       "<AxesSubplot:xlabel='seg', ylabel='N_TRANS'>"
      ]
     },
     "execution_count": 70,
     "metadata": {},
     "output_type": "execute_result"
    },
    {
     "data": {
      "image/png": "[encoded data removed]",
      "text/plain": [
       "<Figure size 800x345.6 with 1 Axes>"
      ]
     },
     "metadata": {
      "needs_background": "light"
     },
     "output_type": "display_data"
    }
   ],
   "source": [
    "sns.boxplot( x='seg', y='N_TRANS', data=features )"
   ]
  },
  {
   "cell_type": "code",
   "execution_count": 28,
   "id": "80cbf73c",
   "metadata": {},
   "outputs": [
    {
     "data": {
      "text/plain": [
       "<AxesSubplot:xlabel='seg', ylabel='VAL_UNIT_MEDIO'>"
      ]
     },
     "execution_count": 28,
     "metadata": {},
     "output_type": "execute_result"
    },
    {
     "data": {
      "image/png": "[encoded data removed]",
      "text/plain": [
       "<Figure size 800x345.6 with 1 Axes>"
      ]
     },
     "metadata": {
      "needs_background": "light"
     },
     "output_type": "display_data"
    }
   ],
   "source": [
    "sns.boxplot( x='seg', y='VAL_UNIT_MEDIO', data=features )"
   ]
  },
  {
   "cell_type": "code",
   "execution_count": 29,
   "id": "4c0dbaa9",
   "metadata": {},
   "outputs": [
    {
     "data": {
      "text/plain": [
       "<AxesSubplot:xlabel='seg', ylabel='VOLUME_COMPRA_MEDIO'>"
      ]
     },
     "execution_count": 29,
     "metadata": {},
     "output_type": "execute_result"
    },
    {
     "data": {
      "image/png": "[encoded data removed]",
      "text/plain": [
       "<Figure size 800x345.6 with 1 Axes>"
      ]
     },
     "metadata": {
      "needs_background": "light"
     },
     "output_type": "display_data"
    }
   ],
   "source": [
    "sns.boxplot( x='seg', y='VOLUME_COMPRA_MEDIO', data=features )"
   ]
  },
  {
   "cell_type": "code",
   "execution_count": 32,
   "id": "6351110b",
   "metadata": {},
   "outputs": [
    {
     "data": {
      "text/plain": [
       "<AxesSubplot:xlabel='seg', ylabel='CESTA_PROD_DIFER'>"
      ]
     },
     "execution_count": 32,
     "metadata": {},
     "output_type": "execute_result"
    },
    {
     "data": {
      "image/png": "[encoded data removed]",
      "text/plain": [
       "<Figure size 800x345.6 with 1 Axes>"
      ]
     },
     "metadata": {
      "needs_background": "light"
     },
     "output_type": "display_data"
    }
   ],
   "source": [
    "sns.boxplot( x='seg', y='CESTA_PROD_DIFER', data=features )"
   ]
  },
  {
   "cell_type": "code",
   "execution_count": 35,
   "id": "f59ed371",
   "metadata": {},
   "outputs": [
    {
     "data": {
      "text/plain": [
       "<AxesSubplot:xlabel='seg', ylabel='GRUPO_PROD_DIFER'>"
      ]
     },
     "execution_count": 35,
     "metadata": {},
     "output_type": "execute_result"
    },
    {
     "data": {
      "image/png": "[encoded data removed]",
      "text/plain": [
       "<Figure size 800x345.6 with 1 Axes>"
      ]
     },
     "metadata": {
      "needs_background": "light"
     },
     "output_type": "display_data"
    }
   ],
   "source": [
    "sns.boxplot( x='seg', y='GRUPO_PROD_DIFER', data=features )"
   ]
  },
  {
   "cell_type": "markdown",
   "id": "888fb46a",
   "metadata": {},
   "source": [
    "### Rescaling: Robust Scaler (RS)\n",
    "\n",
    "Vamos utilizar o método RS devido a presença de valores atípicos. "
   ]
  },
  {
   "cell_type": "code",
   "execution_count": 72,
   "id": "0d58b27c",
   "metadata": {},
   "outputs": [],
   "source": [
    "features2 = features.copy()\n",
    "rs = RobustScaler()\n",
    "\n",
    "features2['N_TRANS'] = rs.fit_transform( features2[['N_TRANS']].values )\n",
    "features2['VAL_UNIT_MEDIO'] = rs.fit_transform( features2[['VAL_UNIT_MEDIO']].values )\n",
    "features2['VOLUME_COMPRA_MEDIO'] = rs.fit_transform( features2[['VOLUME_COMPRA_MEDIO']].values )\n",
    "features2['CESTA_PROD_DIFER'] = rs.fit_transform( features2[['CESTA_PROD_DIFER']].values )"
   ]
  },
  {
   "cell_type": "code",
   "execution_count": 73,
   "id": "c966409f",
   "metadata": {},
   "outputs": [
    {
     "data": {
      "text/html": [
       "<div>\n",
       "<style scoped>\n",
       "    .dataframe tbody tr th:only-of-type {\n",
       "        vertical-align: middle;\n",
       "    }\n",
       "\n",
       "    .dataframe tbody tr th {\n",
       "        vertical-align: top;\n",
       "    }\n",
       "\n",
       "    .dataframe thead th {\n",
       "        text-align: right;\n",
       "    }\n",
       "</style>\n",
       "<table border=\"1\" class=\"dataframe\">\n",
       "  <thead>\n",
       "    <tr style=\"text-align: right;\">\n",
       "      <th></th>\n",
       "      <th>count</th>\n",
       "      <th>mean</th>\n",
       "      <th>std</th>\n",
       "      <th>min</th>\n",
       "      <th>25%</th>\n",
       "      <th>50%</th>\n",
       "      <th>75%</th>\n",
       "      <th>max</th>\n",
       "    </tr>\n",
       "  </thead>\n",
       "  <tbody>\n",
       "    <tr>\n",
       "      <th>N_TRANS</th>\n",
       "      <td>3699.0</td>\n",
       "      <td>0.647331</td>\n",
       "      <td>1.938746</td>\n",
       "      <td>-0.405405</td>\n",
       "      <td>-0.294595</td>\n",
       "      <td>0.0</td>\n",
       "      <td>0.705405</td>\n",
       "      <td>23.245946</td>\n",
       "    </tr>\n",
       "    <tr>\n",
       "      <th>VAL_UNIT_MEDIO</th>\n",
       "      <td>3699.0</td>\n",
       "      <td>0.210387</td>\n",
       "      <td>0.766895</td>\n",
       "      <td>-0.609865</td>\n",
       "      <td>-0.394868</td>\n",
       "      <td>0.0</td>\n",
       "      <td>0.605132</td>\n",
       "      <td>4.587942</td>\n",
       "    </tr>\n",
       "    <tr>\n",
       "      <th>VOLUME_COMPRA_MEDIO</th>\n",
       "      <td>3699.0</td>\n",
       "      <td>0.659504</td>\n",
       "      <td>2.911359</td>\n",
       "      <td>-0.599701</td>\n",
       "      <td>-0.423887</td>\n",
       "      <td>0.0</td>\n",
       "      <td>0.576113</td>\n",
       "      <td>55.631201</td>\n",
       "    </tr>\n",
       "    <tr>\n",
       "      <th>CESTA_PROD_DIFER</th>\n",
       "      <td>3699.0</td>\n",
       "      <td>0.402622</td>\n",
       "      <td>1.170430</td>\n",
       "      <td>-0.575000</td>\n",
       "      <td>-0.325000</td>\n",
       "      <td>0.0</td>\n",
       "      <td>0.675000</td>\n",
       "      <td>7.700000</td>\n",
       "    </tr>\n",
       "  </tbody>\n",
       "</table>\n",
       "</div>"
      ],
      "text/plain": [
       "                      count      mean       std       min       25%  50%  \\\n",
       "N_TRANS              3699.0  0.647331  1.938746 -0.405405 -0.294595  0.0   \n",
       "VAL_UNIT_MEDIO       3699.0  0.210387  0.766895 -0.609865 -0.394868  0.0   \n",
       "VOLUME_COMPRA_MEDIO  3699.0  0.659504  2.911359 -0.599701 -0.423887  0.0   \n",
       "CESTA_PROD_DIFER     3699.0  0.402622  1.170430 -0.575000 -0.325000  0.0   \n",
       "\n",
       "                          75%        max  \n",
       "N_TRANS              0.705405  23.245946  \n",
       "VAL_UNIT_MEDIO       0.605132   4.587942  \n",
       "VOLUME_COMPRA_MEDIO  0.576113  55.631201  \n",
       "CESTA_PROD_DIFER     0.675000   7.700000  "
      ]
     },
     "execution_count": 73,
     "metadata": {},
     "output_type": "execute_result"
    }
   ],
   "source": [
    "features2.describe().T"
   ]
  },
  {
   "cell_type": "code",
   "execution_count": 37,
   "id": "794fe629",
   "metadata": {},
   "outputs": [
    {
     "data": {
      "text/html": [
       "<div>\n",
       "<style scoped>\n",
       "    .dataframe tbody tr th:only-of-type {\n",
       "        vertical-align: middle;\n",
       "    }\n",
       "\n",
       "    .dataframe tbody tr th {\n",
       "        vertical-align: top;\n",
       "    }\n",
       "\n",
       "    .dataframe thead th {\n",
       "        text-align: right;\n",
       "    }\n",
       "</style>\n",
       "<table border=\"1\" class=\"dataframe\">\n",
       "  <thead>\n",
       "    <tr style=\"text-align: right;\">\n",
       "      <th></th>\n",
       "      <th>NUM_DOC_DEST</th>\n",
       "      <th>N_TRANS</th>\n",
       "      <th>VAL_UNIT_MEDIO</th>\n",
       "      <th>VOLUME_COMPRA_MEDIO</th>\n",
       "      <th>CESTA_PROD_DIFER</th>\n",
       "      <th>GRUPO_PROD_DIFER</th>\n",
       "      <th>seg</th>\n",
       "    </tr>\n",
       "  </thead>\n",
       "  <tbody>\n",
       "    <tr>\n",
       "      <th>0</th>\n",
       "      <td>93209765032582</td>\n",
       "      <td>9.989189</td>\n",
       "      <td>0.417539</td>\n",
       "      <td>17.926627</td>\n",
       "      <td>6.050</td>\n",
       "      <td>2.166667</td>\n",
       "      <td>I</td>\n",
       "    </tr>\n",
       "    <tr>\n",
       "      <th>1</th>\n",
       "      <td>13004510017235</td>\n",
       "      <td>22.005405</td>\n",
       "      <td>0.404086</td>\n",
       "      <td>1.071000</td>\n",
       "      <td>5.500</td>\n",
       "      <td>2.250000</td>\n",
       "      <td>I</td>\n",
       "    </tr>\n",
       "    <tr>\n",
       "      <th>2</th>\n",
       "      <td>06966628000122</td>\n",
       "      <td>2.605405</td>\n",
       "      <td>0.317389</td>\n",
       "      <td>0.894189</td>\n",
       "      <td>1.975</td>\n",
       "      <td>1.333333</td>\n",
       "      <td>I</td>\n",
       "    </tr>\n",
       "    <tr>\n",
       "      <th>3</th>\n",
       "      <td>30029774000106</td>\n",
       "      <td>0.218919</td>\n",
       "      <td>0.093672</td>\n",
       "      <td>-0.292027</td>\n",
       "      <td>0.800</td>\n",
       "      <td>1.000000</td>\n",
       "      <td>I</td>\n",
       "    </tr>\n",
       "    <tr>\n",
       "      <th>4</th>\n",
       "      <td>32860231000676</td>\n",
       "      <td>5.400000</td>\n",
       "      <td>-0.484305</td>\n",
       "      <td>4.242916</td>\n",
       "      <td>3.325</td>\n",
       "      <td>1.750000</td>\n",
       "      <td>I</td>\n",
       "    </tr>\n",
       "  </tbody>\n",
       "</table>\n",
       "</div>"
      ],
      "text/plain": [
       "     NUM_DOC_DEST    N_TRANS  VAL_UNIT_MEDIO  VOLUME_COMPRA_MEDIO  \\\n",
       "0  93209765032582   9.989189        0.417539            17.926627   \n",
       "1  13004510017235  22.005405        0.404086             1.071000   \n",
       "2  06966628000122   2.605405        0.317389             0.894189   \n",
       "3  30029774000106   0.218919        0.093672            -0.292027   \n",
       "4  32860231000676   5.400000       -0.484305             4.242916   \n",
       "\n",
       "   CESTA_PROD_DIFER  GRUPO_PROD_DIFER seg  \n",
       "0             6.050          2.166667   I  \n",
       "1             5.500          2.250000   I  \n",
       "2             1.975          1.333333   I  \n",
       "3             0.800          1.000000   I  \n",
       "4             3.325          1.750000   I  "
      ]
     },
     "execution_count": 37,
     "metadata": {},
     "output_type": "execute_result"
    }
   ],
   "source": [
    "# after rescaling\n",
    "features2.head()"
   ]
  },
  {
   "cell_type": "code",
   "execution_count": 61,
   "id": "ef8da046",
   "metadata": {},
   "outputs": [
    {
     "data": {
      "text/html": [
       "<div>\n",
       "<style scoped>\n",
       "    .dataframe tbody tr th:only-of-type {\n",
       "        vertical-align: middle;\n",
       "    }\n",
       "\n",
       "    .dataframe tbody tr th {\n",
       "        vertical-align: top;\n",
       "    }\n",
       "\n",
       "    .dataframe thead th {\n",
       "        text-align: right;\n",
       "    }\n",
       "</style>\n",
       "<table border=\"1\" class=\"dataframe\">\n",
       "  <thead>\n",
       "    <tr style=\"text-align: right;\">\n",
       "      <th></th>\n",
       "      <th>NUM_DOC_DEST</th>\n",
       "      <th>N_COMPRAS</th>\n",
       "      <th>VAL_UNIT_MEDIO</th>\n",
       "      <th>VOLUME_COMPRA_MEDIO</th>\n",
       "      <th>CESTA_PROD_DIFER_1</th>\n",
       "      <th>CESTA_PROD_DIFER_2</th>\n",
       "      <th>GRUPO_PROD_DIFER_1</th>\n",
       "      <th>seg</th>\n",
       "    </tr>\n",
       "  </thead>\n",
       "  <tbody>\n",
       "    <tr>\n",
       "      <th>0</th>\n",
       "      <td>12058181000196</td>\n",
       "      <td>668.0</td>\n",
       "      <td>5.460947</td>\n",
       "      <td>146.931138</td>\n",
       "      <td>62.0</td>\n",
       "      <td>0.092814</td>\n",
       "      <td>17.0</td>\n",
       "      <td>II</td>\n",
       "    </tr>\n",
       "    <tr>\n",
       "      <th>1</th>\n",
       "      <td>93209765032582</td>\n",
       "      <td>3847.0</td>\n",
       "      <td>21.188511</td>\n",
       "      <td>3171.239927</td>\n",
       "      <td>266.0</td>\n",
       "      <td>0.069145</td>\n",
       "      <td>36.0</td>\n",
       "      <td>I</td>\n",
       "    </tr>\n",
       "    <tr>\n",
       "      <th>2</th>\n",
       "      <td>13004510017235</td>\n",
       "      <td>8293.0</td>\n",
       "      <td>20.919979</td>\n",
       "      <td>295.080188</td>\n",
       "      <td>244.0</td>\n",
       "      <td>0.029422</td>\n",
       "      <td>37.0</td>\n",
       "      <td>I</td>\n",
       "    </tr>\n",
       "    <tr>\n",
       "      <th>3</th>\n",
       "      <td>01031452000101</td>\n",
       "      <td>170.0</td>\n",
       "      <td>27.170852</td>\n",
       "      <td>167.411765</td>\n",
       "      <td>28.0</td>\n",
       "      <td>0.164706</td>\n",
       "      <td>12.0</td>\n",
       "      <td>III</td>\n",
       "    </tr>\n",
       "    <tr>\n",
       "      <th>4</th>\n",
       "      <td>13964957000108</td>\n",
       "      <td>128.0</td>\n",
       "      <td>20.630894</td>\n",
       "      <td>66.484375</td>\n",
       "      <td>36.0</td>\n",
       "      <td>0.281250</td>\n",
       "      <td>18.0</td>\n",
       "      <td>III</td>\n",
       "    </tr>\n",
       "  </tbody>\n",
       "</table>\n",
       "</div>"
      ],
      "text/plain": [
       "     NUM_DOC_DEST  N_COMPRAS  VAL_UNIT_MEDIO  VOLUME_COMPRA_MEDIO  \\\n",
       "0  12058181000196      668.0        5.460947           146.931138   \n",
       "1  93209765032582     3847.0       21.188511          3171.239927   \n",
       "2  13004510017235     8293.0       20.919979           295.080188   \n",
       "3  01031452000101      170.0       27.170852           167.411765   \n",
       "4  13964957000108      128.0       20.630894            66.484375   \n",
       "\n",
       "   CESTA_PROD_DIFER_1  CESTA_PROD_DIFER_2  GRUPO_PROD_DIFER_1  seg  \n",
       "0                62.0            0.092814                17.0   II  \n",
       "1               266.0            0.069145                36.0    I  \n",
       "2               244.0            0.029422                37.0    I  \n",
       "3                28.0            0.164706                12.0  III  \n",
       "4                36.0            0.281250                18.0  III  "
      ]
     },
     "execution_count": 61,
     "metadata": {},
     "output_type": "execute_result"
    }
   ],
   "source": [
    "# before\n",
    "features.head()"
   ]
  },
  {
   "cell_type": "code",
   "execution_count": 43,
   "id": "a0c92b10",
   "metadata": {},
   "outputs": [
    {
     "data": {
      "image/png": "[encoded data removed]",
      "text/plain": [
       "<Figure size 360x360 with 1 Axes>"
      ]
     },
     "metadata": {
      "needs_background": "light"
     },
     "output_type": "display_data"
    }
   ],
   "source": [
    "sns.displot( features2['N_TRANS'] );"
   ]
  },
  {
   "cell_type": "code",
   "execution_count": 42,
   "id": "56e7919c",
   "metadata": {},
   "outputs": [
    {
     "data": {
      "image/png": "[encoded data removed]",
      "text/plain": [
       "<Figure size 800x345.6 with 1 Axes>"
      ]
     },
     "metadata": {
      "needs_background": "light"
     },
     "output_type": "display_data"
    }
   ],
   "source": [
    "sns.histplot( features2['VAL_UNIT_MEDIO'] );"
   ]
  },
  {
   "cell_type": "code",
   "execution_count": 44,
   "id": "c4d210be",
   "metadata": {},
   "outputs": [
    {
     "data": {
      "image/png": "[encoded data removed]",
      "text/plain": [
       "<Figure size 360x360 with 1 Axes>"
      ]
     },
     "metadata": {
      "needs_background": "light"
     },
     "output_type": "display_data"
    }
   ],
   "source": [
    "sns.displot( features2['CESTA_PROD_DIFER'] );"
   ]
  },
  {
   "cell_type": "markdown",
   "id": "8fac9fd7",
   "metadata": {},
   "source": [
    "### Encoding da variável categórica"
   ]
  },
  {
   "cell_type": "code",
   "execution_count": 74,
   "id": "d6d2c0ae",
   "metadata": {},
   "outputs": [],
   "source": [
    "features3 = features2.copy()\n",
    "\n",
    "# Segmento - Ordinal Encoding\n",
    "segmento_dict = {'I': 1, 'II': 2, 'III': 3}\n",
    "features3['seg'] = features3['seg'].map( segmento_dict );"
   ]
  },
  {
   "cell_type": "code",
   "execution_count": 75,
   "id": "3cb215d2",
   "metadata": {},
   "outputs": [],
   "source": [
    "features3 = features3.drop( 'NUM_DOC_DEST', axis=1 )"
   ]
  },
  {
   "cell_type": "markdown",
   "id": "a716cfd7",
   "metadata": {},
   "source": [
    "### FEATURE SELECTION\n",
    "\n",
    "> The process of reducing the number of input variables when developing a predictive model. \n",
    "It is desirable to reduce the number of input variables to both reduce the computational cost of modeling and, \n",
    "in some cases, to improve the performance of the model.\n",
    "\n",
    "FILTER (before training) X WRAPPER (ocorre após o treinamento e utiliza as estatísticas geradas pelo próprio modelo)\n",
    "\n",
    "- Análise estatítica\n",
    "- Filter: Correlação, ANOVA.\n",
    "- Wrapper: Árvores de decisão (entropia/**gini**), redes neurais (dropout/**relevância**)\n",
    "- Correlação x Relevância\n",
    "- Multicolinearidade -> Análise Discriminante Linear (LDA) ?\n"
   ]
  },
  {
   "cell_type": "markdown",
   "id": "98785e1c",
   "metadata": {},
   "source": [
    "### Dividindo os dados em conjuntos de treinamento, teste e validação\n",
    "\n",
    "#### Setup:\n",
    "    - Full data 100% \n",
    "    - test      20%  -> Generalization!\n",
    "    - training  80%, sendo 80% train + 20% validation -> Aprendizado!"
   ]
  },
  {
   "cell_type": "code",
   "execution_count": 76,
   "id": "940076d1",
   "metadata": {},
   "outputs": [],
   "source": [
    "features4 = features3.copy()\n",
    "\n",
    "class_col = 'seg'\n",
    "my_vars = list(features4.columns[features4.columns != class_col])\n",
    "X = features4[my_vars]\n",
    "X = np.asarray(X).astype('float32')\n",
    "\n",
    "y = features4[[class_col]].values.ravel()\n",
    "\n",
    "# encode class values as integers\n",
    "encoder = LabelEncoder()\n",
    "encoder.fit(y)\n",
    "encoded_Y = encoder.transform(y)\n",
    "# convert integers to dummy variables (i.e. one hot encoded)\n",
    "dummy_y = np_utils.to_categorical(encoded_Y)"
   ]
  },
  {
   "cell_type": "code",
   "execution_count": 77,
   "id": "400cb09c",
   "metadata": {},
   "outputs": [
    {
     "name": "stdout",
     "output_type": "stream",
     "text": [
      "(2367, 4) (2367, 3) (740, 4) (740, 3) (592, 4) (592, 3)\n"
     ]
    }
   ],
   "source": [
    "# # # split training into train and test datset\n",
    "X_train, X_test, y_train, y_test = ms.train_test_split(X, dummy_y, test_size=0.2, random_state=42)\n",
    "\n",
    "# make the second split to create the final training set and the validation set:\n",
    "X_train, X_val, y_train, y_val = ms.train_test_split(X_train, y_train, test_size=0.2)\n",
    "\n",
    "print( X_train.shape, y_train.shape, X_test.shape, y_test.shape, X_val.shape, y_val.shape)"
   ]
  },
  {
   "cell_type": "markdown",
   "id": "01cf1664",
   "metadata": {},
   "source": [
    "# DNN Training"
   ]
  },
  {
   "cell_type": "code",
   "execution_count": null,
   "id": "dda16716",
   "metadata": {},
   "outputs": [],
   "source": [
    "# ==================== 1ª Epoca =======================\n",
    "# foward: dados * pesos -> função de ativação -> predito\n",
    "# real - predito = erro\n",
    "# backpropagation: erro -> derivadas parciais -> update pesos\n",
    "\n",
    "# ==================== 2ª Epoca =======================\n",
    "# foward: dados * pesos -> função de ativação -> predito\n",
    "# real - predito = erro\n",
    "# backpropagation: erro -> derivadas parciais -> update pesos\n",
    "\n",
    "# Até os pesos convergirem..."
   ]
  },
  {
   "cell_type": "markdown",
   "id": "07a13a91",
   "metadata": {},
   "source": [
    "- Definindo o número de neurônios na hidden layer\n",
    "\n",
    "> 'the optimal size of the hidden layer is usually between the size of the input and size of the output layers'. -Jeff Heaton\n",
    "\n",
    "Utilizamos para este fim duas abordagens:\n",
    "\n",
    "1. Grid search (tentativa e erro). Testamos, nesse sentido, várias combinações para chegarmos no melhor resultado; e\n",
    "2. Resultado de pesquisas anteriores em problemas similares serviu para nortear o trabalho. Mais especificamente, o trabalho de [ELDEM et. al (2018)](https://ieeexplore.ieee.org/document/8620866)."
   ]
  },
  {
   "cell_type": "code",
   "execution_count": 78,
   "id": "f72413f0",
   "metadata": {},
   "outputs": [],
   "source": [
    "# define baseline model:\n",
    "model = Sequential()\n",
    "\n",
    "# Add the first hidden layer\n",
    "model.add(Dense(50, activation='relu', input_dim=4))\n",
    "\n",
    "# Add the second hidden layer\n",
    "model.add(Dense(20, activation='relu'))\n",
    "\n",
    "# Add the output layer \n",
    "model.add(Dense(3, activation='softmax'))\n",
    "\n",
    "# Compile the model\n",
    "model.compile(optimizer='adam', loss='categorical_crossentropy', metrics=['accuracy'])"
   ]
  },
  {
   "cell_type": "code",
   "execution_count": 79,
   "id": "e850a17f",
   "metadata": {},
   "outputs": [
    {
     "name": "stdout",
     "output_type": "stream",
     "text": [
      "Epoch 1/300\n",
      "74/74 [==============================] - 2s 4ms/step - loss: 1.0530 - accuracy: 0.4094\n",
      "Epoch 2/300\n",
      "74/74 [==============================] - 0s 4ms/step - loss: 1.0053 - accuracy: 0.5053\n",
      "Epoch 3/300\n",
      "74/74 [==============================] - 0s 4ms/step - loss: 0.9730 - accuracy: 0.5239\n",
      "Epoch 4/300\n",
      "74/74 [==============================] - 0s 4ms/step - loss: 0.9562 - accuracy: 0.5311\n",
      "Epoch 5/300\n",
      "74/74 [==============================] - 0s 5ms/step - loss: 0.9452 - accuracy: 0.5374\n",
      "Epoch 6/300\n",
      "74/74 [==============================] - 0s 4ms/step - loss: 0.9361 - accuracy: 0.5534\n",
      "Epoch 7/300\n",
      "74/74 [==============================] - 0s 4ms/step - loss: 0.9276 - accuracy: 0.5610\n",
      "Epoch 8/300\n",
      "74/74 [==============================] - 0s 4ms/step - loss: 0.9270 - accuracy: 0.5670\n",
      "Epoch 9/300\n",
      "74/74 [==============================] - 0s 4ms/step - loss: 0.9197 - accuracy: 0.5644\n",
      "Epoch 10/300\n",
      "74/74 [==============================] - 0s 4ms/step - loss: 0.9152 - accuracy: 0.5678\n",
      "Epoch 11/300\n",
      "74/74 [==============================] - 0s 5ms/step - loss: 0.9157 - accuracy: 0.5703\n",
      "Epoch 12/300\n",
      "74/74 [==============================] - 0s 5ms/step - loss: 0.9093 - accuracy: 0.5758\n",
      "Epoch 13/300\n",
      "74/74 [==============================] - 0s 4ms/step - loss: 0.9077 - accuracy: 0.5741\n",
      "Epoch 14/300\n",
      "74/74 [==============================] - 0s 5ms/step - loss: 0.9045 - accuracy: 0.5788\n",
      "Epoch 15/300\n",
      "74/74 [==============================] - 0s 4ms/step - loss: 0.9030 - accuracy: 0.5754\n",
      "Epoch 16/300\n",
      "74/74 [==============================] - 0s 4ms/step - loss: 0.9012 - accuracy: 0.5788\n",
      "Epoch 17/300\n",
      "74/74 [==============================] - 0s 4ms/step - loss: 0.8996 - accuracy: 0.5830\n",
      "Epoch 18/300\n",
      "74/74 [==============================] - 0s 5ms/step - loss: 0.8994 - accuracy: 0.5729\n",
      "Epoch 19/300\n",
      "74/74 [==============================] - 0s 4ms/step - loss: 0.8970 - accuracy: 0.5817\n",
      "Epoch 20/300\n",
      "74/74 [==============================] - 0s 5ms/step - loss: 0.8935 - accuracy: 0.5898\n",
      "Epoch 21/300\n",
      "74/74 [==============================] - 0s 5ms/step - loss: 0.8951 - accuracy: 0.5822\n",
      "Epoch 22/300\n",
      "74/74 [==============================] - 0s 4ms/step - loss: 0.8909 - accuracy: 0.5885\n",
      "Epoch 23/300\n",
      "74/74 [==============================] - 0s 4ms/step - loss: 0.8901 - accuracy: 0.5864\n",
      "Epoch 24/300\n",
      "74/74 [==============================] - 0s 5ms/step - loss: 0.8933 - accuracy: 0.5822\n",
      "Epoch 25/300\n",
      "74/74 [==============================] - 0s 4ms/step - loss: 0.8891 - accuracy: 0.5889\n",
      "Epoch 26/300\n",
      "74/74 [==============================] - 0s 5ms/step - loss: 0.8873 - accuracy: 0.5919\n",
      "Epoch 27/300\n",
      "74/74 [==============================] - 0s 4ms/step - loss: 0.8871 - accuracy: 0.5851\n",
      "Epoch 28/300\n",
      "74/74 [==============================] - 0s 4ms/step - loss: 0.8867 - accuracy: 0.5923\n",
      "Epoch 29/300\n",
      "74/74 [==============================] - 0s 4ms/step - loss: 0.8859 - accuracy: 0.5860\n",
      "Epoch 30/300\n",
      "74/74 [==============================] - 0s 5ms/step - loss: 0.8826 - accuracy: 0.5898\n",
      "Epoch 31/300\n",
      "74/74 [==============================] - 0s 4ms/step - loss: 0.8830 - accuracy: 0.5957\n",
      "Epoch 32/300\n",
      "74/74 [==============================] - 0s 4ms/step - loss: 0.8810 - accuracy: 0.5915\n",
      "Epoch 33/300\n",
      "74/74 [==============================] - 0s 4ms/step - loss: 0.8814 - accuracy: 0.6008\n",
      "Epoch 34/300\n",
      "74/74 [==============================] - 0s 4ms/step - loss: 0.8797 - accuracy: 0.5932\n",
      "Epoch 35/300\n",
      "74/74 [==============================] - 0s 4ms/step - loss: 0.8765 - accuracy: 0.5961\n",
      "Epoch 36/300\n",
      "74/74 [==============================] - 0s 4ms/step - loss: 0.8762 - accuracy: 0.5995\n",
      "Epoch 37/300\n",
      "74/74 [==============================] - 0s 4ms/step - loss: 0.8760 - accuracy: 0.5936\n",
      "Epoch 38/300\n",
      "74/74 [==============================] - 0s 4ms/step - loss: 0.8745 - accuracy: 0.5995\n",
      "Epoch 39/300\n",
      "74/74 [==============================] - 0s 4ms/step - loss: 0.8730 - accuracy: 0.5974\n",
      "Epoch 40/300\n",
      "74/74 [==============================] - 0s 4ms/step - loss: 0.8709 - accuracy: 0.5982\n",
      "Epoch 41/300\n",
      "74/74 [==============================] - 0s 4ms/step - loss: 0.8696 - accuracy: 0.6025\n",
      "Epoch 42/300\n",
      "74/74 [==============================] - 0s 4ms/step - loss: 0.8704 - accuracy: 0.5970\n",
      "Epoch 43/300\n",
      "74/74 [==============================] - 0s 4ms/step - loss: 0.8693 - accuracy: 0.5970\n",
      "Epoch 44/300\n",
      "74/74 [==============================] - 0s 4ms/step - loss: 0.8695 - accuracy: 0.6016\n",
      "Epoch 45/300\n",
      "74/74 [==============================] - 0s 4ms/step - loss: 0.8677 - accuracy: 0.6020\n",
      "Epoch 46/300\n",
      "74/74 [==============================] - 0s 4ms/step - loss: 0.8669 - accuracy: 0.6063\n",
      "Epoch 47/300\n",
      "74/74 [==============================] - 0s 4ms/step - loss: 0.8663 - accuracy: 0.5940\n",
      "Epoch 48/300\n",
      "74/74 [==============================] - 0s 4ms/step - loss: 0.8659 - accuracy: 0.6008\n",
      "Epoch 49/300\n",
      "74/74 [==============================] - 0s 4ms/step - loss: 0.8661 - accuracy: 0.6025\n",
      "Epoch 50/300\n",
      "74/74 [==============================] - 0s 5ms/step - loss: 0.8636 - accuracy: 0.6003\n",
      "Epoch 51/300\n",
      "74/74 [==============================] - 0s 4ms/step - loss: 0.8630 - accuracy: 0.5999\n",
      "Epoch 52/300\n",
      "74/74 [==============================] - 0s 4ms/step - loss: 0.8623 - accuracy: 0.6016\n",
      "Epoch 53/300\n",
      "74/74 [==============================] - 0s 4ms/step - loss: 0.8599 - accuracy: 0.6029\n",
      "Epoch 54/300\n",
      "74/74 [==============================] - 0s 4ms/step - loss: 0.8599 - accuracy: 0.6079\n",
      "Epoch 55/300\n",
      "74/74 [==============================] - 0s 4ms/step - loss: 0.8618 - accuracy: 0.6020\n",
      "Epoch 56/300\n",
      "74/74 [==============================] - 0s 4ms/step - loss: 0.8631 - accuracy: 0.6063\n",
      "Epoch 57/300\n",
      "74/74 [==============================] - 0s 4ms/step - loss: 0.8618 - accuracy: 0.6016\n",
      "Epoch 58/300\n",
      "74/74 [==============================] - 0s 4ms/step - loss: 0.8573 - accuracy: 0.6126\n",
      "Epoch 59/300\n",
      "74/74 [==============================] - 0s 4ms/step - loss: 0.8568 - accuracy: 0.6025\n",
      "Epoch 60/300\n",
      "74/74 [==============================] - 0s 4ms/step - loss: 0.8556 - accuracy: 0.6063\n",
      "Epoch 61/300\n",
      "74/74 [==============================] - 0s 5ms/step - loss: 0.8601 - accuracy: 0.6050\n",
      "Epoch 62/300\n",
      "74/74 [==============================] - 0s 4ms/step - loss: 0.8556 - accuracy: 0.6084\n",
      "Epoch 63/300\n",
      "74/74 [==============================] - 0s 4ms/step - loss: 0.8552 - accuracy: 0.6067\n",
      "Epoch 64/300\n",
      "74/74 [==============================] - 0s 4ms/step - loss: 0.8541 - accuracy: 0.6122\n",
      "Epoch 65/300\n",
      "74/74 [==============================] - 0s 4ms/step - loss: 0.8541 - accuracy: 0.6113\n",
      "Epoch 66/300\n",
      "74/74 [==============================] - 0s 4ms/step - loss: 0.8511 - accuracy: 0.6151\n",
      "Epoch 67/300\n",
      "74/74 [==============================] - 0s 4ms/step - loss: 0.8518 - accuracy: 0.6092\n",
      "Epoch 68/300\n",
      "74/74 [==============================] - 0s 4ms/step - loss: 0.8513 - accuracy: 0.6134\n",
      "Epoch 69/300\n",
      "74/74 [==============================] - 0s 4ms/step - loss: 0.8519 - accuracy: 0.6134\n",
      "Epoch 70/300\n",
      "74/74 [==============================] - 0s 5ms/step - loss: 0.8505 - accuracy: 0.6130\n",
      "Epoch 71/300\n",
      "74/74 [==============================] - 0s 4ms/step - loss: 0.8484 - accuracy: 0.6084\n",
      "Epoch 72/300\n",
      "74/74 [==============================] - 0s 5ms/step - loss: 0.8497 - accuracy: 0.6058\n",
      "Epoch 73/300\n",
      "74/74 [==============================] - 0s 5ms/step - loss: 0.8463 - accuracy: 0.6193\n",
      "Epoch 74/300\n",
      "74/74 [==============================] - 0s 4ms/step - loss: 0.8473 - accuracy: 0.6160\n",
      "Epoch 75/300\n",
      "74/74 [==============================] - 0s 4ms/step - loss: 0.8469 - accuracy: 0.6151\n",
      "Epoch 76/300\n",
      "74/74 [==============================] - 0s 5ms/step - loss: 0.8455 - accuracy: 0.6181\n",
      "Epoch 77/300\n",
      "74/74 [==============================] - 0s 5ms/step - loss: 0.8453 - accuracy: 0.6109\n",
      "Epoch 78/300\n",
      "74/74 [==============================] - 0s 4ms/step - loss: 0.8467 - accuracy: 0.6117\n",
      "Epoch 79/300\n",
      "74/74 [==============================] - 0s 4ms/step - loss: 0.8448 - accuracy: 0.6206\n",
      "Epoch 80/300\n",
      "74/74 [==============================] - 0s 4ms/step - loss: 0.8439 - accuracy: 0.6177\n",
      "Epoch 81/300\n",
      "74/74 [==============================] - 0s 4ms/step - loss: 0.8442 - accuracy: 0.6071\n",
      "Epoch 82/300\n",
      "74/74 [==============================] - 0s 5ms/step - loss: 0.8425 - accuracy: 0.6189\n",
      "Epoch 83/300\n"
     ]
    },
    {
     "name": "stdout",
     "output_type": "stream",
     "text": [
      "74/74 [==============================] - 0s 4ms/step - loss: 0.8420 - accuracy: 0.6130\n",
      "Epoch 84/300\n",
      "74/74 [==============================] - 0s 4ms/step - loss: 0.8425 - accuracy: 0.6227\n",
      "Epoch 85/300\n",
      "74/74 [==============================] - 0s 4ms/step - loss: 0.8400 - accuracy: 0.6215\n",
      "Epoch 86/300\n",
      "74/74 [==============================] - 0s 4ms/step - loss: 0.8400 - accuracy: 0.6244\n",
      "Epoch 87/300\n",
      "74/74 [==============================] - 0s 5ms/step - loss: 0.8398 - accuracy: 0.6198\n",
      "Epoch 88/300\n",
      "74/74 [==============================] - 0s 5ms/step - loss: 0.8389 - accuracy: 0.6206\n",
      "Epoch 89/300\n",
      "74/74 [==============================] - 0s 4ms/step - loss: 0.8383 - accuracy: 0.6172\n",
      "Epoch 90/300\n",
      "74/74 [==============================] - 0s 4ms/step - loss: 0.8383 - accuracy: 0.6198\n",
      "Epoch 91/300\n",
      "74/74 [==============================] - 0s 5ms/step - loss: 0.8364 - accuracy: 0.6202\n",
      "Epoch 92/300\n",
      "74/74 [==============================] - 0s 4ms/step - loss: 0.8421 - accuracy: 0.6147\n",
      "Epoch 93/300\n",
      "74/74 [==============================] - 0s 5ms/step - loss: 0.8357 - accuracy: 0.6215\n",
      "Epoch 94/300\n",
      "74/74 [==============================] - 0s 4ms/step - loss: 0.8354 - accuracy: 0.6181\n",
      "Epoch 95/300\n",
      "74/74 [==============================] - 0s 4ms/step - loss: 0.8349 - accuracy: 0.6198\n",
      "Epoch 96/300\n",
      "74/74 [==============================] - 0s 5ms/step - loss: 0.8358 - accuracy: 0.6155\n",
      "Epoch 97/300\n",
      "74/74 [==============================] - 0s 5ms/step - loss: 0.8329 - accuracy: 0.6223\n",
      "Epoch 98/300\n",
      "74/74 [==============================] - 0s 4ms/step - loss: 0.8347 - accuracy: 0.6253\n",
      "Epoch 99/300\n",
      "74/74 [==============================] - 0s 5ms/step - loss: 0.8354 - accuracy: 0.6236\n",
      "Epoch 100/300\n",
      "74/74 [==============================] - 0s 5ms/step - loss: 0.8343 - accuracy: 0.6240\n",
      "Epoch 101/300\n",
      "74/74 [==============================] - 0s 5ms/step - loss: 0.8340 - accuracy: 0.6210\n",
      "Epoch 102/300\n",
      "74/74 [==============================] - 0s 5ms/step - loss: 0.8337 - accuracy: 0.6193\n",
      "Epoch 103/300\n",
      "74/74 [==============================] - 0s 4ms/step - loss: 0.8304 - accuracy: 0.6236\n",
      "Epoch 104/300\n",
      "74/74 [==============================] - 0s 5ms/step - loss: 0.8295 - accuracy: 0.6270\n",
      "Epoch 105/300\n",
      "74/74 [==============================] - 0s 4ms/step - loss: 0.8332 - accuracy: 0.6223\n",
      "Epoch 106/300\n",
      "74/74 [==============================] - 0s 4ms/step - loss: 0.8301 - accuracy: 0.6295\n",
      "Epoch 107/300\n",
      "74/74 [==============================] - 0s 4ms/step - loss: 0.8311 - accuracy: 0.6202\n",
      "Epoch 108/300\n",
      "74/74 [==============================] - 0s 4ms/step - loss: 0.8288 - accuracy: 0.6265\n",
      "Epoch 109/300\n",
      "74/74 [==============================] - 0s 4ms/step - loss: 0.8296 - accuracy: 0.6244\n",
      "Epoch 110/300\n",
      "74/74 [==============================] - 0s 4ms/step - loss: 0.8296 - accuracy: 0.6227\n",
      "Epoch 111/300\n",
      "74/74 [==============================] - 0s 5ms/step - loss: 0.8313 - accuracy: 0.6206\n",
      "Epoch 112/300\n",
      "74/74 [==============================] - 0s 4ms/step - loss: 0.8271 - accuracy: 0.6257\n",
      "Epoch 113/300\n",
      "74/74 [==============================] - 0s 4ms/step - loss: 0.8282 - accuracy: 0.6299\n",
      "Epoch 114/300\n",
      "74/74 [==============================] - 0s 5ms/step - loss: 0.8306 - accuracy: 0.6202\n",
      "Epoch 115/300\n",
      "74/74 [==============================] - 0s 4ms/step - loss: 0.8244 - accuracy: 0.6303\n",
      "Epoch 116/300\n",
      "74/74 [==============================] - 0s 4ms/step - loss: 0.8276 - accuracy: 0.6291\n",
      "Epoch 117/300\n",
      "74/74 [==============================] - 0s 4ms/step - loss: 0.8316 - accuracy: 0.6198\n",
      "Epoch 118/300\n",
      "74/74 [==============================] - 0s 4ms/step - loss: 0.8281 - accuracy: 0.6244\n",
      "Epoch 119/300\n",
      "74/74 [==============================] - 0s 4ms/step - loss: 0.8264 - accuracy: 0.6333\n",
      "Epoch 120/300\n",
      "74/74 [==============================] - 0s 4ms/step - loss: 0.8290 - accuracy: 0.6126\n",
      "Epoch 121/300\n",
      "74/74 [==============================] - 0s 4ms/step - loss: 0.8224 - accuracy: 0.6282\n",
      "Epoch 122/300\n",
      "74/74 [==============================] - 0s 4ms/step - loss: 0.8272 - accuracy: 0.6227\n",
      "Epoch 123/300\n",
      "74/74 [==============================] - 0s 4ms/step - loss: 0.8238 - accuracy: 0.6274\n",
      "Epoch 124/300\n",
      "74/74 [==============================] - 0s 4ms/step - loss: 0.8266 - accuracy: 0.6223\n",
      "Epoch 125/300\n",
      "74/74 [==============================] - 0s 5ms/step - loss: 0.8227 - accuracy: 0.6244\n",
      "Epoch 126/300\n",
      "74/74 [==============================] - 0s 4ms/step - loss: 0.8240 - accuracy: 0.6248\n",
      "Epoch 127/300\n",
      "74/74 [==============================] - 0s 4ms/step - loss: 0.8196 - accuracy: 0.6286\n",
      "Epoch 128/300\n",
      "74/74 [==============================] - 0s 4ms/step - loss: 0.8229 - accuracy: 0.6253\n",
      "Epoch 129/300\n",
      "74/74 [==============================] - 0s 5ms/step - loss: 0.8221 - accuracy: 0.6265\n",
      "Epoch 130/300\n",
      "74/74 [==============================] - 0s 4ms/step - loss: 0.8195 - accuracy: 0.6286\n",
      "Epoch 131/300\n",
      "74/74 [==============================] - 0s 4ms/step - loss: 0.8200 - accuracy: 0.6270\n",
      "Epoch 132/300\n",
      "74/74 [==============================] - 0s 4ms/step - loss: 0.8197 - accuracy: 0.6346\n",
      "Epoch 133/300\n",
      "74/74 [==============================] - 0s 4ms/step - loss: 0.8195 - accuracy: 0.6278\n",
      "Epoch 134/300\n",
      "74/74 [==============================] - 0s 4ms/step - loss: 0.8190 - accuracy: 0.6227\n",
      "Epoch 135/300\n",
      "74/74 [==============================] - 0s 4ms/step - loss: 0.8178 - accuracy: 0.6329\n",
      "Epoch 136/300\n",
      "74/74 [==============================] - 0s 4ms/step - loss: 0.8197 - accuracy: 0.6316\n",
      "Epoch 137/300\n",
      "74/74 [==============================] - 0s 4ms/step - loss: 0.8205 - accuracy: 0.6282\n",
      "Epoch 138/300\n",
      "74/74 [==============================] - 0s 4ms/step - loss: 0.8193 - accuracy: 0.6299\n",
      "Epoch 139/300\n",
      "74/74 [==============================] - 0s 4ms/step - loss: 0.8174 - accuracy: 0.6316\n",
      "Epoch 140/300\n",
      "74/74 [==============================] - 0s 4ms/step - loss: 0.8181 - accuracy: 0.6291\n",
      "Epoch 141/300\n",
      "74/74 [==============================] - 0s 4ms/step - loss: 0.8168 - accuracy: 0.6299\n",
      "Epoch 142/300\n",
      "74/74 [==============================] - 0s 4ms/step - loss: 0.8168 - accuracy: 0.6295\n",
      "Epoch 143/300\n",
      "74/74 [==============================] - 0s 5ms/step - loss: 0.8150 - accuracy: 0.6308\n",
      "Epoch 144/300\n",
      "74/74 [==============================] - 0s 4ms/step - loss: 0.8167 - accuracy: 0.6257\n",
      "Epoch 145/300\n",
      "74/74 [==============================] - 0s 4ms/step - loss: 0.8174 - accuracy: 0.6329\n",
      "Epoch 146/300\n",
      "74/74 [==============================] - 0s 4ms/step - loss: 0.8154 - accuracy: 0.6316\n",
      "Epoch 147/300\n",
      "74/74 [==============================] - 0s 4ms/step - loss: 0.8137 - accuracy: 0.6286\n",
      "Epoch 148/300\n",
      "74/74 [==============================] - 0s 5ms/step - loss: 0.8193 - accuracy: 0.6261\n",
      "Epoch 149/300\n",
      "74/74 [==============================] - 0s 4ms/step - loss: 0.8175 - accuracy: 0.6299\n",
      "Epoch 150/300\n",
      "74/74 [==============================] - 0s 4ms/step - loss: 0.8129 - accuracy: 0.6354\n",
      "Epoch 151/300\n",
      "74/74 [==============================] - 0s 4ms/step - loss: 0.8138 - accuracy: 0.6299\n",
      "Epoch 152/300\n",
      "74/74 [==============================] - 0s 4ms/step - loss: 0.8135 - accuracy: 0.6320\n",
      "Epoch 153/300\n",
      "74/74 [==============================] - 0s 4ms/step - loss: 0.8142 - accuracy: 0.6270\n",
      "Epoch 154/300\n",
      "74/74 [==============================] - 0s 4ms/step - loss: 0.8125 - accuracy: 0.6354\n",
      "Epoch 155/300\n",
      "74/74 [==============================] - 0s 4ms/step - loss: 0.8128 - accuracy: 0.6299\n",
      "Epoch 156/300\n",
      "74/74 [==============================] - 0s 4ms/step - loss: 0.8092 - accuracy: 0.6371\n",
      "Epoch 157/300\n",
      "74/74 [==============================] - 0s 4ms/step - loss: 0.8131 - accuracy: 0.6324\n",
      "Epoch 158/300\n",
      "74/74 [==============================] - 0s 4ms/step - loss: 0.8117 - accuracy: 0.6358\n",
      "Epoch 159/300\n",
      "74/74 [==============================] - 0s 4ms/step - loss: 0.8129 - accuracy: 0.6346\n",
      "Epoch 160/300\n",
      "74/74 [==============================] - 0s 3ms/step - loss: 0.8088 - accuracy: 0.6295\n",
      "Epoch 161/300\n",
      "74/74 [==============================] - 0s 4ms/step - loss: 0.8181 - accuracy: 0.6248\n",
      "Epoch 162/300\n",
      "74/74 [==============================] - 0s 3ms/step - loss: 0.8101 - accuracy: 0.6316\n",
      "Epoch 163/300\n",
      "74/74 [==============================] - 0s 3ms/step - loss: 0.8074 - accuracy: 0.6333\n",
      "Epoch 164/300\n"
     ]
    },
    {
     "name": "stdout",
     "output_type": "stream",
     "text": [
      "74/74 [==============================] - 0s 5ms/step - loss: 0.8086 - accuracy: 0.6320\n",
      "Epoch 165/300\n",
      "74/74 [==============================] - 0s 4ms/step - loss: 0.8073 - accuracy: 0.6384\n",
      "Epoch 166/300\n",
      "74/74 [==============================] - 0s 4ms/step - loss: 0.8099 - accuracy: 0.6316\n",
      "Epoch 167/300\n",
      "74/74 [==============================] - 0s 4ms/step - loss: 0.8098 - accuracy: 0.6316\n",
      "Epoch 168/300\n",
      "74/74 [==============================] - 0s 4ms/step - loss: 0.8042 - accuracy: 0.6392\n",
      "Epoch 169/300\n",
      "74/74 [==============================] - 0s 4ms/step - loss: 0.8070 - accuracy: 0.6346\n",
      "Epoch 170/300\n",
      "74/74 [==============================] - 0s 4ms/step - loss: 0.8048 - accuracy: 0.6341\n",
      "Epoch 171/300\n",
      "74/74 [==============================] - 0s 4ms/step - loss: 0.8075 - accuracy: 0.6384\n",
      "Epoch 172/300\n",
      "74/74 [==============================] - 0s 4ms/step - loss: 0.8066 - accuracy: 0.6312\n",
      "Epoch 173/300\n",
      "74/74 [==============================] - 0s 3ms/step - loss: 0.8047 - accuracy: 0.6379\n",
      "Epoch 174/300\n",
      "74/74 [==============================] - 0s 4ms/step - loss: 0.8065 - accuracy: 0.6367\n",
      "Epoch 175/300\n",
      "74/74 [==============================] - 0s 3ms/step - loss: 0.8056 - accuracy: 0.6329\n",
      "Epoch 176/300\n",
      "74/74 [==============================] - 0s 4ms/step - loss: 0.8065 - accuracy: 0.6333\n",
      "Epoch 177/300\n",
      "74/74 [==============================] - 0s 3ms/step - loss: 0.8031 - accuracy: 0.6417\n",
      "Epoch 178/300\n",
      "74/74 [==============================] - 0s 4ms/step - loss: 0.8108 - accuracy: 0.6350\n",
      "Epoch 179/300\n",
      "74/74 [==============================] - 0s 5ms/step - loss: 0.8053 - accuracy: 0.6362\n",
      "Epoch 180/300\n",
      "74/74 [==============================] - 0s 4ms/step - loss: 0.8057 - accuracy: 0.6401\n",
      "Epoch 181/300\n",
      "74/74 [==============================] - 0s 4ms/step - loss: 0.8012 - accuracy: 0.6329\n",
      "Epoch 182/300\n",
      "74/74 [==============================] - 0s 4ms/step - loss: 0.8022 - accuracy: 0.6329\n",
      "Epoch 183/300\n",
      "74/74 [==============================] - 0s 3ms/step - loss: 0.8040 - accuracy: 0.6350\n",
      "Epoch 184/300\n",
      "74/74 [==============================] - 0s 3ms/step - loss: 0.8012 - accuracy: 0.6388\n",
      "Epoch 185/300\n",
      "74/74 [==============================] - 0s 3ms/step - loss: 0.8051 - accuracy: 0.6341\n",
      "Epoch 186/300\n",
      "74/74 [==============================] - 0s 3ms/step - loss: 0.7995 - accuracy: 0.6312\n",
      "Epoch 187/300\n",
      "74/74 [==============================] - 0s 3ms/step - loss: 0.7994 - accuracy: 0.6371\n",
      "Epoch 188/300\n",
      "74/74 [==============================] - 0s 4ms/step - loss: 0.8018 - accuracy: 0.6409\n",
      "Epoch 189/300\n",
      "74/74 [==============================] - 0s 4ms/step - loss: 0.7984 - accuracy: 0.6384\n",
      "Epoch 190/300\n",
      "74/74 [==============================] - 0s 4ms/step - loss: 0.8010 - accuracy: 0.6379\n",
      "Epoch 191/300\n",
      "74/74 [==============================] - 0s 3ms/step - loss: 0.7993 - accuracy: 0.6409\n",
      "Epoch 192/300\n",
      "74/74 [==============================] - 0s 3ms/step - loss: 0.8003 - accuracy: 0.6362\n",
      "Epoch 193/300\n",
      "74/74 [==============================] - 0s 3ms/step - loss: 0.8025 - accuracy: 0.6392\n",
      "Epoch 194/300\n",
      "74/74 [==============================] - 0s 3ms/step - loss: 0.7993 - accuracy: 0.6439\n",
      "Epoch 195/300\n",
      "74/74 [==============================] - 0s 3ms/step - loss: 0.8009 - accuracy: 0.6358\n",
      "Epoch 196/300\n",
      "74/74 [==============================] - 0s 4ms/step - loss: 0.8006 - accuracy: 0.6392\n",
      "Epoch 197/300\n",
      "74/74 [==============================] - 0s 3ms/step - loss: 0.8019 - accuracy: 0.6396\n",
      "Epoch 198/300\n",
      "74/74 [==============================] - 0s 3ms/step - loss: 0.7982 - accuracy: 0.6329\n",
      "Epoch 199/300\n",
      "74/74 [==============================] - 0s 3ms/step - loss: 0.7955 - accuracy: 0.6388\n",
      "Epoch 200/300\n",
      "74/74 [==============================] - 0s 3ms/step - loss: 0.7993 - accuracy: 0.6350\n",
      "Epoch 201/300\n",
      "74/74 [==============================] - 0s 4ms/step - loss: 0.7987 - accuracy: 0.6354\n",
      "Epoch 202/300\n",
      "74/74 [==============================] - 0s 4ms/step - loss: 0.8013 - accuracy: 0.6422\n",
      "Epoch 203/300\n",
      "74/74 [==============================] - 0s 3ms/step - loss: 0.8000 - accuracy: 0.6308\n",
      "Epoch 204/300\n",
      "74/74 [==============================] - 0s 3ms/step - loss: 0.7978 - accuracy: 0.6312\n",
      "Epoch 205/300\n",
      "74/74 [==============================] - 0s 3ms/step - loss: 0.7979 - accuracy: 0.6426\n",
      "Epoch 206/300\n",
      "74/74 [==============================] - 0s 3ms/step - loss: 0.7975 - accuracy: 0.6367\n",
      "Epoch 207/300\n",
      "74/74 [==============================] - 0s 3ms/step - loss: 0.7952 - accuracy: 0.6388\n",
      "Epoch 208/300\n",
      "74/74 [==============================] - 0s 3ms/step - loss: 0.7965 - accuracy: 0.6384\n",
      "Epoch 209/300\n",
      "74/74 [==============================] - 0s 3ms/step - loss: 0.7963 - accuracy: 0.6362\n",
      "Epoch 210/300\n",
      "74/74 [==============================] - 0s 3ms/step - loss: 0.7990 - accuracy: 0.6417\n",
      "Epoch 211/300\n",
      "74/74 [==============================] - 0s 3ms/step - loss: 0.7957 - accuracy: 0.6367\n",
      "Epoch 212/300\n",
      "74/74 [==============================] - 0s 4ms/step - loss: 0.7978 - accuracy: 0.6341\n",
      "Epoch 213/300\n",
      "74/74 [==============================] - 0s 4ms/step - loss: 0.7946 - accuracy: 0.6379\n",
      "Epoch 214/300\n",
      "74/74 [==============================] - 0s 3ms/step - loss: 0.7963 - accuracy: 0.6384\n",
      "Epoch 215/300\n",
      "74/74 [==============================] - 0s 3ms/step - loss: 0.7946 - accuracy: 0.6388\n",
      "Epoch 216/300\n",
      "74/74 [==============================] - 0s 4ms/step - loss: 0.7921 - accuracy: 0.6388\n",
      "Epoch 217/300\n",
      "74/74 [==============================] - 0s 3ms/step - loss: 0.8013 - accuracy: 0.6333\n",
      "Epoch 218/300\n",
      "74/74 [==============================] - 0s 3ms/step - loss: 0.7965 - accuracy: 0.6417\n",
      "Epoch 219/300\n",
      "74/74 [==============================] - 0s 4ms/step - loss: 0.7944 - accuracy: 0.6354\n",
      "Epoch 220/300\n",
      "74/74 [==============================] - 0s 3ms/step - loss: 0.7926 - accuracy: 0.6464\n",
      "Epoch 221/300\n",
      "74/74 [==============================] - 0s 3ms/step - loss: 0.7915 - accuracy: 0.6455\n",
      "Epoch 222/300\n",
      "74/74 [==============================] - 0s 3ms/step - loss: 0.7956 - accuracy: 0.6371\n",
      "Epoch 223/300\n",
      "74/74 [==============================] - 0s 4ms/step - loss: 0.7939 - accuracy: 0.6401\n",
      "Epoch 224/300\n",
      "74/74 [==============================] - 0s 3ms/step - loss: 0.7896 - accuracy: 0.6362\n",
      "Epoch 225/300\n",
      "74/74 [==============================] - 0s 3ms/step - loss: 0.7938 - accuracy: 0.6303\n",
      "Epoch 226/300\n",
      "74/74 [==============================] - 0s 3ms/step - loss: 0.7916 - accuracy: 0.6443\n",
      "Epoch 227/300\n",
      "74/74 [==============================] - 0s 3ms/step - loss: 0.7906 - accuracy: 0.6384\n",
      "Epoch 228/300\n",
      "74/74 [==============================] - 0s 4ms/step - loss: 0.7919 - accuracy: 0.6367\n",
      "Epoch 229/300\n",
      "74/74 [==============================] - 0s 3ms/step - loss: 0.7926 - accuracy: 0.6460\n",
      "Epoch 230/300\n",
      "74/74 [==============================] - 0s 3ms/step - loss: 0.7911 - accuracy: 0.6468\n",
      "Epoch 231/300\n",
      "74/74 [==============================] - 0s 3ms/step - loss: 0.7884 - accuracy: 0.6367\n",
      "Epoch 232/300\n",
      "74/74 [==============================] - 0s 3ms/step - loss: 0.7913 - accuracy: 0.6396\n",
      "Epoch 233/300\n",
      "74/74 [==============================] - 0s 3ms/step - loss: 0.7898 - accuracy: 0.6388\n",
      "Epoch 234/300\n",
      "74/74 [==============================] - 0s 4ms/step - loss: 0.7885 - accuracy: 0.6485\n",
      "Epoch 235/300\n",
      "74/74 [==============================] - 0s 4ms/step - loss: 0.7886 - accuracy: 0.6447\n",
      "Epoch 236/300\n",
      "74/74 [==============================] - 0s 3ms/step - loss: 0.7904 - accuracy: 0.6367\n",
      "Epoch 237/300\n",
      "74/74 [==============================] - 0s 3ms/step - loss: 0.7902 - accuracy: 0.6367\n",
      "Epoch 238/300\n",
      "74/74 [==============================] - 0s 3ms/step - loss: 0.7898 - accuracy: 0.6443\n",
      "Epoch 239/300\n",
      "74/74 [==============================] - 0s 3ms/step - loss: 0.7885 - accuracy: 0.6455\n",
      "Epoch 240/300\n",
      "74/74 [==============================] - 0s 3ms/step - loss: 0.7907 - accuracy: 0.6455\n",
      "Epoch 241/300\n",
      "74/74 [==============================] - 0s 3ms/step - loss: 0.7902 - accuracy: 0.6439\n",
      "Epoch 242/300\n",
      "74/74 [==============================] - 0s 4ms/step - loss: 0.7912 - accuracy: 0.6396\n",
      "Epoch 243/300\n",
      "74/74 [==============================] - 0s 4ms/step - loss: 0.7878 - accuracy: 0.6434\n",
      "Epoch 244/300\n",
      "74/74 [==============================] - 0s 4ms/step - loss: 0.7872 - accuracy: 0.6413\n",
      "Epoch 245/300\n"
     ]
    },
    {
     "name": "stdout",
     "output_type": "stream",
     "text": [
      "74/74 [==============================] - 0s 3ms/step - loss: 0.7852 - accuracy: 0.6439\n",
      "Epoch 246/300\n",
      "74/74 [==============================] - 0s 3ms/step - loss: 0.7858 - accuracy: 0.6477\n",
      "Epoch 247/300\n",
      "74/74 [==============================] - 0s 3ms/step - loss: 0.7866 - accuracy: 0.6401\n",
      "Epoch 248/300\n",
      "74/74 [==============================] - 0s 3ms/step - loss: 0.7859 - accuracy: 0.6422\n",
      "Epoch 249/300\n",
      "74/74 [==============================] - 0s 3ms/step - loss: 0.7834 - accuracy: 0.6464\n",
      "Epoch 250/300\n",
      "74/74 [==============================] - 0s 3ms/step - loss: 0.7851 - accuracy: 0.6460\n",
      "Epoch 251/300\n",
      "74/74 [==============================] - 0s 4ms/step - loss: 0.7850 - accuracy: 0.6430\n",
      "Epoch 252/300\n",
      "74/74 [==============================] - 0s 3ms/step - loss: 0.7885 - accuracy: 0.6396\n",
      "Epoch 253/300\n",
      "74/74 [==============================] - 0s 3ms/step - loss: 0.7835 - accuracy: 0.6472\n",
      "Epoch 254/300\n",
      "74/74 [==============================] - 0s 3ms/step - loss: 0.7849 - accuracy: 0.6443\n",
      "Epoch 255/300\n",
      "74/74 [==============================] - 0s 3ms/step - loss: 0.7859 - accuracy: 0.6413\n",
      "Epoch 256/300\n",
      "74/74 [==============================] - 0s 3ms/step - loss: 0.7877 - accuracy: 0.6413\n",
      "Epoch 257/300\n",
      "74/74 [==============================] - 0s 3ms/step - loss: 0.7846 - accuracy: 0.6371\n",
      "Epoch 258/300\n",
      "74/74 [==============================] - 0s 3ms/step - loss: 0.7855 - accuracy: 0.6396\n",
      "Epoch 259/300\n",
      "74/74 [==============================] - 0s 3ms/step - loss: 0.7857 - accuracy: 0.6388\n",
      "Epoch 260/300\n",
      "74/74 [==============================] - 0s 3ms/step - loss: 0.7794 - accuracy: 0.6472\n",
      "Epoch 261/300\n",
      "74/74 [==============================] - 0s 3ms/step - loss: 0.7815 - accuracy: 0.6468\n",
      "Epoch 262/300\n",
      "74/74 [==============================] - 0s 4ms/step - loss: 0.7837 - accuracy: 0.6409\n",
      "Epoch 263/300\n",
      "74/74 [==============================] - 0s 3ms/step - loss: 0.7816 - accuracy: 0.6422\n",
      "Epoch 264/300\n",
      "74/74 [==============================] - 0s 3ms/step - loss: 0.7805 - accuracy: 0.6485\n",
      "Epoch 265/300\n",
      "74/74 [==============================] - 0s 3ms/step - loss: 0.7809 - accuracy: 0.6422\n",
      "Epoch 266/300\n",
      "74/74 [==============================] - 0s 3ms/step - loss: 0.7826 - accuracy: 0.6472\n",
      "Epoch 267/300\n",
      "74/74 [==============================] - 0s 3ms/step - loss: 0.7801 - accuracy: 0.6413\n",
      "Epoch 268/300\n",
      "74/74 [==============================] - 0s 3ms/step - loss: 0.7801 - accuracy: 0.6464\n",
      "Epoch 269/300\n",
      "74/74 [==============================] - 0s 3ms/step - loss: 0.7789 - accuracy: 0.6540\n",
      "Epoch 270/300\n",
      "74/74 [==============================] - 0s 3ms/step - loss: 0.7823 - accuracy: 0.6468\n",
      "Epoch 271/300\n",
      "74/74 [==============================] - 0s 3ms/step - loss: 0.7794 - accuracy: 0.6439\n",
      "Epoch 272/300\n",
      "74/74 [==============================] - 0s 3ms/step - loss: 0.7808 - accuracy: 0.6451\n",
      "Epoch 273/300\n",
      "74/74 [==============================] - 0s 3ms/step - loss: 0.7820 - accuracy: 0.6409\n",
      "Epoch 274/300\n",
      "74/74 [==============================] - 0s 3ms/step - loss: 0.7813 - accuracy: 0.6350\n",
      "Epoch 275/300\n",
      "74/74 [==============================] - 0s 3ms/step - loss: 0.7771 - accuracy: 0.6472\n",
      "Epoch 276/300\n",
      "74/74 [==============================] - 0s 3ms/step - loss: 0.7803 - accuracy: 0.6489\n",
      "Epoch 277/300\n",
      "74/74 [==============================] - 0s 3ms/step - loss: 0.7838 - accuracy: 0.6417\n",
      "Epoch 278/300\n",
      "74/74 [==============================] - 0s 3ms/step - loss: 0.7788 - accuracy: 0.6481\n",
      "Epoch 279/300\n",
      "74/74 [==============================] - 0s 3ms/step - loss: 0.7784 - accuracy: 0.6447\n",
      "Epoch 280/300\n",
      "74/74 [==============================] - 0s 3ms/step - loss: 0.7771 - accuracy: 0.6506\n",
      "Epoch 281/300\n",
      "74/74 [==============================] - 0s 3ms/step - loss: 0.7789 - accuracy: 0.6426\n",
      "Epoch 282/300\n",
      "74/74 [==============================] - 0s 3ms/step - loss: 0.7773 - accuracy: 0.6434\n",
      "Epoch 283/300\n",
      "74/74 [==============================] - 0s 4ms/step - loss: 0.7798 - accuracy: 0.6439\n",
      "Epoch 284/300\n",
      "74/74 [==============================] - 0s 3ms/step - loss: 0.7806 - accuracy: 0.6502\n",
      "Epoch 285/300\n",
      "74/74 [==============================] - 0s 3ms/step - loss: 0.7802 - accuracy: 0.6510\n",
      "Epoch 286/300\n",
      "74/74 [==============================] - 0s 3ms/step - loss: 0.7759 - accuracy: 0.6481\n",
      "Epoch 287/300\n",
      "74/74 [==============================] - 0s 3ms/step - loss: 0.7775 - accuracy: 0.6498\n",
      "Epoch 288/300\n",
      "74/74 [==============================] - 0s 3ms/step - loss: 0.7763 - accuracy: 0.6489\n",
      "Epoch 289/300\n",
      "74/74 [==============================] - 0s 3ms/step - loss: 0.7767 - accuracy: 0.6519\n",
      "Epoch 290/300\n",
      "74/74 [==============================] - 0s 3ms/step - loss: 0.7773 - accuracy: 0.6375\n",
      "Epoch 291/300\n",
      "74/74 [==============================] - 0s 4ms/step - loss: 0.7785 - accuracy: 0.6447\n",
      "Epoch 292/300\n",
      "74/74 [==============================] - 0s 3ms/step - loss: 0.7756 - accuracy: 0.6443\n",
      "Epoch 293/300\n",
      "74/74 [==============================] - 0s 3ms/step - loss: 0.7745 - accuracy: 0.6455\n",
      "Epoch 294/300\n",
      "74/74 [==============================] - 0s 3ms/step - loss: 0.7731 - accuracy: 0.6477\n",
      "Epoch 295/300\n",
      "74/74 [==============================] - 0s 3ms/step - loss: 0.7706 - accuracy: 0.6493\n",
      "Epoch 296/300\n",
      "74/74 [==============================] - 0s 3ms/step - loss: 0.7753 - accuracy: 0.6405\n",
      "Epoch 297/300\n",
      "74/74 [==============================] - 0s 4ms/step - loss: 0.7743 - accuracy: 0.6460\n",
      "Epoch 298/300\n",
      "74/74 [==============================] - 0s 3ms/step - loss: 0.7725 - accuracy: 0.6519\n",
      "Epoch 299/300\n",
      "74/74 [==============================] - 0s 3ms/step - loss: 0.7781 - accuracy: 0.6405\n",
      "Epoch 300/300\n",
      "74/74 [==============================] - 0s 3ms/step - loss: 0.7741 - accuracy: 0.6455\n"
     ]
    },
    {
     "data": {
      "text/plain": [
       "<keras.callbacks.History at 0x235e4204fa0>"
      ]
     },
     "execution_count": 79,
     "metadata": {},
     "output_type": "execute_result"
    }
   ],
   "source": [
    "# Train the model for 200 epochs\n",
    "model.fit(X_train, y_train, epochs=300)"
   ]
  },
  {
   "cell_type": "markdown",
   "id": "dcff2ac4",
   "metadata": {},
   "source": [
    "### Results Analysis\n",
    "\n",
    "Vamos avaliar nosso modelo com base na **acurácia**, **matriz de confusão** e **curva ROC**."
   ]
  },
  {
   "cell_type": "code",
   "execution_count": 80,
   "id": "9b3999aa",
   "metadata": {},
   "outputs": [
    {
     "name": "stdout",
     "output_type": "stream",
     "text": [
      "74/74 [==============================] - 1s 3ms/step - loss: 0.7756 - accuracy: 0.6447\n",
      "Training Accuracy: 64.47%\n",
      "\n",
      "24/24 [==============================] - 0s 3ms/step - loss: 0.9641 - accuracy: 0.5514\n",
      "Testing Accuracy: 55.14%\n",
      "\n"
     ]
    }
   ],
   "source": [
    "# Testing accuracy\n",
    "scores = model.evaluate(X_train, y_train)\n",
    "print(\"Training Accuracy: %.2f%%\\n\" % (scores[1]*100))\n",
    "\n",
    "scores = model.evaluate(X_test, y_test)\n",
    "print(\"Testing Accuracy: %.2f%%\\n\" % (scores[1]*100))"
   ]
  },
  {
   "cell_type": "markdown",
   "id": "e1d1769e",
   "metadata": {},
   "source": [
    "A precisão é de 86.94% e 86.85% no conjunto de treinamento e no conjunto de teste, respectivamente. O que significa que, dadas as seis features de uma nova empresa, nosso modelo é capaz de prever com precisão de ~ 87% se essa empresa pertence ao segmento Autosserviço, Mercado Quente ou Mercado Frio."
   ]
  },
  {
   "cell_type": "code",
   "execution_count": 83,
   "id": "99520b1e",
   "metadata": {},
   "outputs": [
    {
     "name": "stdout",
     "output_type": "stream",
     "text": [
      "24/24 [==============================] - 0s 4ms/step\n"
     ]
    },
    {
     "data": {
      "text/plain": [
       "Text(79.0, 0.5, 'Actual')"
      ]
     },
     "execution_count": 83,
     "metadata": {},
     "output_type": "execute_result"
    },
    {
     "data": {
      "image/png": "[encoded data removed]",
      "text/plain": [
       "<Figure size 800x345.6 with 1 Axes>"
      ]
     },
     "metadata": {
      "needs_background": "light"
     },
     "output_type": "display_data"
    }
   ],
   "source": [
    "# MATRIZ DE CONFUSÃO\n",
    "\n",
    "predictions = model.predict(X_test)\n",
    "\n",
    "c_matrix = confusion_matrix(np.argmax(y_test, axis=1), np.argmax(predictions, axis=1))\n",
    "classification_report(np.argmax(y_test, axis=1), np.argmax(predictions, axis=1))\n",
    "\n",
    "ax = sns.heatmap(c_matrix, annot=True, \n",
    "                 xticklabels=['I','II','III'],\n",
    "                 yticklabels=['I','II','III'], \n",
    "                 cbar=False, cmap='Blues')\n",
    "ax.set_xlabel(\"Prediction\")\n",
    "ax.set_ylabel(\"Actual\")"
   ]
  },
  {
   "cell_type": "code",
   "execution_count": 89,
   "id": "392b621c",
   "metadata": {},
   "outputs": [
    {
     "name": "stdout",
     "output_type": "stream",
     "text": [
      "24/24 [==============================] - 0s 3ms/step\n"
     ]
    },
    {
     "ename": "ValueError",
     "evalue": "multilabel-indicator format is not supported",
     "output_type": "error",
     "traceback": [
      "\u001b[1;31m---------------------------------------------------------------------------\u001b[0m",
      "\u001b[1;31mValueError\u001b[0m                                Traceback (most recent call last)",
      "Input \u001b[1;32mIn [89]\u001b[0m, in \u001b[0;36m<cell line: 4>\u001b[1;34m()\u001b[0m\n\u001b[0;32m      1\u001b[0m \u001b[38;5;66;03m# CURVA ROC\u001b[39;00m\n\u001b[0;32m      2\u001b[0m y_test_pred_probs \u001b[38;5;241m=\u001b[39m model\u001b[38;5;241m.\u001b[39mpredict(X_test)\n\u001b[1;32m----> 4\u001b[0m FPR, TPR, _ \u001b[38;5;241m=\u001b[39m \u001b[43mroc_curve\u001b[49m\u001b[43m(\u001b[49m\u001b[43my_test\u001b[49m\u001b[43m,\u001b[49m\u001b[43m \u001b[49m\u001b[43my_test_pred_probs\u001b[49m\u001b[43m)\u001b[49m\n\u001b[0;32m      6\u001b[0m plt\u001b[38;5;241m.\u001b[39mplot(FPR, TPR)\n\u001b[0;32m      7\u001b[0m plt\u001b[38;5;241m.\u001b[39mplot([\u001b[38;5;241m0\u001b[39m,\u001b[38;5;241m1\u001b[39m],[\u001b[38;5;241m0\u001b[39m,\u001b[38;5;241m1\u001b[39m],[\u001b[38;5;241m0\u001b[39m,\u001b[38;5;241m1\u001b[39m],[\u001b[38;5;241m0\u001b[39m,\u001b[38;5;241m1\u001b[39m],\u001b[38;5;124m'\u001b[39m\u001b[38;5;124m--\u001b[39m\u001b[38;5;124m'\u001b[39m, color\u001b[38;5;241m=\u001b[39m\u001b[38;5;124m'\u001b[39m\u001b[38;5;124mblack\u001b[39m\u001b[38;5;124m'\u001b[39m) \u001b[38;5;66;03m#diagonal line\u001b[39;00m\n",
      "File \u001b[1;32m~\\anaconda3\\lib\\site-packages\\sklearn\\metrics\\_ranking.py:962\u001b[0m, in \u001b[0;36mroc_curve\u001b[1;34m(y_true, y_score, pos_label, sample_weight, drop_intermediate)\u001b[0m\n\u001b[0;32m    873\u001b[0m \u001b[38;5;28;01mdef\u001b[39;00m \u001b[38;5;21mroc_curve\u001b[39m(\n\u001b[0;32m    874\u001b[0m     y_true, y_score, \u001b[38;5;241m*\u001b[39m, pos_label\u001b[38;5;241m=\u001b[39m\u001b[38;5;28;01mNone\u001b[39;00m, sample_weight\u001b[38;5;241m=\u001b[39m\u001b[38;5;28;01mNone\u001b[39;00m, drop_intermediate\u001b[38;5;241m=\u001b[39m\u001b[38;5;28;01mTrue\u001b[39;00m\n\u001b[0;32m    875\u001b[0m ):\n\u001b[0;32m    876\u001b[0m     \u001b[38;5;124;03m\"\"\"Compute Receiver operating characteristic (ROC).\u001b[39;00m\n\u001b[0;32m    877\u001b[0m \n\u001b[0;32m    878\u001b[0m \u001b[38;5;124;03m    Note: this implementation is restricted to the binary classification task.\u001b[39;00m\n\u001b[1;32m   (...)\u001b[0m\n\u001b[0;32m    960\u001b[0m \n\u001b[0;32m    961\u001b[0m \u001b[38;5;124;03m    \"\"\"\u001b[39;00m\n\u001b[1;32m--> 962\u001b[0m     fps, tps, thresholds \u001b[38;5;241m=\u001b[39m \u001b[43m_binary_clf_curve\u001b[49m\u001b[43m(\u001b[49m\n\u001b[0;32m    963\u001b[0m \u001b[43m        \u001b[49m\u001b[43my_true\u001b[49m\u001b[43m,\u001b[49m\u001b[43m \u001b[49m\u001b[43my_score\u001b[49m\u001b[43m,\u001b[49m\u001b[43m \u001b[49m\u001b[43mpos_label\u001b[49m\u001b[38;5;241;43m=\u001b[39;49m\u001b[43mpos_label\u001b[49m\u001b[43m,\u001b[49m\u001b[43m \u001b[49m\u001b[43msample_weight\u001b[49m\u001b[38;5;241;43m=\u001b[39;49m\u001b[43msample_weight\u001b[49m\n\u001b[0;32m    964\u001b[0m \u001b[43m    \u001b[49m\u001b[43m)\u001b[49m\n\u001b[0;32m    966\u001b[0m     \u001b[38;5;66;03m# Attempt to drop thresholds corresponding to points in between and\u001b[39;00m\n\u001b[0;32m    967\u001b[0m     \u001b[38;5;66;03m# collinear with other points. These are always suboptimal and do not\u001b[39;00m\n\u001b[0;32m    968\u001b[0m     \u001b[38;5;66;03m# appear on a plotted ROC curve (and thus do not affect the AUC).\u001b[39;00m\n\u001b[1;32m   (...)\u001b[0m\n\u001b[0;32m    973\u001b[0m     \u001b[38;5;66;03m# but does not drop more complicated cases like fps = [1, 3, 7],\u001b[39;00m\n\u001b[0;32m    974\u001b[0m     \u001b[38;5;66;03m# tps = [1, 2, 4]; there is no harm in keeping too many thresholds.\u001b[39;00m\n\u001b[0;32m    975\u001b[0m     \u001b[38;5;28;01mif\u001b[39;00m drop_intermediate \u001b[38;5;129;01mand\u001b[39;00m \u001b[38;5;28mlen\u001b[39m(fps) \u001b[38;5;241m>\u001b[39m \u001b[38;5;241m2\u001b[39m:\n",
      "File \u001b[1;32m~\\anaconda3\\lib\\site-packages\\sklearn\\metrics\\_ranking.py:731\u001b[0m, in \u001b[0;36m_binary_clf_curve\u001b[1;34m(y_true, y_score, pos_label, sample_weight)\u001b[0m\n\u001b[0;32m    729\u001b[0m y_type \u001b[38;5;241m=\u001b[39m type_of_target(y_true)\n\u001b[0;32m    730\u001b[0m \u001b[38;5;28;01mif\u001b[39;00m \u001b[38;5;129;01mnot\u001b[39;00m (y_type \u001b[38;5;241m==\u001b[39m \u001b[38;5;124m\"\u001b[39m\u001b[38;5;124mbinary\u001b[39m\u001b[38;5;124m\"\u001b[39m \u001b[38;5;129;01mor\u001b[39;00m (y_type \u001b[38;5;241m==\u001b[39m \u001b[38;5;124m\"\u001b[39m\u001b[38;5;124mmulticlass\u001b[39m\u001b[38;5;124m\"\u001b[39m \u001b[38;5;129;01mand\u001b[39;00m pos_label \u001b[38;5;129;01mis\u001b[39;00m \u001b[38;5;129;01mnot\u001b[39;00m \u001b[38;5;28;01mNone\u001b[39;00m)):\n\u001b[1;32m--> 731\u001b[0m     \u001b[38;5;28;01mraise\u001b[39;00m \u001b[38;5;167;01mValueError\u001b[39;00m(\u001b[38;5;124m\"\u001b[39m\u001b[38;5;132;01m{0}\u001b[39;00m\u001b[38;5;124m format is not supported\u001b[39m\u001b[38;5;124m\"\u001b[39m\u001b[38;5;241m.\u001b[39mformat(y_type))\n\u001b[0;32m    733\u001b[0m check_consistent_length(y_true, y_score, sample_weight)\n\u001b[0;32m    734\u001b[0m y_true \u001b[38;5;241m=\u001b[39m column_or_1d(y_true)\n",
      "\u001b[1;31mValueError\u001b[0m: multilabel-indicator format is not supported"
     ]
    }
   ],
   "source": [
    "# CURVA ROC\n",
    "y_test_pred_probs = model.predict(X_test)\n",
    "\n",
    "FPR, TPR, _ = roc_curve(y_test, y_test_pred_probs)\n",
    "\n",
    "plt.plot(FPR, TPR)\n",
    "plt.plot([0,1],[0,1],[0,1],[0,1],'--', color='black') #diagonal line\n",
    "plt.title('ROC Curve')\n",
    "# plt.xlabel('False Positive Rate')\n",
    "# plt.ylabel('True Positive Rate')"
   ]
  }
 ],
 "metadata": {
  "kernelspec": {
   "display_name": "Python 3 (ipykernel)",
   "language": "python",
   "name": "python3"
  },
  "language_info": {
   "codemirror_mode": {
    "name": "ipython",
    "version": 3
   },
   "file_extension": ".py",
   "mimetype": "text/x-python",
   "name": "python",
   "nbconvert_exporter": "python",
   "pygments_lexer": "ipython3",
   "version": "3.9.12"
  }
 },
 "nbformat": 4,
 "nbformat_minor": 5
}
