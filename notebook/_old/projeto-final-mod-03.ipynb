{
 "cells": [
  {
   "cell_type": "code",
   "execution_count": 1,
   "id": "08dc94a8",
   "metadata": {},
   "outputs": [
    {
     "data": {
      "text/html": [
       "<marquee style='width: 90%; color: blue;'><b>INSTITUTO INFNET | ESCOLA SUPERIOR DA\n",
       "TECNOLOGIA DA INFORMAÇÃO</b></marquee>\n"
      ],
      "text/plain": [
       "<IPython.core.display.HTML object>"
      ]
     },
     "metadata": {},
     "output_type": "display_data"
    }
   ],
   "source": [
    "%%html\n",
    "<marquee style='width: 90%; color: blue;'><b>INSTITUTO INFNET | ESCOLA SUPERIOR DA\n",
    "TECNOLOGIA DA INFORMAÇÃO</b></marquee>"
   ]
  },
  {
   "cell_type": "markdown",
   "id": "8e6bf5d5",
   "metadata": {},
   "source": [
    "![logo_infnet.png](https://www.infnet.edu.br/infnet/wp-content/uploads/sites/6/2021/10/infnet_mod.svg)"
   ]
  },
  {
   "cell_type": "markdown",
   "id": "151ea1f1",
   "metadata": {},
   "source": [
    "<h2>Pós-graduação MIT em Inteligência Artificial, Machine Learning & Deep Learning</h2>\n",
    "\n",
    "<h3>Projeto da disciplina de Deep Learning com TensorFlow.</h3>\n",
    "\n",
    "Bloco: Redes neurais com TensorFlow\n",
    "\n",
    "Docente: Diego da Silva Rodrigues\n",
    "\n",
    "Aluno: Winicius Botelho Faquieri \n",
    "\n",
    "---"
   ]
  },
  {
   "cell_type": "code",
   "execution_count": 57,
   "id": "0a2e0f9f",
   "metadata": {},
   "outputs": [],
   "source": [
    "# Libs:\n",
    "\n",
    "# !pip install boruta\n",
    "# !pip install keras\n",
    "# !pip install tensorflow\n",
    "# !pip install pyreadr\n",
    "import pandas as pd\n",
    "import numpy as np\n",
    "import seaborn as sns\n",
    "import math\n",
    "import inflection\n",
    "from matplotlib import pyplot as plt\n",
    "from IPython.core.display import HTML\n",
    "from sklearn import model_selection as ms\n",
    "from sklearn.preprocessing import RobustScaler\n",
    "from sklearn.preprocessing import LabelEncoder\n",
    "from sklearn.model_selection import KFold\n",
    "from keras.utils import np_utils\n",
    "from sklearn.model_selection import cross_val_score\n",
    "from keras.models import Sequential \n",
    "from keras.layers import Dense\n",
    "from keras.wrappers.scikit_learn import KerasClassifier\n",
    "from keras.optimizers import SGD\n",
    "from sklearn.ensemble import RandomForestRegressor\n",
    "from boruta import BorutaPy"
   ]
  },
  {
   "cell_type": "markdown",
   "id": "5678b8ea",
   "metadata": {},
   "source": [
    "## TABLE OF CONTENTS\n",
    "* [1. Entendendo o Problema de Negócio](#label1)\n",
    "\n",
    "* [2. A descrição dos dados](##label2)\n",
    "\n",
    "    * [1.1 Data dimensions](#datadim)\n",
    "    \n",
    "    * [1.2 Data types](#datatyp)\n",
    "    \n",
    "    * [1.3 Check NA](#checkna)\n",
    "    \n",
    "    * [Fillout NA](#filloutna)\n",
    "    \n",
    "    * [Change data types](#changetypes)\n",
    "    \n",
    "    * [Descriptive statistics](#descrstats)\n",
    "    \n",
    "    * [Numerical atributes](#numstats)\n",
    "    \n",
    "    * [Categorical atributes](#categ_atrib)     \n",
    "    \n",
    "* [3. Feature Engineering](#label3)\n",
    "\n",
    "* [4. Análise Exploratória dos Dados](#label4)\n",
    "\n",
    "* [5. Preparação dos Dados](#label5)\n",
    "\n",
    "* [6. Feature Selection](#label6)\n",
    "\n",
    "* [7. Modelo de Machine Learning](#)\n",
    "\n",
    "* [8. Hyperparameter Fine Tuning](#)\n",
    "\n",
    "* [9. Interpretação e Tradução do Erro](#)\n",
    "\n",
    "* [10. Deploy do Modelo em Produção](#)\n",
    "\n",
    "* [References](#)\n"
   ]
  },
  {
   "cell_type": "markdown",
   "id": "c596ec63",
   "metadata": {},
   "source": [
    "## 0. Business understanding<a class=\"anchor\" id=\"dataset_info\"></a>\n",
    "\n",
    "Problema: classificar uma base de transações de produtos em 03 segmentos, a saber:\n",
    "\n",
    "* Segmento I - Supermercados com 5 ou mais checkouts\n",
    "\n",
    "* Segmento II - Supermercados com 4 ou menos checkouts (mercadinhos, mercearias, etc)\n",
    "\n",
    "* Segmento III - Bares, restaurantes, padarias"
   ]
  },
  {
   "attachments": {
    "crisp_dm.png": {
     "image/png": "[encoded data removed]"
    }
   },
   "cell_type": "markdown",
   "id": "18be36b7",
   "metadata": {},
   "source": [
    "### CRISP-DM\n",
    "\n",
    "- Método cíclico de desenvolvimento do projeto de DS.\n",
    "\n",
    "- 1º ciclo CRISP completo.\n",
    "![crisp_dm.png](attachment:crisp_dm.png)\n",
    "\n"
   ]
  },
  {
   "cell_type": "markdown",
   "id": "170b4f6d",
   "metadata": {},
   "source": [
    "## 1. A Descrição dos Dados <a class=\"anchor\" id=\"dataset_info\"></a>"
   ]
  },
  {
   "cell_type": "code",
   "execution_count": 3,
   "id": "7af52abf",
   "metadata": {},
   "outputs": [],
   "source": [
    "df = pd.read_csv('../data/dados.csv', dtype=str)"
   ]
  },
  {
   "cell_type": "code",
   "execution_count": 5,
   "id": "93f35810",
   "metadata": {},
   "outputs": [
    {
     "data": {
      "text/html": [
       "<div>\n",
       "<style scoped>\n",
       "    .dataframe tbody tr th:only-of-type {\n",
       "        vertical-align: middle;\n",
       "    }\n",
       "\n",
       "    .dataframe tbody tr th {\n",
       "        vertical-align: top;\n",
       "    }\n",
       "\n",
       "    .dataframe thead th {\n",
       "        text-align: right;\n",
       "    }\n",
       "</style>\n",
       "<table border=\"1\" class=\"dataframe\">\n",
       "  <thead>\n",
       "    <tr style=\"text-align: right;\">\n",
       "      <th></th>\n",
       "      <th>DAT_EMISSAO</th>\n",
       "      <th>NUM_DOC_DEST</th>\n",
       "      <th>PRODUTO</th>\n",
       "      <th>NUM_QTD_COMPRA</th>\n",
       "      <th>VAL_UN_COMPRA</th>\n",
       "      <th>VAL_BRUTO</th>\n",
       "      <th>SEGMENTO</th>\n",
       "    </tr>\n",
       "  </thead>\n",
       "  <tbody>\n",
       "    <tr>\n",
       "      <th>0</th>\n",
       "      <td>2019-04-30</td>\n",
       "      <td>23614948000132</td>\n",
       "      <td>CERV SKOL 300 GARRAFA DE VIDRO RETORNAVEL</td>\n",
       "      <td>10</td>\n",
       "      <td>35.45</td>\n",
       "      <td>354.5</td>\n",
       "      <td>I</td>\n",
       "    </tr>\n",
       "    <tr>\n",
       "      <th>1</th>\n",
       "      <td>2019-11-16</td>\n",
       "      <td>29912303000162</td>\n",
       "      <td>KUAT 250 GARRAFA PET DESCARTAVEL</td>\n",
       "      <td>360</td>\n",
       "      <td>0.66</td>\n",
       "      <td>237.6</td>\n",
       "      <td>II</td>\n",
       "    </tr>\n",
       "    <tr>\n",
       "      <th>2</th>\n",
       "      <td>2019-01-29</td>\n",
       "      <td>00226450000105</td>\n",
       "      <td>FANTA 2000 GARRAFA PET RETORNAVEL</td>\n",
       "      <td>180</td>\n",
       "      <td>3.11</td>\n",
       "      <td>559.8</td>\n",
       "      <td>II</td>\n",
       "    </tr>\n",
       "    <tr>\n",
       "      <th>3</th>\n",
       "      <td>2019-01-22</td>\n",
       "      <td>23950410000107</td>\n",
       "      <td>CERV BRAHMA 473 GARRAFA PET DESCARTAVEL</td>\n",
       "      <td>10</td>\n",
       "      <td>21.29</td>\n",
       "      <td>212.9</td>\n",
       "      <td>I</td>\n",
       "    </tr>\n",
       "    <tr>\n",
       "      <th>4</th>\n",
       "      <td>2019-04-16</td>\n",
       "      <td>24327850000167</td>\n",
       "      <td>CERV BRAHMA 473 GARRAFA PET DESCARTAVEL</td>\n",
       "      <td>50</td>\n",
       "      <td>34</td>\n",
       "      <td>1700</td>\n",
       "      <td>I</td>\n",
       "    </tr>\n",
       "  </tbody>\n",
       "</table>\n",
       "</div>"
      ],
      "text/plain": [
       "  DAT_EMISSAO    NUM_DOC_DEST                                    PRODUTO  \\\n",
       "0  2019-04-30  23614948000132  CERV SKOL 300 GARRAFA DE VIDRO RETORNAVEL   \n",
       "1  2019-11-16  29912303000162           KUAT 250 GARRAFA PET DESCARTAVEL   \n",
       "2  2019-01-29  00226450000105          FANTA 2000 GARRAFA PET RETORNAVEL   \n",
       "3  2019-01-22  23950410000107    CERV BRAHMA 473 GARRAFA PET DESCARTAVEL   \n",
       "4  2019-04-16  24327850000167    CERV BRAHMA 473 GARRAFA PET DESCARTAVEL   \n",
       "\n",
       "  NUM_QTD_COMPRA VAL_UN_COMPRA VAL_BRUTO SEGMENTO  \n",
       "0             10         35.45     354.5        I  \n",
       "1            360          0.66     237.6       II  \n",
       "2            180          3.11     559.8       II  \n",
       "3             10         21.29     212.9        I  \n",
       "4             50            34      1700        I  "
      ]
     },
     "execution_count": 5,
     "metadata": {},
     "output_type": "execute_result"
    }
   ],
   "source": [
    "df.head()"
   ]
  },
  {
   "cell_type": "code",
   "execution_count": 6,
   "id": "68ac8093",
   "metadata": {},
   "outputs": [
    {
     "name": "stdout",
     "output_type": "stream",
     "text": [
      "<class 'pandas.core.frame.DataFrame'>\n",
      "RangeIndex: 533203 entries, 0 to 533202\n",
      "Data columns (total 7 columns):\n",
      " #   Column          Non-Null Count   Dtype \n",
      "---  ------          --------------   ----- \n",
      " 0   DAT_EMISSAO     533203 non-null  object\n",
      " 1   NUM_DOC_DEST    533203 non-null  object\n",
      " 2   PRODUTO         533203 non-null  object\n",
      " 3   NUM_QTD_COMPRA  533203 non-null  object\n",
      " 4   VAL_UN_COMPRA   533203 non-null  object\n",
      " 5   VAL_BRUTO       533203 non-null  object\n",
      " 6   SEGMENTO        533203 non-null  object\n",
      "dtypes: object(7)\n",
      "memory usage: 28.5+ MB\n"
     ]
    }
   ],
   "source": [
    "df.info()"
   ]
  },
  {
   "cell_type": "markdown",
   "id": "bc611192",
   "metadata": {},
   "source": [
    "### 1.1 Data Dimensions <a class=\"anchor\" id=\"datadim\"></a>"
   ]
  },
  {
   "cell_type": "code",
   "execution_count": 9,
   "id": "be88ed3e",
   "metadata": {},
   "outputs": [
    {
     "name": "stdout",
     "output_type": "stream",
     "text": [
      "Number of Rows: 533203\n",
      "Number of Cols: 7\n"
     ]
    }
   ],
   "source": [
    "print( 'Number of Rows: {}'.format( df.shape[0] ) )\n",
    "print( 'Number of Cols: {}'.format( df.shape[1] ) )"
   ]
  },
  {
   "cell_type": "markdown",
   "id": "4541ebc3",
   "metadata": {},
   "source": [
    "### 1.2 Data Types <a class=\"anchor\" id=\"datatyp\"></a>"
   ]
  },
  {
   "cell_type": "code",
   "execution_count": 10,
   "id": "eb556406",
   "metadata": {},
   "outputs": [
    {
     "data": {
      "text/plain": [
       "DAT_EMISSAO       datetime64[ns]\n",
       "NUM_DOC_DEST              object\n",
       "PRODUTO                   object\n",
       "NUM_QTD_COMPRA            object\n",
       "VAL_UN_COMPRA             object\n",
       "VAL_BRUTO                 object\n",
       "SEGMENTO                  object\n",
       "dtype: object"
      ]
     },
     "execution_count": 10,
     "metadata": {},
     "output_type": "execute_result"
    }
   ],
   "source": [
    "df['DAT_EMISSAO'] = pd.to_datetime( df['DAT_EMISSAO'] )\n",
    "df.dtypes"
   ]
  },
  {
   "cell_type": "markdown",
   "id": "6d87e2b5",
   "metadata": {},
   "source": [
    "### 1.3 Check NA<a class=\"anchor\" id=\"checkna\"></a>"
   ]
  },
  {
   "cell_type": "code",
   "execution_count": 11,
   "id": "5bf7cba8",
   "metadata": {},
   "outputs": [
    {
     "data": {
      "text/plain": [
       "DAT_EMISSAO       0\n",
       "NUM_DOC_DEST      0\n",
       "PRODUTO           0\n",
       "NUM_QTD_COMPRA    0\n",
       "VAL_UN_COMPRA     0\n",
       "VAL_BRUTO         0\n",
       "SEGMENTO          0\n",
       "dtype: int64"
      ]
     },
     "execution_count": 11,
     "metadata": {},
     "output_type": "execute_result"
    }
   ],
   "source": [
    "df.isna().sum()"
   ]
  },
  {
   "cell_type": "markdown",
   "id": "43bbb9fb",
   "metadata": {},
   "source": [
    "### 1.4 Change data types <a class=\"anchor\" id=\"changetypes\"></a>"
   ]
  },
  {
   "cell_type": "code",
   "execution_count": 16,
   "id": "44f44a6f",
   "metadata": {},
   "outputs": [
    {
     "data": {
      "text/plain": [
       "DAT_EMISSAO       datetime64[ns]\n",
       "NUM_DOC_DEST              object\n",
       "PRODUTO                   object\n",
       "NUM_QTD_COMPRA             int32\n",
       "VAL_UN_COMPRA            float64\n",
       "VAL_BRUTO                float64\n",
       "SEGMENTO                  object\n",
       "dtype: object"
      ]
     },
     "execution_count": 16,
     "metadata": {},
     "output_type": "execute_result"
    }
   ],
   "source": [
    "# NUM_QTD_COMPRA: QUANTIDADE ADQUIRIDA DE DETERMINADO PRODUTO\n",
    "df['NUM_QTD_COMPRA'] = df['NUM_QTD_COMPRA'].astype( int )\n",
    "\n",
    "# VAL_UN_COMPRA: VALOR UNITÁRIO PAGO PELA COMPRA\n",
    "df['VAL_UN_COMPRA'] = df['VAL_UN_COMPRA'].astype( float )\n",
    "df['VAL_UN_COMPRA'] = df['VAL_UN_COMPRA'].round(decimals = 2)\n",
    "\n",
    "# VAL_BRUTO: VAL_UN_COMPRA X NUM_QTD_COMPRA\n",
    "df['VAL_BRUTO'] = df['VAL_BRUTO'].astype( float )\n",
    "df['VAL_BRUTO'] = df['VAL_BRUTO'].round(decimals = 2)\n",
    "\n",
    "df.dtypes"
   ]
  },
  {
   "cell_type": "markdown",
   "id": "e2307762",
   "metadata": {},
   "source": [
    "### 1.5 Descriptive statistics <a class=\"anchor\" id=\"descrstats\"></a>"
   ]
  },
  {
   "cell_type": "code",
   "execution_count": 17,
   "id": "9dcf4a51",
   "metadata": {},
   "outputs": [],
   "source": [
    "num_attributes = df.select_dtypes( include=['int32', 'float64'] )\n",
    "cat_attributes = df.select_dtypes( exclude=['int32', 'float64','datetime64[ns]'] )"
   ]
  },
  {
   "cell_type": "markdown",
   "id": "c56a011a",
   "metadata": {},
   "source": [
    "### 1.6 Numerical atributes <a class=\"anchor\" id=\"numstats\"></a>"
   ]
  },
  {
   "cell_type": "code",
   "execution_count": 18,
   "id": "f4cabddf",
   "metadata": {},
   "outputs": [
    {
     "data": {
      "text/html": [
       "<div>\n",
       "<style scoped>\n",
       "    .dataframe tbody tr th:only-of-type {\n",
       "        vertical-align: middle;\n",
       "    }\n",
       "\n",
       "    .dataframe tbody tr th {\n",
       "        vertical-align: top;\n",
       "    }\n",
       "\n",
       "    .dataframe thead th {\n",
       "        text-align: right;\n",
       "    }\n",
       "</style>\n",
       "<table border=\"1\" class=\"dataframe\">\n",
       "  <thead>\n",
       "    <tr style=\"text-align: right;\">\n",
       "      <th></th>\n",
       "      <th>attributes</th>\n",
       "      <th>min</th>\n",
       "      <th>max</th>\n",
       "      <th>range</th>\n",
       "      <th>mean</th>\n",
       "      <th>median</th>\n",
       "      <th>std</th>\n",
       "      <th>skew</th>\n",
       "      <th>kurtosis</th>\n",
       "    </tr>\n",
       "  </thead>\n",
       "  <tbody>\n",
       "    <tr>\n",
       "      <th>0</th>\n",
       "      <td>NUM_QTD_COMPRA</td>\n",
       "      <td>5.0</td>\n",
       "      <td>294000.00</td>\n",
       "      <td>293995.00</td>\n",
       "      <td>326.225818</td>\n",
       "      <td>120.00</td>\n",
       "      <td>2125.389941</td>\n",
       "      <td>47.195703</td>\n",
       "      <td>3696.788225</td>\n",
       "    </tr>\n",
       "    <tr>\n",
       "      <th>1</th>\n",
       "      <td>VAL_UN_COMPRA</td>\n",
       "      <td>0.0</td>\n",
       "      <td>459.33</td>\n",
       "      <td>459.33</td>\n",
       "      <td>13.478498</td>\n",
       "      <td>4.74</td>\n",
       "      <td>20.514488</td>\n",
       "      <td>6.019013</td>\n",
       "      <td>87.108958</td>\n",
       "    </tr>\n",
       "    <tr>\n",
       "      <th>2</th>\n",
       "      <td>VAL_BRUTO</td>\n",
       "      <td>0.0</td>\n",
       "      <td>1207920.00</td>\n",
       "      <td>1207920.00</td>\n",
       "      <td>1940.734837</td>\n",
       "      <td>358.60</td>\n",
       "      <td>12907.780865</td>\n",
       "      <td>35.166808</td>\n",
       "      <td>1984.614039</td>\n",
       "    </tr>\n",
       "  </tbody>\n",
       "</table>\n",
       "</div>"
      ],
      "text/plain": [
       "       attributes  min         max       range         mean  median  \\\n",
       "0  NUM_QTD_COMPRA  5.0   294000.00   293995.00   326.225818  120.00   \n",
       "1   VAL_UN_COMPRA  0.0      459.33      459.33    13.478498    4.74   \n",
       "2       VAL_BRUTO  0.0  1207920.00  1207920.00  1940.734837  358.60   \n",
       "\n",
       "            std       skew     kurtosis  \n",
       "0   2125.389941  47.195703  3696.788225  \n",
       "1     20.514488   6.019013    87.108958  \n",
       "2  12907.780865  35.166808  1984.614039  "
      ]
     },
     "execution_count": 18,
     "metadata": {},
     "output_type": "execute_result"
    }
   ],
   "source": [
    "# Central Tendency - mean, meadina\n",
    "ct1 = pd.DataFrame( num_attributes.apply( np.mean ) ).T\n",
    "ct2 = pd.DataFrame( num_attributes.apply( np.median ) ).T\n",
    "\n",
    "# dispersion - std, min, max, range, skew, kurtosis\n",
    "d1 = pd.DataFrame( num_attributes.apply( np.std ) ).T\n",
    "d2 = pd.DataFrame( num_attributes.apply( min ) ).T\n",
    "d3 = pd.DataFrame( num_attributes.apply( max ) ).T\n",
    "d4 = pd.DataFrame( num_attributes.apply( lambda x: x.max() - x.min() ) ).T\n",
    "d5 = pd.DataFrame( num_attributes.apply( lambda x: x.skew() ) ).T\n",
    "d6 = pd.DataFrame( num_attributes.apply( lambda x: x.kurtosis() ) ).T\n",
    "\n",
    "# concatenar\n",
    "m = pd.concat( [d2, d3, d4, ct1, ct2, d1, d5, d6] ).T.reset_index()\n",
    "m.columns = ['attributes', 'min', 'max', 'range', 'mean', 'median', 'std','skew', 'kurtosis']\n",
    "m"
   ]
  },
  {
   "cell_type": "code",
   "execution_count": 21,
   "id": "8de3bed4",
   "metadata": {},
   "outputs": [
    {
     "name": "stdout",
     "output_type": "stream",
     "text": [
      "Number of Rows: 533202\n"
     ]
    }
   ],
   "source": [
    "# Excluindo valores unitários iguais a zero:\n",
    "df = df[df['VAL_UN_COMPRA']!=0]\n",
    "\n",
    "# Verificando o número de lihas \n",
    "print( 'Number of Rows: {}'.format( df.shape[0] ) )"
   ]
  },
  {
   "cell_type": "code",
   "execution_count": 22,
   "id": "6224e2c2",
   "metadata": {},
   "outputs": [
    {
     "data": {
      "text/html": [
       "<div>\n",
       "<style scoped>\n",
       "    .dataframe tbody tr th:only-of-type {\n",
       "        vertical-align: middle;\n",
       "    }\n",
       "\n",
       "    .dataframe tbody tr th {\n",
       "        vertical-align: top;\n",
       "    }\n",
       "\n",
       "    .dataframe thead th {\n",
       "        text-align: right;\n",
       "    }\n",
       "</style>\n",
       "<table border=\"1\" class=\"dataframe\">\n",
       "  <thead>\n",
       "    <tr style=\"text-align: right;\">\n",
       "      <th></th>\n",
       "      <th>attributes</th>\n",
       "      <th>min</th>\n",
       "      <th>max</th>\n",
       "      <th>range</th>\n",
       "      <th>mean</th>\n",
       "      <th>median</th>\n",
       "      <th>std</th>\n",
       "      <th>skew</th>\n",
       "      <th>kurtosis</th>\n",
       "    </tr>\n",
       "  </thead>\n",
       "  <tbody>\n",
       "    <tr>\n",
       "      <th>0</th>\n",
       "      <td>NUM_QTD_COMPRA</td>\n",
       "      <td>5.00</td>\n",
       "      <td>294000.00</td>\n",
       "      <td>293995.00</td>\n",
       "      <td>326.225417</td>\n",
       "      <td>120.00</td>\n",
       "      <td>2125.391914</td>\n",
       "      <td>47.195661</td>\n",
       "      <td>3696.781462</td>\n",
       "    </tr>\n",
       "    <tr>\n",
       "      <th>1</th>\n",
       "      <td>VAL_UN_COMPRA</td>\n",
       "      <td>0.04</td>\n",
       "      <td>459.33</td>\n",
       "      <td>459.29</td>\n",
       "      <td>13.478524</td>\n",
       "      <td>4.74</td>\n",
       "      <td>20.514499</td>\n",
       "      <td>6.019012</td>\n",
       "      <td>87.108905</td>\n",
       "    </tr>\n",
       "    <tr>\n",
       "      <th>2</th>\n",
       "      <td>VAL_BRUTO</td>\n",
       "      <td>0.40</td>\n",
       "      <td>1207920.00</td>\n",
       "      <td>1207919.60</td>\n",
       "      <td>1940.738477</td>\n",
       "      <td>358.60</td>\n",
       "      <td>12907.792696</td>\n",
       "      <td>35.166776</td>\n",
       "      <td>1984.610441</td>\n",
       "    </tr>\n",
       "  </tbody>\n",
       "</table>\n",
       "</div>"
      ],
      "text/plain": [
       "       attributes   min         max       range         mean  median  \\\n",
       "0  NUM_QTD_COMPRA  5.00   294000.00   293995.00   326.225417  120.00   \n",
       "1   VAL_UN_COMPRA  0.04      459.33      459.29    13.478524    4.74   \n",
       "2       VAL_BRUTO  0.40  1207920.00  1207919.60  1940.738477  358.60   \n",
       "\n",
       "            std       skew     kurtosis  \n",
       "0   2125.391914  47.195661  3696.781462  \n",
       "1     20.514499   6.019012    87.108905  \n",
       "2  12907.792696  35.166776  1984.610441  "
      ]
     },
     "execution_count": 22,
     "metadata": {},
     "output_type": "execute_result"
    }
   ],
   "source": [
    "num_attributes = df.select_dtypes( include=['int32', 'float64'] )\n",
    "cat_attributes = df.select_dtypes( exclude=['int32', 'float64','datetime64[ns]'] )\n",
    "\n",
    "# Central Tendency - mean, meadina\n",
    "ct1 = pd.DataFrame( num_attributes.apply( np.mean ) ).T\n",
    "ct2 = pd.DataFrame( num_attributes.apply( np.median ) ).T\n",
    "\n",
    "# dispersion - std, min, max, range, skew, kurtosis\n",
    "d1 = pd.DataFrame( num_attributes.apply( np.std ) ).T\n",
    "d2 = pd.DataFrame( num_attributes.apply( min ) ).T\n",
    "d3 = pd.DataFrame( num_attributes.apply( max ) ).T\n",
    "d4 = pd.DataFrame( num_attributes.apply( lambda x: x.max() - x.min() ) ).T\n",
    "d5 = pd.DataFrame( num_attributes.apply( lambda x: x.skew() ) ).T\n",
    "d6 = pd.DataFrame( num_attributes.apply( lambda x: x.kurtosis() ) ).T\n",
    "\n",
    "# concatenar\n",
    "m = pd.concat( [d2, d3, d4, ct1, ct2, d1, d5, d6] ).T.reset_index()\n",
    "m.columns = ['attributes', 'min', 'max', 'range', 'mean', 'median', 'std','skew', 'kurtosis']\n",
    "m"
   ]
  },
  {
   "cell_type": "code",
   "execution_count": 24,
   "id": "55f1058f",
   "metadata": {},
   "outputs": [
    {
     "data": {
      "text/plain": [
       "<AxesSubplot:xlabel='VAL_UN_COMPRA'>"
      ]
     },
     "execution_count": 24,
     "metadata": {},
     "output_type": "execute_result"
    },
    {
     "data": {
      "image/png": "[encoded data removed]",
      "text/plain": [
       "<Figure size 432x288 with 1 Axes>"
      ]
     },
     "metadata": {
      "needs_background": "light"
     },
     "output_type": "display_data"
    }
   ],
   "source": [
    "sns.distplot( df['VAL_UN_COMPRA'], kde=False )"
   ]
  },
  {
   "cell_type": "markdown",
   "id": "e1307c8d",
   "metadata": {},
   "source": [
    "### 1.7 Categorical Atributes"
   ]
  },
  {
   "cell_type": "code",
   "execution_count": 29,
   "id": "01f91bc6",
   "metadata": {},
   "outputs": [
    {
     "data": {
      "text/plain": [
       "NUM_DOC_DEST    8768\n",
       "PRODUTO          311\n",
       "SEGMENTO           4\n",
       "dtype: int64"
      ]
     },
     "execution_count": 29,
     "metadata": {},
     "output_type": "execute_result"
    }
   ],
   "source": [
    "cat_attributes.apply( lambda x: x.unique().shape[0] )"
   ]
  },
  {
   "cell_type": "code",
   "execution_count": 35,
   "id": "3d351d34",
   "metadata": {},
   "outputs": [
    {
     "data": {
      "text/plain": [
       "<AxesSubplot:xlabel='SEGMENTO', ylabel='VAL_UN_COMPRA'>"
      ]
     },
     "execution_count": 35,
     "metadata": {},
     "output_type": "execute_result"
    },
    {
     "data": {
      "image/png": "[encoded data removed]",
      "text/plain": [
       "<Figure size 432x288 with 1 Axes>"
      ]
     },
     "metadata": {
      "needs_background": "light"
     },
     "output_type": "display_data"
    }
   ],
   "source": [
    "plt.subplot( 1, 1, 1 )\n",
    "sns.boxplot( x='SEGMENTO', y='VAL_UN_COMPRA', data=df )"
   ]
  },
  {
   "cell_type": "markdown",
   "id": "ec2f9268",
   "metadata": {},
   "source": [
    "### FEATURE ENGINEERING <a class=\"anchor\" id=\"hipotes\"></a>\n",
    "\n",
    "- Canais de distribuição:\n",
    "\n",
    "Segmento I - Supermercados com 5 ou mais checkouts\n",
    "\n",
    "Segmento II - Supermercados com 4 ou menos checkouts (mercadinhos, mercearias, etc)\n",
    "\n",
    "Segmento III - Bares, restaurantes, padarias, etc.\n",
    "\n",
    "**Hipóteses**:\n",
    "\n",
    "- H1: VALOR UNITÁRIO DA COMPRA: É esperado um valor unitário da compra maior de empresas no segmento 3 do que nos segmentos 1 e 2? \n",
    "\n",
    "\n",
    "\n",
    "- H2. QUANTIDADE COMPRADA: É esperado um volume médio de compras maior por empresas do segmento 1 do que de outros segmentos?\n",
    "\n",
    "\n",
    "\n",
    "- H3. CESTA DE PRODUTOS DIFERENTES: é esperado um mix de produtos maior no segmento 1 do que nos segmentos 2 e 3? \n",
    "\n",
    "\n",
    "\n",
    "- H4. COMPRAS EFETUADAS: É esperado um número de compras realizadas maior no segmento 1 do que em outros segmentos?\n",
    "\n",
    "\n",
    "\n",
    "- H5. FATURAMENTO BRUTO: Empresas do segmento 1 possuem um faturamento bruto médio anual maior do que em outros segmentos?\n",
    "\n",
    "...\n"
   ]
  },
  {
   "cell_type": "code",
   "execution_count": 2,
   "id": "59e99119",
   "metadata": {},
   "outputs": [],
   "source": [
    "features = pd.read_csv('../data/features.csv', dtype=str)"
   ]
  },
  {
   "cell_type": "code",
   "execution_count": 3,
   "id": "e79d6eba",
   "metadata": {},
   "outputs": [
    {
     "data": {
      "text/html": [
       "<div>\n",
       "<style scoped>\n",
       "    .dataframe tbody tr th:only-of-type {\n",
       "        vertical-align: middle;\n",
       "    }\n",
       "\n",
       "    .dataframe tbody tr th {\n",
       "        vertical-align: top;\n",
       "    }\n",
       "\n",
       "    .dataframe thead th {\n",
       "        text-align: right;\n",
       "    }\n",
       "</style>\n",
       "<table border=\"1\" class=\"dataframe\">\n",
       "  <thead>\n",
       "    <tr style=\"text-align: right;\">\n",
       "      <th></th>\n",
       "      <th>DAT_EMISSAO</th>\n",
       "      <th>NUM_DOC_DEST</th>\n",
       "      <th>PRODUTO</th>\n",
       "      <th>NUM_QTD_COMPRA</th>\n",
       "      <th>VAL_UN_COMPRA</th>\n",
       "      <th>VAL_BRUTO</th>\n",
       "      <th>N_COMPRAS</th>\n",
       "      <th>VAL_UNIT_MEDIO</th>\n",
       "      <th>VOLUME_COMPRA_MEDIO</th>\n",
       "      <th>VAL_BRUTO_MEDIO</th>\n",
       "      <th>CESTA_PROD_DIFER_1</th>\n",
       "      <th>CESTA_PROD_DIFER_2</th>\n",
       "      <th>SEGMENTO</th>\n",
       "    </tr>\n",
       "  </thead>\n",
       "  <tbody>\n",
       "    <tr>\n",
       "      <th>0</th>\n",
       "      <td>2019-05-24</td>\n",
       "      <td>13004510014481</td>\n",
       "      <td>CERV SKOL 350 LATA DESCARTAVEL</td>\n",
       "      <td>40</td>\n",
       "      <td>22.2</td>\n",
       "      <td>888</td>\n",
       "      <td>1674</td>\n",
       "      <td>21.315549581839907</td>\n",
       "      <td>328.3333333333333</td>\n",
       "      <td>6998.605446037435</td>\n",
       "      <td>137</td>\n",
       "      <td>0.08183990442054959</td>\n",
       "      <td>I</td>\n",
       "    </tr>\n",
       "    <tr>\n",
       "      <th>1</th>\n",
       "      <td>2019-06-27</td>\n",
       "      <td>13004510014481</td>\n",
       "      <td>CERV HEINEKEN 330 GARRAFA DE VIDRO DESCARTAVEL</td>\n",
       "      <td>270</td>\n",
       "      <td>87.12</td>\n",
       "      <td>23522.4</td>\n",
       "      <td>1674</td>\n",
       "      <td>21.315549581839907</td>\n",
       "      <td>328.3333333333333</td>\n",
       "      <td>6998.605446037435</td>\n",
       "      <td>137</td>\n",
       "      <td>0.08183990442054959</td>\n",
       "      <td>I</td>\n",
       "    </tr>\n",
       "    <tr>\n",
       "      <th>2</th>\n",
       "      <td>2019-05-24</td>\n",
       "      <td>13004510014481</td>\n",
       "      <td>REFRI SUKITA 2000 GARRAFA PET DESCARTAVEL</td>\n",
       "      <td>10</td>\n",
       "      <td>16.8</td>\n",
       "      <td>168</td>\n",
       "      <td>1674</td>\n",
       "      <td>21.315549581839907</td>\n",
       "      <td>328.3333333333333</td>\n",
       "      <td>6998.605446037435</td>\n",
       "      <td>137</td>\n",
       "      <td>0.08183990442054959</td>\n",
       "      <td>I</td>\n",
       "    </tr>\n",
       "    <tr>\n",
       "      <th>3</th>\n",
       "      <td>2019-02-02</td>\n",
       "      <td>13004510014481</td>\n",
       "      <td>REFRI INDAIA 250 GARRAFA PET DESCARTAVEL</td>\n",
       "      <td>40</td>\n",
       "      <td>9.62</td>\n",
       "      <td>384.8</td>\n",
       "      <td>1674</td>\n",
       "      <td>21.315549581839907</td>\n",
       "      <td>328.3333333333333</td>\n",
       "      <td>6998.605446037435</td>\n",
       "      <td>137</td>\n",
       "      <td>0.08183990442054959</td>\n",
       "      <td>I</td>\n",
       "    </tr>\n",
       "    <tr>\n",
       "      <th>4</th>\n",
       "      <td>2019-03-21</td>\n",
       "      <td>13004510014481</td>\n",
       "      <td>FANTA 250 GARRAFA PET DESCARTAVEL</td>\n",
       "      <td>960</td>\n",
       "      <td>1.06</td>\n",
       "      <td>1017.6</td>\n",
       "      <td>1674</td>\n",
       "      <td>21.315549581839907</td>\n",
       "      <td>328.3333333333333</td>\n",
       "      <td>6998.605446037435</td>\n",
       "      <td>137</td>\n",
       "      <td>0.08183990442054959</td>\n",
       "      <td>I</td>\n",
       "    </tr>\n",
       "  </tbody>\n",
       "</table>\n",
       "</div>"
      ],
      "text/plain": [
       "  DAT_EMISSAO    NUM_DOC_DEST                                         PRODUTO  \\\n",
       "0  2019-05-24  13004510014481                  CERV SKOL 350 LATA DESCARTAVEL   \n",
       "1  2019-06-27  13004510014481  CERV HEINEKEN 330 GARRAFA DE VIDRO DESCARTAVEL   \n",
       "2  2019-05-24  13004510014481       REFRI SUKITA 2000 GARRAFA PET DESCARTAVEL   \n",
       "3  2019-02-02  13004510014481        REFRI INDAIA 250 GARRAFA PET DESCARTAVEL   \n",
       "4  2019-03-21  13004510014481               FANTA 250 GARRAFA PET DESCARTAVEL   \n",
       "\n",
       "  NUM_QTD_COMPRA VAL_UN_COMPRA VAL_BRUTO N_COMPRAS      VAL_UNIT_MEDIO  \\\n",
       "0             40          22.2       888      1674  21.315549581839907   \n",
       "1            270         87.12   23522.4      1674  21.315549581839907   \n",
       "2             10          16.8       168      1674  21.315549581839907   \n",
       "3             40          9.62     384.8      1674  21.315549581839907   \n",
       "4            960          1.06    1017.6      1674  21.315549581839907   \n",
       "\n",
       "  VOLUME_COMPRA_MEDIO    VAL_BRUTO_MEDIO CESTA_PROD_DIFER_1  \\\n",
       "0   328.3333333333333  6998.605446037435                137   \n",
       "1   328.3333333333333  6998.605446037435                137   \n",
       "2   328.3333333333333  6998.605446037435                137   \n",
       "3   328.3333333333333  6998.605446037435                137   \n",
       "4   328.3333333333333  6998.605446037435                137   \n",
       "\n",
       "    CESTA_PROD_DIFER_2 SEGMENTO  \n",
       "0  0.08183990442054959        I  \n",
       "1  0.08183990442054959        I  \n",
       "2  0.08183990442054959        I  \n",
       "3  0.08183990442054959        I  \n",
       "4  0.08183990442054959        I  "
      ]
     },
     "execution_count": 3,
     "metadata": {},
     "output_type": "execute_result"
    }
   ],
   "source": [
    "features.head()"
   ]
  },
  {
   "cell_type": "code",
   "execution_count": 4,
   "id": "5207fc19",
   "metadata": {},
   "outputs": [
    {
     "name": "stdout",
     "output_type": "stream",
     "text": [
      "<class 'pandas.core.frame.DataFrame'>\n",
      "RangeIndex: 533202 entries, 0 to 533201\n",
      "Data columns (total 13 columns):\n",
      " #   Column               Non-Null Count   Dtype \n",
      "---  ------               --------------   ----- \n",
      " 0   DAT_EMISSAO          533202 non-null  object\n",
      " 1   NUM_DOC_DEST         533202 non-null  object\n",
      " 2   PRODUTO              533202 non-null  object\n",
      " 3   NUM_QTD_COMPRA       533202 non-null  object\n",
      " 4   VAL_UN_COMPRA        533202 non-null  object\n",
      " 5   VAL_BRUTO            533202 non-null  object\n",
      " 6   N_COMPRAS            533202 non-null  object\n",
      " 7   VAL_UNIT_MEDIO       533202 non-null  object\n",
      " 8   VOLUME_COMPRA_MEDIO  533202 non-null  object\n",
      " 9   VAL_BRUTO_MEDIO      533202 non-null  object\n",
      " 10  CESTA_PROD_DIFER_1   533202 non-null  object\n",
      " 11  CESTA_PROD_DIFER_2   533202 non-null  object\n",
      " 12  SEGMENTO             533202 non-null  object\n",
      "dtypes: object(13)\n",
      "memory usage: 52.9+ MB\n"
     ]
    }
   ],
   "source": [
    "features.info()"
   ]
  },
  {
   "cell_type": "code",
   "execution_count": null,
   "id": "2ceb3b3e",
   "metadata": {},
   "outputs": [],
   "source": [
    "print( 'Number of Rows: {}'.format( features.shape[0] ) )\n",
    "print( 'Number of Cols: {}'.format( features.shape[1] ) )"
   ]
  },
  {
   "cell_type": "code",
   "execution_count": 42,
   "id": "a36cee41",
   "metadata": {},
   "outputs": [
    {
     "data": {
      "text/plain": [
       "DAT_EMISSAO            0\n",
       "NUM_DOC_DEST           0\n",
       "PRODUTO                0\n",
       "NUM_QTD_COMPRA         0\n",
       "VAL_UN_COMPRA          0\n",
       "VAL_BRUTO              0\n",
       "N_COMPRAS              0\n",
       "VAL_UNIT_MEDIO         0\n",
       "VOLUME_COMPRA_MEDIO    0\n",
       "VAL_BRUTO_MEDIO        0\n",
       "CESTA_PROD_DIFER_1     0\n",
       "CESTA_PROD_DIFER_2     0\n",
       "SEGMENTO               0\n",
       "dtype: int64"
      ]
     },
     "execution_count": 42,
     "metadata": {},
     "output_type": "execute_result"
    }
   ],
   "source": [
    "features.isna().sum()"
   ]
  },
  {
   "cell_type": "code",
   "execution_count": 4,
   "id": "b7a7e00e",
   "metadata": {},
   "outputs": [
    {
     "data": {
      "text/plain": [
       "DAT_EMISSAO             object\n",
       "NUM_DOC_DEST            object\n",
       "PRODUTO                 object\n",
       "NUM_QTD_COMPRA           int32\n",
       "VAL_UN_COMPRA          float64\n",
       "VAL_BRUTO              float64\n",
       "N_COMPRAS                int32\n",
       "VAL_UNIT_MEDIO         float64\n",
       "VOLUME_COMPRA_MEDIO    float64\n",
       "VAL_BRUTO_MEDIO        float64\n",
       "CESTA_PROD_DIFER_1       int32\n",
       "CESTA_PROD_DIFER_2     float64\n",
       "SEGMENTO                object\n",
       "dtype: object"
      ]
     },
     "execution_count": 4,
     "metadata": {},
     "output_type": "execute_result"
    }
   ],
   "source": [
    "# NUM_QTD_COMPRA: QUANTIDADE ADQUIRIDA DE DETERMINADO PRODUTO\n",
    "features['NUM_QTD_COMPRA'] = features['NUM_QTD_COMPRA'].astype( int )\n",
    "\n",
    "# VAL_UN_COMPRA: VALOR UNITÁRIO PAGO PELA COMPRA\n",
    "features['VAL_UN_COMPRA'] = features['VAL_UN_COMPRA'].astype( float )\n",
    "features['VAL_UN_COMPRA'] = features['VAL_UN_COMPRA'].round(decimals = 2)\n",
    "\n",
    "# VAL_BRUTO: VAL_UN_COMPRA X NUM_QTD_COMPRA\n",
    "features['VAL_BRUTO'] = features['VAL_BRUTO'].astype( float )\n",
    "features['VAL_BRUTO'] = features['VAL_BRUTO'].round(decimals = 2)\n",
    "\n",
    "# N_COMPRAS: NÚMERO DE OBSERVAÇÕES. CADA LINHA REPRESENTA UMA COMPRA REALIZADA POR DETERMINADA EMPRESA\n",
    "features['N_COMPRAS'] = features['N_COMPRAS'].astype( int )\n",
    "\n",
    "# VAL_UNIT_MEDIO: VALOR MÉDIO PAGO POR CADA PRODUTO. SE UMA EMPRESA COMPROU 03 PRODUTOS AOS PREÇOS R$1, R$2 e R$3, então o valor médio para foi R$ 2.\n",
    "features['VAL_UNIT_MEDIO'] = features['VAL_UNIT_MEDIO'].astype( float )\n",
    "\n",
    "# VOLUME_COMPRA_MEDIO: MÉDIA DO VOLUME DE COMPRA\n",
    "features['VOLUME_COMPRA_MEDIO'] = features['VOLUME_COMPRA_MEDIO'].astype( float )\n",
    "\n",
    "# VAL_BRUTO_MEDIO: VAL_UNIT_MEDIO * VOLUME_COMPRA_MEDIO\n",
    "features['VAL_BRUTO_MEDIO'] = features['VAL_BRUTO_MEDIO'].astype( float )\n",
    "\n",
    "# CESTA_PROD_DIFER_1: QUANTIDADE DE PRODUTOS DIFERENTES NA CESTA DE UM DADO ESTABELECIMENTO\n",
    "features['CESTA_PROD_DIFER_1'] = features['CESTA_PROD_DIFER_1'].astype( int )\n",
    "\n",
    "# CESTA_PROD_DIFER_2: QUANTIDADE DE PRODUTOS DIFERENTES, CORRIGIDO PELA N° DE COMPRAS \n",
    "features['CESTA_PROD_DIFER_2'] = features['CESTA_PROD_DIFER_2'].astype( float )\n",
    "\n",
    "features.dtypes"
   ]
  },
  {
   "cell_type": "code",
   "execution_count": 47,
   "id": "9be4412f",
   "metadata": {},
   "outputs": [
    {
     "data": {
      "text/html": [
       "<div>\n",
       "<style scoped>\n",
       "    .dataframe tbody tr th:only-of-type {\n",
       "        vertical-align: middle;\n",
       "    }\n",
       "\n",
       "    .dataframe tbody tr th {\n",
       "        vertical-align: top;\n",
       "    }\n",
       "\n",
       "    .dataframe thead th {\n",
       "        text-align: right;\n",
       "    }\n",
       "</style>\n",
       "<table border=\"1\" class=\"dataframe\">\n",
       "  <thead>\n",
       "    <tr style=\"text-align: right;\">\n",
       "      <th></th>\n",
       "      <th>attributes</th>\n",
       "      <th>min</th>\n",
       "      <th>max</th>\n",
       "      <th>range</th>\n",
       "      <th>mean</th>\n",
       "      <th>median</th>\n",
       "      <th>std</th>\n",
       "      <th>skew</th>\n",
       "      <th>kurtosis</th>\n",
       "    </tr>\n",
       "  </thead>\n",
       "  <tbody>\n",
       "    <tr>\n",
       "      <th>0</th>\n",
       "      <td>NUM_QTD_COMPRA</td>\n",
       "      <td>5.000000</td>\n",
       "      <td>294000.000</td>\n",
       "      <td>2.939950e+05</td>\n",
       "      <td>326.225417</td>\n",
       "      <td>120.000000</td>\n",
       "      <td>2125.391914</td>\n",
       "      <td>47.195661</td>\n",
       "      <td>3696.781462</td>\n",
       "    </tr>\n",
       "    <tr>\n",
       "      <th>1</th>\n",
       "      <td>VAL_UN_COMPRA</td>\n",
       "      <td>0.040000</td>\n",
       "      <td>459.330</td>\n",
       "      <td>4.592900e+02</td>\n",
       "      <td>13.478524</td>\n",
       "      <td>4.740000</td>\n",
       "      <td>20.514499</td>\n",
       "      <td>6.019012</td>\n",
       "      <td>87.108905</td>\n",
       "    </tr>\n",
       "    <tr>\n",
       "      <th>2</th>\n",
       "      <td>VAL_BRUTO</td>\n",
       "      <td>0.400000</td>\n",
       "      <td>1207920.000</td>\n",
       "      <td>1.207920e+06</td>\n",
       "      <td>1940.738477</td>\n",
       "      <td>358.600000</td>\n",
       "      <td>12907.792696</td>\n",
       "      <td>35.166776</td>\n",
       "      <td>1984.610441</td>\n",
       "    </tr>\n",
       "    <tr>\n",
       "      <th>3</th>\n",
       "      <td>N_COMPRAS</td>\n",
       "      <td>1.000000</td>\n",
       "      <td>1674.000</td>\n",
       "      <td>1.673000e+03</td>\n",
       "      <td>268.127243</td>\n",
       "      <td>170.000000</td>\n",
       "      <td>289.400600</td>\n",
       "      <td>2.208819</td>\n",
       "      <td>5.814232</td>\n",
       "    </tr>\n",
       "    <tr>\n",
       "      <th>4</th>\n",
       "      <td>VAL_UNIT_MEDIO</td>\n",
       "      <td>0.570000</td>\n",
       "      <td>407.295</td>\n",
       "      <td>4.067250e+02</td>\n",
       "      <td>13.478524</td>\n",
       "      <td>11.188750</td>\n",
       "      <td>11.005896</td>\n",
       "      <td>2.351248</td>\n",
       "      <td>21.584774</td>\n",
       "    </tr>\n",
       "    <tr>\n",
       "      <th>5</th>\n",
       "      <td>VOLUME_COMPRA_MEDIO</td>\n",
       "      <td>10.000000</td>\n",
       "      <td>44825.000</td>\n",
       "      <td>4.481500e+04</td>\n",
       "      <td>326.225417</td>\n",
       "      <td>160.072816</td>\n",
       "      <td>793.945966</td>\n",
       "      <td>13.675391</td>\n",
       "      <td>385.556121</td>\n",
       "    </tr>\n",
       "    <tr>\n",
       "      <th>6</th>\n",
       "      <td>VAL_BRUTO_MEDIO</td>\n",
       "      <td>27.300000</td>\n",
       "      <td>599758.500</td>\n",
       "      <td>5.997312e+05</td>\n",
       "      <td>4024.034072</td>\n",
       "      <td>1451.891534</td>\n",
       "      <td>11490.199952</td>\n",
       "      <td>14.399403</td>\n",
       "      <td>387.065874</td>\n",
       "    </tr>\n",
       "    <tr>\n",
       "      <th>7</th>\n",
       "      <td>CESTA_PROD_DIFER_1</td>\n",
       "      <td>1.000000</td>\n",
       "      <td>143.000</td>\n",
       "      <td>1.420000e+02</td>\n",
       "      <td>48.348993</td>\n",
       "      <td>38.000000</td>\n",
       "      <td>35.260810</td>\n",
       "      <td>0.862602</td>\n",
       "      <td>-0.176374</td>\n",
       "    </tr>\n",
       "    <tr>\n",
       "      <th>8</th>\n",
       "      <td>CESTA_PROD_DIFER_2</td>\n",
       "      <td>0.007634</td>\n",
       "      <td>1.000</td>\n",
       "      <td>9.923664e-01</td>\n",
       "      <td>0.258795</td>\n",
       "      <td>0.224490</td>\n",
       "      <td>0.147154</td>\n",
       "      <td>2.160297</td>\n",
       "      <td>6.587130</td>\n",
       "    </tr>\n",
       "  </tbody>\n",
       "</table>\n",
       "</div>"
      ],
      "text/plain": [
       "            attributes        min          max         range         mean  \\\n",
       "0       NUM_QTD_COMPRA   5.000000   294000.000  2.939950e+05   326.225417   \n",
       "1        VAL_UN_COMPRA   0.040000      459.330  4.592900e+02    13.478524   \n",
       "2            VAL_BRUTO   0.400000  1207920.000  1.207920e+06  1940.738477   \n",
       "3            N_COMPRAS   1.000000     1674.000  1.673000e+03   268.127243   \n",
       "4       VAL_UNIT_MEDIO   0.570000      407.295  4.067250e+02    13.478524   \n",
       "5  VOLUME_COMPRA_MEDIO  10.000000    44825.000  4.481500e+04   326.225417   \n",
       "6      VAL_BRUTO_MEDIO  27.300000   599758.500  5.997312e+05  4024.034072   \n",
       "7   CESTA_PROD_DIFER_1   1.000000      143.000  1.420000e+02    48.348993   \n",
       "8   CESTA_PROD_DIFER_2   0.007634        1.000  9.923664e-01     0.258795   \n",
       "\n",
       "        median           std       skew     kurtosis  \n",
       "0   120.000000   2125.391914  47.195661  3696.781462  \n",
       "1     4.740000     20.514499   6.019012    87.108905  \n",
       "2   358.600000  12907.792696  35.166776  1984.610441  \n",
       "3   170.000000    289.400600   2.208819     5.814232  \n",
       "4    11.188750     11.005896   2.351248    21.584774  \n",
       "5   160.072816    793.945966  13.675391   385.556121  \n",
       "6  1451.891534  11490.199952  14.399403   387.065874  \n",
       "7    38.000000     35.260810   0.862602    -0.176374  \n",
       "8     0.224490      0.147154   2.160297     6.587130  "
      ]
     },
     "execution_count": 47,
     "metadata": {},
     "output_type": "execute_result"
    }
   ],
   "source": [
    "num_attributes = features.select_dtypes( include=['int32', 'float64'] )\n",
    "cat_attributes = features.select_dtypes( exclude=['int32', 'float64','datetime64[ns]'] )\n",
    "\n",
    "# Central Tendency - mean, meadina\n",
    "ct1 = pd.DataFrame( num_attributes.apply( np.mean ) ).T\n",
    "ct2 = pd.DataFrame( num_attributes.apply( np.median ) ).T\n",
    "\n",
    "# dispersion - std, min, max, range, skew, kurtosis\n",
    "d1 = pd.DataFrame( num_attributes.apply( np.std ) ).T\n",
    "d2 = pd.DataFrame( num_attributes.apply( min ) ).T\n",
    "d3 = pd.DataFrame( num_attributes.apply( max ) ).T\n",
    "d4 = pd.DataFrame( num_attributes.apply( lambda x: x.max() - x.min() ) ).T\n",
    "d5 = pd.DataFrame( num_attributes.apply( lambda x: x.skew() ) ).T\n",
    "d6 = pd.DataFrame( num_attributes.apply( lambda x: x.kurtosis() ) ).T\n",
    "\n",
    "# concatenar\n",
    "m = pd.concat( [d2, d3, d4, ct1, ct2, d1, d5, d6] ).T.reset_index()\n",
    "m.columns = ['attributes', 'min', 'max', 'range', 'mean', 'median', 'std','skew', 'kurtosis']\n",
    "m"
   ]
  },
  {
   "attachments": {
    "features.png": {
     "image/png": "[encoded data removed]"
    }
   },
   "cell_type": "markdown",
   "id": "324c6da1",
   "metadata": {},
   "source": [
    "Utilizaremos os 06 recursos destacados para classificar nossos dados em canais de distribuição ou segmentos I, II ou III:\n",
    "\n",
    "- Segmento I - Supermercados com 5 ou mais checkouts\n",
    "\n",
    "- Segmento II - Supermercados com 4 ou menos checkouts (mercadinhos, mercearias, etc)\n",
    "\n",
    "- Segmento III - Bares, restaurantes, padarias, etc.\n",
    "\n",
    "\n",
    "\n",
    "\n",
    "![features.png](attachment:features.png)"
   ]
  },
  {
   "cell_type": "code",
   "execution_count": 5,
   "id": "638fe8ea",
   "metadata": {},
   "outputs": [
    {
     "data": {
      "text/html": [
       "<div>\n",
       "<style scoped>\n",
       "    .dataframe tbody tr th:only-of-type {\n",
       "        vertical-align: middle;\n",
       "    }\n",
       "\n",
       "    .dataframe tbody tr th {\n",
       "        vertical-align: top;\n",
       "    }\n",
       "\n",
       "    .dataframe thead th {\n",
       "        text-align: right;\n",
       "    }\n",
       "</style>\n",
       "<table border=\"1\" class=\"dataframe\">\n",
       "  <thead>\n",
       "    <tr style=\"text-align: right;\">\n",
       "      <th></th>\n",
       "      <th>NUM_DOC_DEST</th>\n",
       "      <th>N_COMPRAS</th>\n",
       "      <th>VAL_UNIT_MEDIO</th>\n",
       "      <th>VOLUME_COMPRA_MEDIO</th>\n",
       "      <th>VAL_BRUTO_MEDIO</th>\n",
       "      <th>CESTA_PROD_DIFER_1</th>\n",
       "      <th>CESTA_PROD_DIFER_2</th>\n",
       "      <th>SEGMENTO</th>\n",
       "    </tr>\n",
       "  </thead>\n",
       "  <tbody>\n",
       "    <tr>\n",
       "      <th>0</th>\n",
       "      <td>13004510014481</td>\n",
       "      <td>1674</td>\n",
       "      <td>21.31555</td>\n",
       "      <td>328.333333</td>\n",
       "      <td>6998.605446</td>\n",
       "      <td>137</td>\n",
       "      <td>0.08184</td>\n",
       "      <td>I</td>\n",
       "    </tr>\n",
       "    <tr>\n",
       "      <th>1</th>\n",
       "      <td>13004510014481</td>\n",
       "      <td>1674</td>\n",
       "      <td>21.31555</td>\n",
       "      <td>328.333333</td>\n",
       "      <td>6998.605446</td>\n",
       "      <td>137</td>\n",
       "      <td>0.08184</td>\n",
       "      <td>I</td>\n",
       "    </tr>\n",
       "    <tr>\n",
       "      <th>2</th>\n",
       "      <td>13004510014481</td>\n",
       "      <td>1674</td>\n",
       "      <td>21.31555</td>\n",
       "      <td>328.333333</td>\n",
       "      <td>6998.605446</td>\n",
       "      <td>137</td>\n",
       "      <td>0.08184</td>\n",
       "      <td>I</td>\n",
       "    </tr>\n",
       "    <tr>\n",
       "      <th>3</th>\n",
       "      <td>13004510014481</td>\n",
       "      <td>1674</td>\n",
       "      <td>21.31555</td>\n",
       "      <td>328.333333</td>\n",
       "      <td>6998.605446</td>\n",
       "      <td>137</td>\n",
       "      <td>0.08184</td>\n",
       "      <td>I</td>\n",
       "    </tr>\n",
       "    <tr>\n",
       "      <th>4</th>\n",
       "      <td>13004510014481</td>\n",
       "      <td>1674</td>\n",
       "      <td>21.31555</td>\n",
       "      <td>328.333333</td>\n",
       "      <td>6998.605446</td>\n",
       "      <td>137</td>\n",
       "      <td>0.08184</td>\n",
       "      <td>I</td>\n",
       "    </tr>\n",
       "  </tbody>\n",
       "</table>\n",
       "</div>"
      ],
      "text/plain": [
       "     NUM_DOC_DEST  N_COMPRAS  VAL_UNIT_MEDIO  VOLUME_COMPRA_MEDIO  \\\n",
       "0  13004510014481       1674        21.31555           328.333333   \n",
       "1  13004510014481       1674        21.31555           328.333333   \n",
       "2  13004510014481       1674        21.31555           328.333333   \n",
       "3  13004510014481       1674        21.31555           328.333333   \n",
       "4  13004510014481       1674        21.31555           328.333333   \n",
       "\n",
       "   VAL_BRUTO_MEDIO  CESTA_PROD_DIFER_1  CESTA_PROD_DIFER_2 SEGMENTO  \n",
       "0      6998.605446                 137             0.08184        I  \n",
       "1      6998.605446                 137             0.08184        I  \n",
       "2      6998.605446                 137             0.08184        I  \n",
       "3      6998.605446                 137             0.08184        I  \n",
       "4      6998.605446                 137             0.08184        I  "
      ]
     },
     "execution_count": 5,
     "metadata": {},
     "output_type": "execute_result"
    }
   ],
   "source": [
    "# Desse modo, vamos descartar algumas colunas que não precisamos\n",
    "\n",
    "features1 = features.drop(['DAT_EMISSAO', 'PRODUTO','NUM_QTD_COMPRA', 'VAL_UN_COMPRA', 'VAL_BRUTO'], axis=1) \n",
    "features1.head()\n"
   ]
  },
  {
   "cell_type": "code",
   "execution_count": 7,
   "id": "6fd98e32",
   "metadata": {},
   "outputs": [],
   "source": [
    "# Exportando...\n",
    "features1.to_pickle('../data/features1.pickle')"
   ]
  },
  {
   "cell_type": "markdown",
   "id": "fd1a46ae",
   "metadata": {},
   "source": [
    "### ANÁLISE EXPLORATÓRIA DE DADOS <a class=\"anchor\" id=\"prep\"></a>\n",
    "\n",
    "Objetivos:\n",
    "\n",
    "- Validar hipóteses (insights)\n",
    "\n",
    "- Perceber variáveis que são importantes para o modelo"
   ]
  },
  {
   "cell_type": "markdown",
   "id": "587a4e7d",
   "metadata": {},
   "source": [
    "### Distribuição da variável target\n",
    "\n",
    "> Cerca de 2% da coluna SEGMENTO não estão classificados em I, II ou III. Nosso problema consiste em classificar esses dados."
   ]
  },
  {
   "cell_type": "code",
   "execution_count": 7,
   "id": "cb616cbd",
   "metadata": {},
   "outputs": [
    {
     "data": {
      "image/png": "[encoded data removed]",
      "text/plain": [
       "<Figure size 1080x432 with 2 Axes>"
      ]
     },
     "metadata": {
      "needs_background": "light"
     },
     "output_type": "display_data"
    }
   ],
   "source": [
    "fig, ax=plt.subplots(1,2,figsize=(15,6))\n",
    "_ = sns.countplot(x='SEGMENTO', data=features1, ax=ax[0])\n",
    "_ = features1['SEGMENTO'].value_counts().plot.pie(autopct=\"%1.1f%%\", ax=ax[1])"
   ]
  },
  {
   "cell_type": "code",
   "execution_count": 16,
   "id": "bf0b4bcb",
   "metadata": {},
   "outputs": [
    {
     "data": {
      "text/html": [
       "<div>\n",
       "<style scoped>\n",
       "    .dataframe tbody tr th:only-of-type {\n",
       "        vertical-align: middle;\n",
       "    }\n",
       "\n",
       "    .dataframe tbody tr th {\n",
       "        vertical-align: top;\n",
       "    }\n",
       "\n",
       "    .dataframe thead th {\n",
       "        text-align: right;\n",
       "    }\n",
       "</style>\n",
       "<table border=\"1\" class=\"dataframe\">\n",
       "  <thead>\n",
       "    <tr style=\"text-align: right;\">\n",
       "      <th></th>\n",
       "      <th>N_COMPRAS</th>\n",
       "      <th>VAL_UNIT_MEDIO</th>\n",
       "      <th>VOLUME_COMPRA_MEDIO</th>\n",
       "      <th>VAL_BRUTO_MEDIO</th>\n",
       "      <th>CESTA_PROD_DIFER_1</th>\n",
       "      <th>CESTA_PROD_DIFER_2</th>\n",
       "    </tr>\n",
       "  </thead>\n",
       "  <tbody>\n",
       "    <tr>\n",
       "      <th>0</th>\n",
       "      <td>1674</td>\n",
       "      <td>21.31555</td>\n",
       "      <td>328.333333</td>\n",
       "      <td>6998.605446</td>\n",
       "      <td>137</td>\n",
       "      <td>0.08184</td>\n",
       "    </tr>\n",
       "    <tr>\n",
       "      <th>1</th>\n",
       "      <td>1674</td>\n",
       "      <td>21.31555</td>\n",
       "      <td>328.333333</td>\n",
       "      <td>6998.605446</td>\n",
       "      <td>137</td>\n",
       "      <td>0.08184</td>\n",
       "    </tr>\n",
       "    <tr>\n",
       "      <th>2</th>\n",
       "      <td>1674</td>\n",
       "      <td>21.31555</td>\n",
       "      <td>328.333333</td>\n",
       "      <td>6998.605446</td>\n",
       "      <td>137</td>\n",
       "      <td>0.08184</td>\n",
       "    </tr>\n",
       "    <tr>\n",
       "      <th>3</th>\n",
       "      <td>1674</td>\n",
       "      <td>21.31555</td>\n",
       "      <td>328.333333</td>\n",
       "      <td>6998.605446</td>\n",
       "      <td>137</td>\n",
       "      <td>0.08184</td>\n",
       "    </tr>\n",
       "    <tr>\n",
       "      <th>4</th>\n",
       "      <td>1674</td>\n",
       "      <td>21.31555</td>\n",
       "      <td>328.333333</td>\n",
       "      <td>6998.605446</td>\n",
       "      <td>137</td>\n",
       "      <td>0.08184</td>\n",
       "    </tr>\n",
       "    <tr>\n",
       "      <th>...</th>\n",
       "      <td>...</td>\n",
       "      <td>...</td>\n",
       "      <td>...</td>\n",
       "      <td>...</td>\n",
       "      <td>...</td>\n",
       "      <td>...</td>\n",
       "    </tr>\n",
       "    <tr>\n",
       "      <th>533197</th>\n",
       "      <td>1</td>\n",
       "      <td>7.39000</td>\n",
       "      <td>300.000000</td>\n",
       "      <td>2217.000000</td>\n",
       "      <td>1</td>\n",
       "      <td>1.00000</td>\n",
       "    </tr>\n",
       "    <tr>\n",
       "      <th>533198</th>\n",
       "      <td>1</td>\n",
       "      <td>9.00000</td>\n",
       "      <td>200.000000</td>\n",
       "      <td>1800.000000</td>\n",
       "      <td>1</td>\n",
       "      <td>1.00000</td>\n",
       "    </tr>\n",
       "    <tr>\n",
       "      <th>533199</th>\n",
       "      <td>1</td>\n",
       "      <td>1.33000</td>\n",
       "      <td>60.000000</td>\n",
       "      <td>79.800000</td>\n",
       "      <td>1</td>\n",
       "      <td>1.00000</td>\n",
       "    </tr>\n",
       "    <tr>\n",
       "      <th>533200</th>\n",
       "      <td>1</td>\n",
       "      <td>33.54000</td>\n",
       "      <td>10.000000</td>\n",
       "      <td>335.400000</td>\n",
       "      <td>1</td>\n",
       "      <td>1.00000</td>\n",
       "    </tr>\n",
       "    <tr>\n",
       "      <th>533201</th>\n",
       "      <td>1</td>\n",
       "      <td>5.63000</td>\n",
       "      <td>60.000000</td>\n",
       "      <td>337.800000</td>\n",
       "      <td>1</td>\n",
       "      <td>1.00000</td>\n",
       "    </tr>\n",
       "  </tbody>\n",
       "</table>\n",
       "<p>533202 rows × 6 columns</p>\n",
       "</div>"
      ],
      "text/plain": [
       "        N_COMPRAS  VAL_UNIT_MEDIO  VOLUME_COMPRA_MEDIO  VAL_BRUTO_MEDIO  \\\n",
       "0            1674        21.31555           328.333333      6998.605446   \n",
       "1            1674        21.31555           328.333333      6998.605446   \n",
       "2            1674        21.31555           328.333333      6998.605446   \n",
       "3            1674        21.31555           328.333333      6998.605446   \n",
       "4            1674        21.31555           328.333333      6998.605446   \n",
       "...           ...             ...                  ...              ...   \n",
       "533197          1         7.39000           300.000000      2217.000000   \n",
       "533198          1         9.00000           200.000000      1800.000000   \n",
       "533199          1         1.33000            60.000000        79.800000   \n",
       "533200          1        33.54000            10.000000       335.400000   \n",
       "533201          1         5.63000            60.000000       337.800000   \n",
       "\n",
       "        CESTA_PROD_DIFER_1  CESTA_PROD_DIFER_2  \n",
       "0                      137             0.08184  \n",
       "1                      137             0.08184  \n",
       "2                      137             0.08184  \n",
       "3                      137             0.08184  \n",
       "4                      137             0.08184  \n",
       "...                    ...                 ...  \n",
       "533197                   1             1.00000  \n",
       "533198                   1             1.00000  \n",
       "533199                   1             1.00000  \n",
       "533200                   1             1.00000  \n",
       "533201                   1             1.00000  \n",
       "\n",
       "[533202 rows x 6 columns]"
      ]
     },
     "execution_count": 16,
     "metadata": {},
     "output_type": "execute_result"
    }
   ],
   "source": [
    "num_attributes = features1.select_dtypes( include=['int32', 'float64'] )\n",
    "num_attributes"
   ]
  },
  {
   "cell_type": "code",
   "execution_count": 42,
   "id": "89f29346",
   "metadata": {},
   "outputs": [
    {
     "data": {
      "image/png": "[encoded data removed]",
      "text/plain": [
       "<Figure size 800x345.6 with 6 Axes>"
      ]
     },
     "metadata": {
      "needs_background": "light"
     },
     "output_type": "display_data"
    }
   ],
   "source": [
    "plt.rcParams[\"figure.figsize\"] = (800/72., 4.8)\n",
    "num_attributes.hist( bins=25, layout=(2,3) );"
   ]
  },
  {
   "cell_type": "code",
   "execution_count": null,
   "id": "6ddc5d73",
   "metadata": {},
   "outputs": [],
   "source": [
    "# a density plot to investigate the relationship between each variable and the target variable:\n",
    "\n",
    "# create a subplot of 3 x 3\n",
    "plt.subplots(3,3,figsize=(15,15))\n",
    "\n",
    "# Plot a density plot for each variable\n",
    "for idx, col in enumerate(features1.columns):\n",
    "    ax = plt.subplot(3,3,idx+1)\n",
    "    ax.yaxis.set_ticklabels([])\n",
    "    sns.distplot(features1.loc[features1.SEGMENTO == 'I'][col], hist=False, axlabel= False, \n",
    "    kde_kws={'linestyle':'-',  \n",
    "    'color':'black', 'label':\"Segmento 1\"})\n",
    "    sns.distplot(features1.loc[features1.SEGMENTO == 'II'][col], hist=False, axlabel= False, \n",
    "    kde_kws={'linestyle':'--', \n",
    "    'color':'black', 'label':\"Segmento 1\"})\n",
    "    ax.set_title(col)\n",
    "\n",
    "# Hide the 9th subplot (bottom right) since there are only 8 plots\n",
    "plt.subplot(3,3,9).set_visible(False)\n",
    "\n",
    "plt.show()"
   ]
  },
  {
   "cell_type": "markdown",
   "id": "c1632781",
   "metadata": {},
   "source": [
    " - Análise bivariada:\n",
    " \n",
    " H1: É esperado um valor unitário da compra maior de empresas no segmento 3 do que nos segmentos 1 e 2? Por outras palavras, empresas nesse canal de distribuição (bares e restaurantes) pagam um preço unitário médio maior do que nos outros segmentos?\n",
    " \n",
    " "
   ]
  },
  {
   "cell_type": "code",
   "execution_count": 83,
   "id": "0c272b38",
   "metadata": {},
   "outputs": [
    {
     "data": {
      "text/plain": [
       "<AxesSubplot:xlabel='VAL_UNIT_MEDIO', ylabel='Density'>"
      ]
     },
     "execution_count": 83,
     "metadata": {},
     "output_type": "execute_result"
    },
    {
     "data": {
      "image/png": "[encoded data removed]",
      "text/plain": [
       "<Figure size 800x345.6 with 1 Axes>"
      ]
     },
     "metadata": {
      "needs_background": "light"
     },
     "output_type": "display_data"
    }
   ],
   "source": [
    "plt.rcParams[\"figure.figsize\"] = (800/72., 4.8)\n",
    "plt.subplot( 3, 1, 1 )\n",
    "sns.kdeplot( features1[features1['SEGMENTO'] == 'I']['VAL_UNIT_MEDIO'], label='SEGMENTO I', shade=True, color = 'green')\n",
    "sns.kdeplot( features1[features1['SEGMENTO'] == 'II']['VAL_UNIT_MEDIO'], label='SEGMENTO II', shade=True, color = 'red' )"
   ]
  },
  {
   "cell_type": "code",
   "execution_count": 76,
   "id": "86653477",
   "metadata": {},
   "outputs": [
    {
     "data": {
      "text/plain": [
       "<AxesSubplot:xlabel='VAL_UNIT_MEDIO', ylabel='Density'>"
      ]
     },
     "execution_count": 76,
     "metadata": {},
     "output_type": "execute_result"
    },
    {
     "data": {
      "image/png": "[encoded data removed]",
      "text/plain": [
       "<Figure size 800x345.6 with 1 Axes>"
      ]
     },
     "metadata": {
      "needs_background": "light"
     },
     "output_type": "display_data"
    }
   ],
   "source": [
    "plt.subplot( 3, 1, 1 )\n",
    "sns.kdeplot( features1[features1['SEGMENTO'] == 'I']['VAL_UNIT_MEDIO'], label='SEGMENTO I', shade=True, color = 'green' )\n",
    "sns.kdeplot( features1[features1['SEGMENTO'] == 'III']['VAL_UNIT_MEDIO'], label='SEGMENTO III', shade=True , color = 'blue')"
   ]
  },
  {
   "cell_type": "code",
   "execution_count": 84,
   "id": "2bfb0ace",
   "metadata": {},
   "outputs": [
    {
     "data": {
      "text/plain": [
       "<AxesSubplot:xlabel='VAL_UNIT_MEDIO', ylabel='Density'>"
      ]
     },
     "execution_count": 84,
     "metadata": {},
     "output_type": "execute_result"
    },
    {
     "data": {
      "image/png": "[encoded data removed]",
      "text/plain": [
       "<Figure size 800x345.6 with 1 Axes>"
      ]
     },
     "metadata": {
      "needs_background": "light"
     },
     "output_type": "display_data"
    }
   ],
   "source": [
    "plt.subplot( 3, 1, 1 )\n",
    "sns.kdeplot( VAL_UNIT_MEDIO[features1['SEGMENTO'] == 'II']['VAL_UNIT_MEDIO'], label='SEGMENTO II', shade=True, color = 'red' )\n",
    "sns.kdeplot( features1[features1['SEGMENTO'] == 'III']['VAL_UNIT_MEDIO'], label='SEGMENTO III', shade=True, color = 'blue' )"
   ]
  },
  {
   "cell_type": "code",
   "execution_count": null,
   "id": "bee0e87c",
   "metadata": {},
   "outputs": [],
   "source": []
  },
  {
   "cell_type": "code",
   "execution_count": null,
   "id": "8074b971",
   "metadata": {},
   "outputs": [],
   "source": []
  },
  {
   "cell_type": "code",
   "execution_count": null,
   "id": "1eeae7b4",
   "metadata": {},
   "outputs": [],
   "source": []
  },
  {
   "cell_type": "code",
   "execution_count": null,
   "id": "7c27f04c",
   "metadata": {},
   "outputs": [],
   "source": []
  },
  {
   "cell_type": "code",
   "execution_count": null,
   "id": "94f5aa46",
   "metadata": {},
   "outputs": [],
   "source": []
  },
  {
   "cell_type": "code",
   "execution_count": null,
   "id": "691e5e3d",
   "metadata": {},
   "outputs": [],
   "source": []
  },
  {
   "cell_type": "code",
   "execution_count": null,
   "id": "6c997f72",
   "metadata": {},
   "outputs": [],
   "source": []
  },
  {
   "cell_type": "code",
   "execution_count": null,
   "id": "432a6ff1",
   "metadata": {},
   "outputs": [],
   "source": []
  },
  {
   "cell_type": "code",
   "execution_count": null,
   "id": "930fcc9c",
   "metadata": {},
   "outputs": [],
   "source": []
  },
  {
   "cell_type": "code",
   "execution_count": null,
   "id": "07c6d006",
   "metadata": {},
   "outputs": [],
   "source": []
  },
  {
   "cell_type": "code",
   "execution_count": null,
   "id": "a6e1e5c1",
   "metadata": {},
   "outputs": [],
   "source": []
  },
  {
   "cell_type": "markdown",
   "id": "3c63f464",
   "metadata": {},
   "source": [
    "### DATA PREPARATION <a class=\"anchor\" id=\"prep\"></a>\n",
    "\n",
    "> O aprendizado da maioria dos algoritmos de ML é facilitado por dados numéricos, na mesma escala."
   ]
  },
  {
   "cell_type": "markdown",
   "id": "f3d41f12",
   "metadata": {},
   "source": [
    "- Normalização: reescala o centro para zero com desvio-padrao igual a 1.\n",
    "\n",
    "\n",
    "- Rescaling: reescala para o intervalo 0 e 1 (distribuições não Gaussianas):\n",
    "\n",
    "\n",
    "    - Min-Max Scaler: utiliza o range\n",
    "    - Robust Scaler: utiliza o IQR\n",
    "\n",
    "\n",
    "- Transformação: conversão da feature categórica para numérica - encoding - e de natureza."
   ]
  },
  {
   "cell_type": "code",
   "execution_count": 89,
   "id": "6f0385ea",
   "metadata": {},
   "outputs": [
    {
     "data": {
      "text/html": [
       "<div>\n",
       "<style scoped>\n",
       "    .dataframe tbody tr th:only-of-type {\n",
       "        vertical-align: middle;\n",
       "    }\n",
       "\n",
       "    .dataframe tbody tr th {\n",
       "        vertical-align: top;\n",
       "    }\n",
       "\n",
       "    .dataframe thead th {\n",
       "        text-align: right;\n",
       "    }\n",
       "</style>\n",
       "<table border=\"1\" class=\"dataframe\">\n",
       "  <thead>\n",
       "    <tr style=\"text-align: right;\">\n",
       "      <th></th>\n",
       "      <th>attributes</th>\n",
       "      <th>min</th>\n",
       "      <th>max</th>\n",
       "      <th>range</th>\n",
       "      <th>mean</th>\n",
       "      <th>median</th>\n",
       "      <th>std</th>\n",
       "      <th>skew</th>\n",
       "      <th>kurtosis</th>\n",
       "    </tr>\n",
       "  </thead>\n",
       "  <tbody>\n",
       "    <tr>\n",
       "      <th>0</th>\n",
       "      <td>N_COMPRAS</td>\n",
       "      <td>1.000000</td>\n",
       "      <td>1674.000</td>\n",
       "      <td>1673.000000</td>\n",
       "      <td>268.127243</td>\n",
       "      <td>170.000000</td>\n",
       "      <td>289.400600</td>\n",
       "      <td>2.208819</td>\n",
       "      <td>5.814232</td>\n",
       "    </tr>\n",
       "    <tr>\n",
       "      <th>1</th>\n",
       "      <td>VAL_UNIT_MEDIO</td>\n",
       "      <td>0.570000</td>\n",
       "      <td>407.295</td>\n",
       "      <td>406.725000</td>\n",
       "      <td>13.478524</td>\n",
       "      <td>11.188750</td>\n",
       "      <td>11.005896</td>\n",
       "      <td>2.351248</td>\n",
       "      <td>21.584774</td>\n",
       "    </tr>\n",
       "    <tr>\n",
       "      <th>2</th>\n",
       "      <td>VOLUME_COMPRA_MEDIO</td>\n",
       "      <td>10.000000</td>\n",
       "      <td>44825.000</td>\n",
       "      <td>44815.000000</td>\n",
       "      <td>326.225417</td>\n",
       "      <td>160.072816</td>\n",
       "      <td>793.945966</td>\n",
       "      <td>13.675391</td>\n",
       "      <td>385.556121</td>\n",
       "    </tr>\n",
       "    <tr>\n",
       "      <th>3</th>\n",
       "      <td>VAL_BRUTO_MEDIO</td>\n",
       "      <td>27.300000</td>\n",
       "      <td>599758.500</td>\n",
       "      <td>599731.200000</td>\n",
       "      <td>4024.034072</td>\n",
       "      <td>1451.891534</td>\n",
       "      <td>11490.199952</td>\n",
       "      <td>14.399403</td>\n",
       "      <td>387.065874</td>\n",
       "    </tr>\n",
       "    <tr>\n",
       "      <th>4</th>\n",
       "      <td>CESTA_PROD_DIFER_1</td>\n",
       "      <td>1.000000</td>\n",
       "      <td>143.000</td>\n",
       "      <td>142.000000</td>\n",
       "      <td>48.348993</td>\n",
       "      <td>38.000000</td>\n",
       "      <td>35.260810</td>\n",
       "      <td>0.862602</td>\n",
       "      <td>-0.176374</td>\n",
       "    </tr>\n",
       "    <tr>\n",
       "      <th>5</th>\n",
       "      <td>CESTA_PROD_DIFER_2</td>\n",
       "      <td>0.007634</td>\n",
       "      <td>1.000</td>\n",
       "      <td>0.992366</td>\n",
       "      <td>0.258795</td>\n",
       "      <td>0.224490</td>\n",
       "      <td>0.147154</td>\n",
       "      <td>2.160297</td>\n",
       "      <td>6.587130</td>\n",
       "    </tr>\n",
       "  </tbody>\n",
       "</table>\n",
       "</div>"
      ],
      "text/plain": [
       "            attributes        min         max          range         mean  \\\n",
       "0            N_COMPRAS   1.000000    1674.000    1673.000000   268.127243   \n",
       "1       VAL_UNIT_MEDIO   0.570000     407.295     406.725000    13.478524   \n",
       "2  VOLUME_COMPRA_MEDIO  10.000000   44825.000   44815.000000   326.225417   \n",
       "3      VAL_BRUTO_MEDIO  27.300000  599758.500  599731.200000  4024.034072   \n",
       "4   CESTA_PROD_DIFER_1   1.000000     143.000     142.000000    48.348993   \n",
       "5   CESTA_PROD_DIFER_2   0.007634       1.000       0.992366     0.258795   \n",
       "\n",
       "        median           std       skew    kurtosis  \n",
       "0   170.000000    289.400600   2.208819    5.814232  \n",
       "1    11.188750     11.005896   2.351248   21.584774  \n",
       "2   160.072816    793.945966  13.675391  385.556121  \n",
       "3  1451.891534  11490.199952  14.399403  387.065874  \n",
       "4    38.000000     35.260810   0.862602   -0.176374  \n",
       "5     0.224490      0.147154   2.160297    6.587130  "
      ]
     },
     "execution_count": 89,
     "metadata": {},
     "output_type": "execute_result"
    }
   ],
   "source": [
    "num_attributes = features1.select_dtypes( include=['int32', 'float64'] )\n",
    "\n",
    "# Central Tendency - mean, meadina\n",
    "ct1 = pd.DataFrame( num_attributes.apply( np.mean ) ).T\n",
    "ct2 = pd.DataFrame( num_attributes.apply( np.median ) ).T\n",
    "\n",
    "# dispersion - std, min, max, range, skew, kurtosis\n",
    "d1 = pd.DataFrame( num_attributes.apply( np.std ) ).T\n",
    "d2 = pd.DataFrame( num_attributes.apply( min ) ).T\n",
    "d3 = pd.DataFrame( num_attributes.apply( max ) ).T\n",
    "d4 = pd.DataFrame( num_attributes.apply( lambda x: x.max() - x.min() ) ).T\n",
    "d5 = pd.DataFrame( num_attributes.apply( lambda x: x.skew() ) ).T\n",
    "d6 = pd.DataFrame( num_attributes.apply( lambda x: x.kurtosis() ) ).T\n",
    "\n",
    "# concatenar\n",
    "m = pd.concat( [d2, d3, d4, ct1, ct2, d1, d5, d6] ).T.reset_index()\n",
    "m.columns = ['attributes', 'min', 'max', 'range', 'mean', 'median', 'std','skew', 'kurtosis']\n",
    "m"
   ]
  },
  {
   "cell_type": "code",
   "execution_count": 97,
   "id": "e875ecd5",
   "metadata": {},
   "outputs": [
    {
     "data": {
      "text/plain": [
       "<AxesSubplot:xlabel='SEGMENTO', ylabel='N_COMPRAS'>"
      ]
     },
     "execution_count": 97,
     "metadata": {},
     "output_type": "execute_result"
    },
    {
     "data": {
      "image/png": "[encoded data removed]",
      "text/plain": [
       "<Figure size 800x345.6 with 1 Axes>"
      ]
     },
     "metadata": {
      "needs_background": "light"
     },
     "output_type": "display_data"
    }
   ],
   "source": [
    "sns.boxplot( x='SEGMENTO', y='N_COMPRAS', data=features1 )"
   ]
  },
  {
   "cell_type": "code",
   "execution_count": 91,
   "id": "80cbf73c",
   "metadata": {},
   "outputs": [
    {
     "data": {
      "text/plain": [
       "<AxesSubplot:xlabel='SEGMENTO', ylabel='VAL_UNIT_MEDIO'>"
      ]
     },
     "execution_count": 91,
     "metadata": {},
     "output_type": "execute_result"
    },
    {
     "data": {
      "image/png": "[encoded data removed]",
      "text/plain": [
       "<Figure size 800x345.6 with 1 Axes>"
      ]
     },
     "metadata": {
      "needs_background": "light"
     },
     "output_type": "display_data"
    }
   ],
   "source": [
    "sns.boxplot( x='SEGMENTO', y='VAL_UNIT_MEDIO', data=features1 )"
   ]
  },
  {
   "cell_type": "code",
   "execution_count": 92,
   "id": "4c0dbaa9",
   "metadata": {},
   "outputs": [
    {
     "data": {
      "text/plain": [
       "<AxesSubplot:xlabel='SEGMENTO', ylabel='VOLUME_COMPRA_MEDIO'>"
      ]
     },
     "execution_count": 92,
     "metadata": {},
     "output_type": "execute_result"
    },
    {
     "data": {
      "image/png": "[encoded data removed]",
      "text/plain": [
       "<Figure size 800x345.6 with 1 Axes>"
      ]
     },
     "metadata": {
      "needs_background": "light"
     },
     "output_type": "display_data"
    }
   ],
   "source": [
    "sns.boxplot( x='SEGMENTO', y='VOLUME_COMPRA_MEDIO', data=features1 )"
   ]
  },
  {
   "cell_type": "code",
   "execution_count": 98,
   "id": "27c5f51f",
   "metadata": {},
   "outputs": [
    {
     "data": {
      "text/plain": [
       "<AxesSubplot:xlabel='SEGMENTO', ylabel='VAL_BRUTO_MEDIO'>"
      ]
     },
     "execution_count": 98,
     "metadata": {},
     "output_type": "execute_result"
    },
    {
     "data": {
      "image/png": "[encoded data removed]",
      "text/plain": [
       "<Figure size 800x345.6 with 1 Axes>"
      ]
     },
     "metadata": {
      "needs_background": "light"
     },
     "output_type": "display_data"
    }
   ],
   "source": [
    "sns.boxplot( x='SEGMENTO', y='VAL_BRUTO_MEDIO', data=features1 )"
   ]
  },
  {
   "cell_type": "code",
   "execution_count": 99,
   "id": "6351110b",
   "metadata": {},
   "outputs": [
    {
     "data": {
      "text/plain": [
       "<AxesSubplot:xlabel='SEGMENTO', ylabel='CESTA_PROD_DIFER_1'>"
      ]
     },
     "execution_count": 99,
     "metadata": {},
     "output_type": "execute_result"
    },
    {
     "data": {
      "image/png": "[encoded data removed]",
      "text/plain": [
       "<Figure size 800x345.6 with 1 Axes>"
      ]
     },
     "metadata": {
      "needs_background": "light"
     },
     "output_type": "display_data"
    }
   ],
   "source": [
    "sns.boxplot( x='SEGMENTO', y='CESTA_PROD_DIFER_1', data=features1 )"
   ]
  },
  {
   "cell_type": "code",
   "execution_count": 100,
   "id": "f59ed371",
   "metadata": {},
   "outputs": [
    {
     "data": {
      "text/plain": [
       "<AxesSubplot:xlabel='SEGMENTO', ylabel='CESTA_PROD_DIFER_2'>"
      ]
     },
     "execution_count": 100,
     "metadata": {},
     "output_type": "execute_result"
    },
    {
     "data": {
      "image/png": "[encoded data removed]",
      "text/plain": [
       "<Figure size 800x345.6 with 1 Axes>"
      ]
     },
     "metadata": {
      "needs_background": "light"
     },
     "output_type": "display_data"
    }
   ],
   "source": [
    "sns.boxplot( x='SEGMENTO', y='CESTA_PROD_DIFER_2', data=features1 )"
   ]
  },
  {
   "cell_type": "markdown",
   "id": "888fb46a",
   "metadata": {},
   "source": [
    "### Rescaling: Robust Scaler (RS)\n",
    "\n",
    "Vamos utilizar o método RS devido a presença de valores atípicos. Isso ocorre, principalmente, devido a diversidade de produtos no dataset. Qualquer produto transacionado nesses diferentes segmentos foram considerados."
   ]
  },
  {
   "cell_type": "code",
   "execution_count": 8,
   "id": "0d58b27c",
   "metadata": {},
   "outputs": [],
   "source": [
    "features2 = features1.copy()\n",
    "rs = RobustScaler()\n",
    "\n",
    "# competition distance\n",
    "features2['N_COMPRAS'] = rs.fit_transform( features2[['N_COMPRAS']].values )\n",
    "features2['VAL_UNIT_MEDIO'] = rs.fit_transform( features2[['VAL_UNIT_MEDIO']].values )\n",
    "features2['VOLUME_COMPRA_MEDIO'] = rs.fit_transform( features2[['VOLUME_COMPRA_MEDIO']].values )\n",
    "features2['VAL_BRUTO_MEDIO'] = rs.fit_transform( features2[['VAL_BRUTO_MEDIO']].values )\n",
    "features2['CESTA_PROD_DIFER_1'] = rs.fit_transform( features2[['CESTA_PROD_DIFER_1']].values )\n",
    "features2['CESTA_PROD_DIFER_2'] = rs.fit_transform( features2[['CESTA_PROD_DIFER_2']].values )"
   ]
  },
  {
   "cell_type": "code",
   "execution_count": 10,
   "id": "fda9cb13",
   "metadata": {},
   "outputs": [],
   "source": [
    "# Exportando...\n",
    "features2.to_pickle('../data/features2.pickle')"
   ]
  },
  {
   "cell_type": "code",
   "execution_count": 125,
   "id": "794fe629",
   "metadata": {},
   "outputs": [
    {
     "data": {
      "text/html": [
       "<div>\n",
       "<style scoped>\n",
       "    .dataframe tbody tr th:only-of-type {\n",
       "        vertical-align: middle;\n",
       "    }\n",
       "\n",
       "    .dataframe tbody tr th {\n",
       "        vertical-align: top;\n",
       "    }\n",
       "\n",
       "    .dataframe thead th {\n",
       "        text-align: right;\n",
       "    }\n",
       "</style>\n",
       "<table border=\"1\" class=\"dataframe\">\n",
       "  <thead>\n",
       "    <tr style=\"text-align: right;\">\n",
       "      <th></th>\n",
       "      <th>NUM_DOC_DEST</th>\n",
       "      <th>N_COMPRAS</th>\n",
       "      <th>VAL_UNIT_MEDIO</th>\n",
       "      <th>VOLUME_COMPRA_MEDIO</th>\n",
       "      <th>VAL_BRUTO_MEDIO</th>\n",
       "      <th>CESTA_PROD_DIFER_1</th>\n",
       "      <th>CESTA_PROD_DIFER_2</th>\n",
       "      <th>SEGMENTO</th>\n",
       "    </tr>\n",
       "  </thead>\n",
       "  <tbody>\n",
       "    <tr>\n",
       "      <th>0</th>\n",
       "      <td>13004510014481</td>\n",
       "      <td>5.449275</td>\n",
       "      <td>0.837084</td>\n",
       "      <td>0.900393</td>\n",
       "      <td>2.051007</td>\n",
       "      <td>1.98</td>\n",
       "      <td>-0.995403</td>\n",
       "      <td>I</td>\n",
       "    </tr>\n",
       "    <tr>\n",
       "      <th>1</th>\n",
       "      <td>13004510014481</td>\n",
       "      <td>5.449275</td>\n",
       "      <td>0.837084</td>\n",
       "      <td>0.900393</td>\n",
       "      <td>2.051007</td>\n",
       "      <td>1.98</td>\n",
       "      <td>-0.995403</td>\n",
       "      <td>I</td>\n",
       "    </tr>\n",
       "    <tr>\n",
       "      <th>2</th>\n",
       "      <td>13004510014481</td>\n",
       "      <td>5.449275</td>\n",
       "      <td>0.837084</td>\n",
       "      <td>0.900393</td>\n",
       "      <td>2.051007</td>\n",
       "      <td>1.98</td>\n",
       "      <td>-0.995403</td>\n",
       "      <td>I</td>\n",
       "    </tr>\n",
       "    <tr>\n",
       "      <th>3</th>\n",
       "      <td>13004510014481</td>\n",
       "      <td>5.449275</td>\n",
       "      <td>0.837084</td>\n",
       "      <td>0.900393</td>\n",
       "      <td>2.051007</td>\n",
       "      <td>1.98</td>\n",
       "      <td>-0.995403</td>\n",
       "      <td>I</td>\n",
       "    </tr>\n",
       "    <tr>\n",
       "      <th>4</th>\n",
       "      <td>13004510014481</td>\n",
       "      <td>5.449275</td>\n",
       "      <td>0.837084</td>\n",
       "      <td>0.900393</td>\n",
       "      <td>2.051007</td>\n",
       "      <td>1.98</td>\n",
       "      <td>-0.995403</td>\n",
       "      <td>I</td>\n",
       "    </tr>\n",
       "  </tbody>\n",
       "</table>\n",
       "</div>"
      ],
      "text/plain": [
       "     NUM_DOC_DEST  N_COMPRAS  VAL_UNIT_MEDIO  VOLUME_COMPRA_MEDIO  \\\n",
       "0  13004510014481   5.449275        0.837084             0.900393   \n",
       "1  13004510014481   5.449275        0.837084             0.900393   \n",
       "2  13004510014481   5.449275        0.837084             0.900393   \n",
       "3  13004510014481   5.449275        0.837084             0.900393   \n",
       "4  13004510014481   5.449275        0.837084             0.900393   \n",
       "\n",
       "   VAL_BRUTO_MEDIO  CESTA_PROD_DIFER_1  CESTA_PROD_DIFER_2 SEGMENTO  \n",
       "0         2.051007                1.98           -0.995403        I  \n",
       "1         2.051007                1.98           -0.995403        I  \n",
       "2         2.051007                1.98           -0.995403        I  \n",
       "3         2.051007                1.98           -0.995403        I  \n",
       "4         2.051007                1.98           -0.995403        I  "
      ]
     },
     "execution_count": 125,
     "metadata": {},
     "output_type": "execute_result"
    }
   ],
   "source": [
    "# after rescaling\n",
    "features2.head()"
   ]
  },
  {
   "cell_type": "code",
   "execution_count": 106,
   "id": "ef8da046",
   "metadata": {},
   "outputs": [
    {
     "data": {
      "text/html": [
       "<div>\n",
       "<style scoped>\n",
       "    .dataframe tbody tr th:only-of-type {\n",
       "        vertical-align: middle;\n",
       "    }\n",
       "\n",
       "    .dataframe tbody tr th {\n",
       "        vertical-align: top;\n",
       "    }\n",
       "\n",
       "    .dataframe thead th {\n",
       "        text-align: right;\n",
       "    }\n",
       "</style>\n",
       "<table border=\"1\" class=\"dataframe\">\n",
       "  <thead>\n",
       "    <tr style=\"text-align: right;\">\n",
       "      <th></th>\n",
       "      <th>NUM_DOC_DEST</th>\n",
       "      <th>N_COMPRAS</th>\n",
       "      <th>VAL_UNIT_MEDIO</th>\n",
       "      <th>VOLUME_COMPRA_MEDIO</th>\n",
       "      <th>VAL_BRUTO_MEDIO</th>\n",
       "      <th>CESTA_PROD_DIFER_1</th>\n",
       "      <th>CESTA_PROD_DIFER_2</th>\n",
       "      <th>SEGMENTO</th>\n",
       "    </tr>\n",
       "  </thead>\n",
       "  <tbody>\n",
       "    <tr>\n",
       "      <th>0</th>\n",
       "      <td>13004510014481</td>\n",
       "      <td>1674</td>\n",
       "      <td>21.31555</td>\n",
       "      <td>328.333333</td>\n",
       "      <td>6998.605446</td>\n",
       "      <td>137</td>\n",
       "      <td>0.08184</td>\n",
       "      <td>I</td>\n",
       "    </tr>\n",
       "    <tr>\n",
       "      <th>1</th>\n",
       "      <td>13004510014481</td>\n",
       "      <td>1674</td>\n",
       "      <td>21.31555</td>\n",
       "      <td>328.333333</td>\n",
       "      <td>6998.605446</td>\n",
       "      <td>137</td>\n",
       "      <td>0.08184</td>\n",
       "      <td>I</td>\n",
       "    </tr>\n",
       "    <tr>\n",
       "      <th>2</th>\n",
       "      <td>13004510014481</td>\n",
       "      <td>1674</td>\n",
       "      <td>21.31555</td>\n",
       "      <td>328.333333</td>\n",
       "      <td>6998.605446</td>\n",
       "      <td>137</td>\n",
       "      <td>0.08184</td>\n",
       "      <td>I</td>\n",
       "    </tr>\n",
       "    <tr>\n",
       "      <th>3</th>\n",
       "      <td>13004510014481</td>\n",
       "      <td>1674</td>\n",
       "      <td>21.31555</td>\n",
       "      <td>328.333333</td>\n",
       "      <td>6998.605446</td>\n",
       "      <td>137</td>\n",
       "      <td>0.08184</td>\n",
       "      <td>I</td>\n",
       "    </tr>\n",
       "    <tr>\n",
       "      <th>4</th>\n",
       "      <td>13004510014481</td>\n",
       "      <td>1674</td>\n",
       "      <td>21.31555</td>\n",
       "      <td>328.333333</td>\n",
       "      <td>6998.605446</td>\n",
       "      <td>137</td>\n",
       "      <td>0.08184</td>\n",
       "      <td>I</td>\n",
       "    </tr>\n",
       "  </tbody>\n",
       "</table>\n",
       "</div>"
      ],
      "text/plain": [
       "     NUM_DOC_DEST  N_COMPRAS  VAL_UNIT_MEDIO  VOLUME_COMPRA_MEDIO  \\\n",
       "0  13004510014481       1674        21.31555           328.333333   \n",
       "1  13004510014481       1674        21.31555           328.333333   \n",
       "2  13004510014481       1674        21.31555           328.333333   \n",
       "3  13004510014481       1674        21.31555           328.333333   \n",
       "4  13004510014481       1674        21.31555           328.333333   \n",
       "\n",
       "   VAL_BRUTO_MEDIO  CESTA_PROD_DIFER_1  CESTA_PROD_DIFER_2 SEGMENTO  \n",
       "0      6998.605446                 137             0.08184        I  \n",
       "1      6998.605446                 137             0.08184        I  \n",
       "2      6998.605446                 137             0.08184        I  \n",
       "3      6998.605446                 137             0.08184        I  \n",
       "4      6998.605446                 137             0.08184        I  "
      ]
     },
     "execution_count": 106,
     "metadata": {},
     "output_type": "execute_result"
    }
   ],
   "source": [
    "# before\n",
    "features1.head()"
   ]
  },
  {
   "cell_type": "code",
   "execution_count": 115,
   "id": "a0c92b10",
   "metadata": {},
   "outputs": [
    {
     "name": "stderr",
     "output_type": "stream",
     "text": [
      "C:\\Users\\winicius.faquieri\\Anaconda3\\lib\\site-packages\\seaborn\\distributions.py:2619: FutureWarning: `distplot` is a deprecated function and will be removed in a future version. Please adapt your code to use either `displot` (a figure-level function with similar flexibility) or `histplot` (an axes-level function for histograms).\n",
      "  warnings.warn(msg, FutureWarning)\n"
     ]
    },
    {
     "data": {
      "text/plain": [
       "<AxesSubplot:xlabel='N_COMPRAS', ylabel='Density'>"
      ]
     },
     "execution_count": 115,
     "metadata": {},
     "output_type": "execute_result"
    },
    {
     "data": {
      "image/png": "[encoded data removed]",
      "text/plain": [
       "<Figure size 800x345.6 with 1 Axes>"
      ]
     },
     "metadata": {
      "needs_background": "light"
     },
     "output_type": "display_data"
    }
   ],
   "source": [
    "sns.distplot( features2['N_COMPRAS'] );"
   ]
  },
  {
   "cell_type": "code",
   "execution_count": 117,
   "id": "56e7919c",
   "metadata": {},
   "outputs": [
    {
     "name": "stderr",
     "output_type": "stream",
     "text": [
      "C:\\Users\\winicius.faquieri\\Anaconda3\\lib\\site-packages\\seaborn\\distributions.py:2619: FutureWarning: `distplot` is a deprecated function and will be removed in a future version. Please adapt your code to use either `displot` (a figure-level function with similar flexibility) or `histplot` (an axes-level function for histograms).\n",
      "  warnings.warn(msg, FutureWarning)\n"
     ]
    },
    {
     "data": {
      "image/png": "[encoded data removed]",
      "text/plain": [
       "<Figure size 800x345.6 with 1 Axes>"
      ]
     },
     "metadata": {
      "needs_background": "light"
     },
     "output_type": "display_data"
    }
   ],
   "source": [
    "sns.distplot( features2['VAL_UNIT_MEDIO'] );"
   ]
  },
  {
   "cell_type": "code",
   "execution_count": 118,
   "id": "c4d210be",
   "metadata": {},
   "outputs": [
    {
     "name": "stderr",
     "output_type": "stream",
     "text": [
      "C:\\Users\\winicius.faquieri\\Anaconda3\\lib\\site-packages\\seaborn\\distributions.py:2619: FutureWarning: `distplot` is a deprecated function and will be removed in a future version. Please adapt your code to use either `displot` (a figure-level function with similar flexibility) or `histplot` (an axes-level function for histograms).\n",
      "  warnings.warn(msg, FutureWarning)\n"
     ]
    },
    {
     "data": {
      "image/png": "[encoded data removed]",
      "text/plain": [
       "<Figure size 800x345.6 with 1 Axes>"
      ]
     },
     "metadata": {
      "needs_background": "light"
     },
     "output_type": "display_data"
    }
   ],
   "source": [
    "sns.distplot( features2['CESTA_PROD_DIFER_1'] );"
   ]
  },
  {
   "cell_type": "code",
   "execution_count": 119,
   "id": "2eff82ee",
   "metadata": {},
   "outputs": [
    {
     "name": "stderr",
     "output_type": "stream",
     "text": [
      "C:\\Users\\winicius.faquieri\\Anaconda3\\lib\\site-packages\\seaborn\\distributions.py:2619: FutureWarning: `distplot` is a deprecated function and will be removed in a future version. Please adapt your code to use either `displot` (a figure-level function with similar flexibility) or `histplot` (an axes-level function for histograms).\n",
      "  warnings.warn(msg, FutureWarning)\n"
     ]
    },
    {
     "data": {
      "image/png": "[encoded data removed]",
      "text/plain": [
       "<Figure size 800x345.6 with 1 Axes>"
      ]
     },
     "metadata": {
      "needs_background": "light"
     },
     "output_type": "display_data"
    }
   ],
   "source": [
    "sns.distplot( features2['CESTA_PROD_DIFER_2'] );"
   ]
  },
  {
   "cell_type": "code",
   "execution_count": 116,
   "id": "4476e471",
   "metadata": {},
   "outputs": [
    {
     "data": {
      "text/html": [
       "<div>\n",
       "<style scoped>\n",
       "    .dataframe tbody tr th:only-of-type {\n",
       "        vertical-align: middle;\n",
       "    }\n",
       "\n",
       "    .dataframe tbody tr th {\n",
       "        vertical-align: top;\n",
       "    }\n",
       "\n",
       "    .dataframe thead th {\n",
       "        text-align: right;\n",
       "    }\n",
       "</style>\n",
       "<table border=\"1\" class=\"dataframe\">\n",
       "  <thead>\n",
       "    <tr style=\"text-align: right;\">\n",
       "      <th></th>\n",
       "      <th>attributes</th>\n",
       "      <th>min</th>\n",
       "      <th>max</th>\n",
       "      <th>range</th>\n",
       "      <th>mean</th>\n",
       "      <th>median</th>\n",
       "      <th>std</th>\n",
       "      <th>skew</th>\n",
       "      <th>kurtosis</th>\n",
       "    </tr>\n",
       "  </thead>\n",
       "  <tbody>\n",
       "    <tr>\n",
       "      <th>0</th>\n",
       "      <td>N_COMPRAS</td>\n",
       "      <td>-0.612319</td>\n",
       "      <td>5.449275</td>\n",
       "      <td>6.061594</td>\n",
       "      <td>0.355533</td>\n",
       "      <td>0.0</td>\n",
       "      <td>1.048553</td>\n",
       "      <td>2.208819</td>\n",
       "      <td>5.814232</td>\n",
       "    </tr>\n",
       "    <tr>\n",
       "      <th>1</th>\n",
       "      <td>VAL_UNIT_MEDIO</td>\n",
       "      <td>-0.877749</td>\n",
       "      <td>32.742253</td>\n",
       "      <td>33.620002</td>\n",
       "      <td>0.189273</td>\n",
       "      <td>0.0</td>\n",
       "      <td>0.909750</td>\n",
       "      <td>2.351248</td>\n",
       "      <td>21.584774</td>\n",
       "    </tr>\n",
       "    <tr>\n",
       "      <th>2</th>\n",
       "      <td>VOLUME_COMPRA_MEDIO</td>\n",
       "      <td>-0.803067</td>\n",
       "      <td>239.010116</td>\n",
       "      <td>239.813183</td>\n",
       "      <td>0.889113</td>\n",
       "      <td>0.0</td>\n",
       "      <td>4.248549</td>\n",
       "      <td>13.675391</td>\n",
       "      <td>385.556121</td>\n",
       "    </tr>\n",
       "    <tr>\n",
       "      <th>3</th>\n",
       "      <td>VAL_BRUTO_MEDIO</td>\n",
       "      <td>-0.526771</td>\n",
       "      <td>221.235673</td>\n",
       "      <td>221.762444</td>\n",
       "      <td>0.951100</td>\n",
       "      <td>0.0</td>\n",
       "      <td>4.248728</td>\n",
       "      <td>14.399403</td>\n",
       "      <td>387.065874</td>\n",
       "    </tr>\n",
       "    <tr>\n",
       "      <th>4</th>\n",
       "      <td>CESTA_PROD_DIFER_1</td>\n",
       "      <td>-0.740000</td>\n",
       "      <td>2.100000</td>\n",
       "      <td>2.840000</td>\n",
       "      <td>0.206980</td>\n",
       "      <td>0.0</td>\n",
       "      <td>0.705216</td>\n",
       "      <td>0.862602</td>\n",
       "      <td>-0.176374</td>\n",
       "    </tr>\n",
       "    <tr>\n",
       "      <th>5</th>\n",
       "      <td>CESTA_PROD_DIFER_2</td>\n",
       "      <td>-1.513210</td>\n",
       "      <td>5.411465</td>\n",
       "      <td>6.924674</td>\n",
       "      <td>0.239380</td>\n",
       "      <td>0.0</td>\n",
       "      <td>1.026834</td>\n",
       "      <td>2.160297</td>\n",
       "      <td>6.587130</td>\n",
       "    </tr>\n",
       "  </tbody>\n",
       "</table>\n",
       "</div>"
      ],
      "text/plain": [
       "            attributes       min         max       range      mean  median  \\\n",
       "0            N_COMPRAS -0.612319    5.449275    6.061594  0.355533     0.0   \n",
       "1       VAL_UNIT_MEDIO -0.877749   32.742253   33.620002  0.189273     0.0   \n",
       "2  VOLUME_COMPRA_MEDIO -0.803067  239.010116  239.813183  0.889113     0.0   \n",
       "3      VAL_BRUTO_MEDIO -0.526771  221.235673  221.762444  0.951100     0.0   \n",
       "4   CESTA_PROD_DIFER_1 -0.740000    2.100000    2.840000  0.206980     0.0   \n",
       "5   CESTA_PROD_DIFER_2 -1.513210    5.411465    6.924674  0.239380     0.0   \n",
       "\n",
       "        std       skew    kurtosis  \n",
       "0  1.048553   2.208819    5.814232  \n",
       "1  0.909750   2.351248   21.584774  \n",
       "2  4.248549  13.675391  385.556121  \n",
       "3  4.248728  14.399403  387.065874  \n",
       "4  0.705216   0.862602   -0.176374  \n",
       "5  1.026834   2.160297    6.587130  "
      ]
     },
     "execution_count": 116,
     "metadata": {},
     "output_type": "execute_result"
    }
   ],
   "source": [
    "num_attributes = features2.select_dtypes( include=['int32', 'float64'] )\n",
    "\n",
    "# Central Tendency - mean, meadina\n",
    "ct1 = pd.DataFrame( num_attributes.apply( np.mean ) ).T\n",
    "ct2 = pd.DataFrame( num_attributes.apply( np.median ) ).T\n",
    "\n",
    "# dispersion - std, min, max, range, skew, kurtosis\n",
    "d1 = pd.DataFrame( num_attributes.apply( np.std ) ).T\n",
    "d2 = pd.DataFrame( num_attributes.apply( min ) ).T\n",
    "d3 = pd.DataFrame( num_attributes.apply( max ) ).T\n",
    "d4 = pd.DataFrame( num_attributes.apply( lambda x: x.max() - x.min() ) ).T\n",
    "d5 = pd.DataFrame( num_attributes.apply( lambda x: x.skew() ) ).T\n",
    "d6 = pd.DataFrame( num_attributes.apply( lambda x: x.kurtosis() ) ).T\n",
    "\n",
    "# concatenar\n",
    "m = pd.concat( [d2, d3, d4, ct1, ct2, d1, d5, d6] ).T.reset_index()\n",
    "m.columns = ['attributes', 'min', 'max', 'range', 'mean', 'median', 'std','skew', 'kurtosis']\n",
    "m"
   ]
  },
  {
   "cell_type": "markdown",
   "id": "fe5cc55b",
   "metadata": {},
   "source": [
    "### BASE NÃO CLASSIFICADA:   2%  (10454 entries) "
   ]
  },
  {
   "cell_type": "code",
   "execution_count": 130,
   "id": "1ff935c8",
   "metadata": {},
   "outputs": [
    {
     "data": {
      "text/plain": [
       "array(['I', 'II', 'unclassified', 'III'], dtype=object)"
      ]
     },
     "execution_count": 130,
     "metadata": {},
     "output_type": "execute_result"
    }
   ],
   "source": [
    "# Filtrando os dados 'unclassified'\n",
    "features2['SEGMENTO'].unique()"
   ]
  },
  {
   "cell_type": "code",
   "execution_count": 11,
   "id": "fe2fed4d",
   "metadata": {},
   "outputs": [
    {
     "name": "stdout",
     "output_type": "stream",
     "text": [
      "<class 'pandas.core.frame.DataFrame'>\n",
      "Int64Index: 10454 entries, 28066 to 533201\n",
      "Data columns (total 8 columns):\n",
      " #   Column               Non-Null Count  Dtype  \n",
      "---  ------               --------------  -----  \n",
      " 0   NUM_DOC_DEST         10454 non-null  object \n",
      " 1   N_COMPRAS            10454 non-null  float64\n",
      " 2   VAL_UNIT_MEDIO       10454 non-null  float64\n",
      " 3   VOLUME_COMPRA_MEDIO  10454 non-null  float64\n",
      " 4   VAL_BRUTO_MEDIO      10454 non-null  float64\n",
      " 5   CESTA_PROD_DIFER_1   10454 non-null  float64\n",
      " 6   CESTA_PROD_DIFER_2   10454 non-null  float64\n",
      " 7   SEGMENTO             10454 non-null  object \n",
      "dtypes: float64(6), object(2)\n",
      "memory usage: 735.0+ KB\n"
     ]
    }
   ],
   "source": [
    "unclassified_df = features2[features2['SEGMENTO'] == 'unclassified']\n",
    "unclassified_df.info()"
   ]
  },
  {
   "cell_type": "code",
   "execution_count": 142,
   "id": "a53bf1c8",
   "metadata": {},
   "outputs": [],
   "source": [
    "# Exportando\n",
    "unclassified_df.to_pickle('..data/unclassified_df.pickle')"
   ]
  },
  {
   "cell_type": "code",
   "execution_count": 12,
   "id": "ce4c7796",
   "metadata": {},
   "outputs": [
    {
     "data": {
      "text/plain": [
       "array(['I', 'II', 'III'], dtype=object)"
      ]
     },
     "execution_count": 12,
     "metadata": {},
     "output_type": "execute_result"
    }
   ],
   "source": [
    "features3 = features2[features2['SEGMENTO'] != 'unclassified']\n",
    "features3['SEGMENTO'].unique()"
   ]
  },
  {
   "cell_type": "code",
   "execution_count": 13,
   "id": "399efa65",
   "metadata": {},
   "outputs": [],
   "source": [
    "# Exportando...\n",
    "features3.to_pickle('../data/features3.pickle')"
   ]
  },
  {
   "cell_type": "markdown",
   "id": "8fac9fd7",
   "metadata": {},
   "source": [
    "### Encoding da variável categórica"
   ]
  },
  {
   "cell_type": "code",
   "execution_count": 14,
   "id": "d6d2c0ae",
   "metadata": {},
   "outputs": [
    {
     "name": "stderr",
     "output_type": "stream",
     "text": [
      "C:\\Users\\winicius.faquieri\\AppData\\Local\\Temp/ipykernel_11764/556435851.py:3: SettingWithCopyWarning: \n",
      "A value is trying to be set on a copy of a slice from a DataFrame.\n",
      "Try using .loc[row_indexer,col_indexer] = value instead\n",
      "\n",
      "See the caveats in the documentation: https://pandas.pydata.org/pandas-docs/stable/user_guide/indexing.html#returning-a-view-versus-a-copy\n",
      "  features3['SEGMENTO'] = features3['SEGMENTO'].map( segmento_dict );\n"
     ]
    }
   ],
   "source": [
    "# Segmento - Ordinal Encoding\n",
    "segmento_dict = {'I': 1, 'II': 2, 'III': 3}\n",
    "features3['SEGMENTO'] = features3['SEGMENTO'].map( segmento_dict );"
   ]
  },
  {
   "cell_type": "code",
   "execution_count": 15,
   "id": "ca7ae58a",
   "metadata": {},
   "outputs": [
    {
     "data": {
      "text/html": [
       "<div>\n",
       "<style scoped>\n",
       "    .dataframe tbody tr th:only-of-type {\n",
       "        vertical-align: middle;\n",
       "    }\n",
       "\n",
       "    .dataframe tbody tr th {\n",
       "        vertical-align: top;\n",
       "    }\n",
       "\n",
       "    .dataframe thead th {\n",
       "        text-align: right;\n",
       "    }\n",
       "</style>\n",
       "<table border=\"1\" class=\"dataframe\">\n",
       "  <thead>\n",
       "    <tr style=\"text-align: right;\">\n",
       "      <th></th>\n",
       "      <th>NUM_DOC_DEST</th>\n",
       "      <th>N_COMPRAS</th>\n",
       "      <th>VAL_UNIT_MEDIO</th>\n",
       "      <th>VOLUME_COMPRA_MEDIO</th>\n",
       "      <th>VAL_BRUTO_MEDIO</th>\n",
       "      <th>CESTA_PROD_DIFER_1</th>\n",
       "      <th>CESTA_PROD_DIFER_2</th>\n",
       "      <th>SEGMENTO</th>\n",
       "    </tr>\n",
       "  </thead>\n",
       "  <tbody>\n",
       "    <tr>\n",
       "      <th>0</th>\n",
       "      <td>13004510014481</td>\n",
       "      <td>5.449275</td>\n",
       "      <td>0.837084</td>\n",
       "      <td>0.900393</td>\n",
       "      <td>2.051007</td>\n",
       "      <td>1.98</td>\n",
       "      <td>-0.995403</td>\n",
       "      <td>1</td>\n",
       "    </tr>\n",
       "    <tr>\n",
       "      <th>1</th>\n",
       "      <td>13004510014481</td>\n",
       "      <td>5.449275</td>\n",
       "      <td>0.837084</td>\n",
       "      <td>0.900393</td>\n",
       "      <td>2.051007</td>\n",
       "      <td>1.98</td>\n",
       "      <td>-0.995403</td>\n",
       "      <td>1</td>\n",
       "    </tr>\n",
       "    <tr>\n",
       "      <th>2</th>\n",
       "      <td>13004510014481</td>\n",
       "      <td>5.449275</td>\n",
       "      <td>0.837084</td>\n",
       "      <td>0.900393</td>\n",
       "      <td>2.051007</td>\n",
       "      <td>1.98</td>\n",
       "      <td>-0.995403</td>\n",
       "      <td>1</td>\n",
       "    </tr>\n",
       "    <tr>\n",
       "      <th>3</th>\n",
       "      <td>13004510014481</td>\n",
       "      <td>5.449275</td>\n",
       "      <td>0.837084</td>\n",
       "      <td>0.900393</td>\n",
       "      <td>2.051007</td>\n",
       "      <td>1.98</td>\n",
       "      <td>-0.995403</td>\n",
       "      <td>1</td>\n",
       "    </tr>\n",
       "    <tr>\n",
       "      <th>4</th>\n",
       "      <td>13004510014481</td>\n",
       "      <td>5.449275</td>\n",
       "      <td>0.837084</td>\n",
       "      <td>0.900393</td>\n",
       "      <td>2.051007</td>\n",
       "      <td>1.98</td>\n",
       "      <td>-0.995403</td>\n",
       "      <td>1</td>\n",
       "    </tr>\n",
       "  </tbody>\n",
       "</table>\n",
       "</div>"
      ],
      "text/plain": [
       "     NUM_DOC_DEST  N_COMPRAS  VAL_UNIT_MEDIO  VOLUME_COMPRA_MEDIO  \\\n",
       "0  13004510014481   5.449275        0.837084             0.900393   \n",
       "1  13004510014481   5.449275        0.837084             0.900393   \n",
       "2  13004510014481   5.449275        0.837084             0.900393   \n",
       "3  13004510014481   5.449275        0.837084             0.900393   \n",
       "4  13004510014481   5.449275        0.837084             0.900393   \n",
       "\n",
       "   VAL_BRUTO_MEDIO  CESTA_PROD_DIFER_1  CESTA_PROD_DIFER_2  SEGMENTO  \n",
       "0         2.051007                1.98           -0.995403         1  \n",
       "1         2.051007                1.98           -0.995403         1  \n",
       "2         2.051007                1.98           -0.995403         1  \n",
       "3         2.051007                1.98           -0.995403         1  \n",
       "4         2.051007                1.98           -0.995403         1  "
      ]
     },
     "execution_count": 15,
     "metadata": {},
     "output_type": "execute_result"
    }
   ],
   "source": [
    "features3.head()"
   ]
  },
  {
   "cell_type": "code",
   "execution_count": 139,
   "id": "79c2f48b",
   "metadata": {},
   "outputs": [
    {
     "data": {
      "image/png": "[encoded data removed]",
      "text/plain": [
       "<Figure size 1080x432 with 2 Axes>"
      ]
     },
     "metadata": {
      "needs_background": "light"
     },
     "output_type": "display_data"
    }
   ],
   "source": [
    "fig, ax=plt.subplots(1,2,figsize=(15,6))\n",
    "_ = sns.countplot(x='SEGMENTO', data=features3, ax=ax[0])\n",
    "_ = features3['SEGMENTO'].value_counts().plot.pie(autopct=\"%1.1f%%\", ax=ax[1])"
   ]
  },
  {
   "cell_type": "code",
   "execution_count": null,
   "id": "3cb215d2",
   "metadata": {},
   "outputs": [],
   "source": []
  },
  {
   "cell_type": "code",
   "execution_count": null,
   "id": "a52fa263",
   "metadata": {},
   "outputs": [],
   "source": []
  },
  {
   "cell_type": "markdown",
   "id": "a716cfd7",
   "metadata": {},
   "source": [
    "### FEATURE SELECTION\n",
    "\n",
    "> The process of reducing the number of input variables when developing a predictive model. \n",
    "It is desirable to reduce the number of input variables to both reduce the computational cost of modeling and, \n",
    "in some cases, to improve the performance of the model.\n",
    "\n",
    "FILTER (before training) X WRAPPER (ocorre após o treinamento e utiliza as estatísticas geradas pelo próprio modelo)\n",
    "\n",
    "- Análise estatítica\n",
    "- Filter: Correlação, ANOVA.\n",
    "- Wrapper: Árvores de decisão (entropia/**gini**), redes neurais (dropout/**relevância**)\n",
    "- Correlação x Relevância\n",
    "- Multicolinearidade -> Análise Discriminante Linear (LDA) ?\n"
   ]
  },
  {
   "cell_type": "code",
   "execution_count": 24,
   "id": "cc555d0a",
   "metadata": {},
   "outputs": [
    {
     "data": {
      "text/html": [
       "<div>\n",
       "<style scoped>\n",
       "    .dataframe tbody tr th:only-of-type {\n",
       "        vertical-align: middle;\n",
       "    }\n",
       "\n",
       "    .dataframe tbody tr th {\n",
       "        vertical-align: top;\n",
       "    }\n",
       "\n",
       "    .dataframe thead th {\n",
       "        text-align: right;\n",
       "    }\n",
       "</style>\n",
       "<table border=\"1\" class=\"dataframe\">\n",
       "  <thead>\n",
       "    <tr style=\"text-align: right;\">\n",
       "      <th></th>\n",
       "      <th>NUM_DOC_DEST</th>\n",
       "      <th>N_COMPRAS</th>\n",
       "      <th>VAL_UNIT_MEDIO</th>\n",
       "      <th>VOLUME_COMPRA_MEDIO</th>\n",
       "      <th>VAL_BRUTO_MEDIO</th>\n",
       "      <th>CESTA_PROD_DIFER_1</th>\n",
       "      <th>CESTA_PROD_DIFER_2</th>\n",
       "      <th>SEGMENTO</th>\n",
       "    </tr>\n",
       "  </thead>\n",
       "  <tbody>\n",
       "    <tr>\n",
       "      <th>0</th>\n",
       "      <td>13004510014481</td>\n",
       "      <td>5.449275</td>\n",
       "      <td>0.837084</td>\n",
       "      <td>0.900393</td>\n",
       "      <td>2.051007</td>\n",
       "      <td>1.98</td>\n",
       "      <td>-0.995403</td>\n",
       "      <td>1</td>\n",
       "    </tr>\n",
       "    <tr>\n",
       "      <th>1</th>\n",
       "      <td>13004510014481</td>\n",
       "      <td>5.449275</td>\n",
       "      <td>0.837084</td>\n",
       "      <td>0.900393</td>\n",
       "      <td>2.051007</td>\n",
       "      <td>1.98</td>\n",
       "      <td>-0.995403</td>\n",
       "      <td>1</td>\n",
       "    </tr>\n",
       "    <tr>\n",
       "      <th>2</th>\n",
       "      <td>13004510014481</td>\n",
       "      <td>5.449275</td>\n",
       "      <td>0.837084</td>\n",
       "      <td>0.900393</td>\n",
       "      <td>2.051007</td>\n",
       "      <td>1.98</td>\n",
       "      <td>-0.995403</td>\n",
       "      <td>1</td>\n",
       "    </tr>\n",
       "    <tr>\n",
       "      <th>3</th>\n",
       "      <td>13004510014481</td>\n",
       "      <td>5.449275</td>\n",
       "      <td>0.837084</td>\n",
       "      <td>0.900393</td>\n",
       "      <td>2.051007</td>\n",
       "      <td>1.98</td>\n",
       "      <td>-0.995403</td>\n",
       "      <td>1</td>\n",
       "    </tr>\n",
       "    <tr>\n",
       "      <th>4</th>\n",
       "      <td>13004510014481</td>\n",
       "      <td>5.449275</td>\n",
       "      <td>0.837084</td>\n",
       "      <td>0.900393</td>\n",
       "      <td>2.051007</td>\n",
       "      <td>1.98</td>\n",
       "      <td>-0.995403</td>\n",
       "      <td>1</td>\n",
       "    </tr>\n",
       "  </tbody>\n",
       "</table>\n",
       "</div>"
      ],
      "text/plain": [
       "     NUM_DOC_DEST  N_COMPRAS  VAL_UNIT_MEDIO  VOLUME_COMPRA_MEDIO  \\\n",
       "0  13004510014481   5.449275        0.837084             0.900393   \n",
       "1  13004510014481   5.449275        0.837084             0.900393   \n",
       "2  13004510014481   5.449275        0.837084             0.900393   \n",
       "3  13004510014481   5.449275        0.837084             0.900393   \n",
       "4  13004510014481   5.449275        0.837084             0.900393   \n",
       "\n",
       "   VAL_BRUTO_MEDIO  CESTA_PROD_DIFER_1  CESTA_PROD_DIFER_2  SEGMENTO  \n",
       "0         2.051007                1.98           -0.995403         1  \n",
       "1         2.051007                1.98           -0.995403         1  \n",
       "2         2.051007                1.98           -0.995403         1  \n",
       "3         2.051007                1.98           -0.995403         1  \n",
       "4         2.051007                1.98           -0.995403         1  "
      ]
     },
     "execution_count": 24,
     "metadata": {},
     "output_type": "execute_result"
    }
   ],
   "source": [
    "features4 = features3.copy()\n",
    "features4.head()"
   ]
  },
  {
   "cell_type": "code",
   "execution_count": 17,
   "id": "5da132ab",
   "metadata": {},
   "outputs": [],
   "source": [
    "# Exportando...\n",
    "features4.to_pickle('../data/features4.pickle')"
   ]
  },
  {
   "cell_type": "markdown",
   "id": "98785e1c",
   "metadata": {},
   "source": [
    "### Dividindo os dados em conjuntos de treinamento, teste e validação\n",
    "\n",
    "#### Setup:\n",
    "    - Full data 100% (1000) \n",
    "    - test      20%  (200) -> Generalization!\n",
    "    - training  80%  (800, sendo 80% (640) train + 20% (160) validation -> Aprendizado!"
   ]
  },
  {
   "cell_type": "code",
   "execution_count": 55,
   "id": "5b431d05",
   "metadata": {},
   "outputs": [],
   "source": [
    "features4 = pd.read_pickle('../data/features4.pickle')\n",
    "\n",
    "# Alterando as variáveis para o formato esperado pelo modelo:\n",
    "features4['N_COMPRAS'] = features4['N_COMPRAS'].astype('float32')\n",
    "features4['VAL_UNIT_MEDIO'] = features4['VAL_UNIT_MEDIO'].astype('float32')\n",
    "features4['VOLUME_COMPRA_MEDIO'] = features4['VOLUME_COMPRA_MEDIO'].astype('float32')\n",
    "features4['VAL_BRUTO_MEDIO'] = features4['VAL_BRUTO_MEDIO'].astype('float32')\n",
    "features4['CESTA_PROD_DIFER_1'] = features4['CESTA_PROD_DIFER_1'].astype('float32')\n",
    "features4['CESTA_PROD_DIFER_2'] = features4['CESTA_PROD_DIFER_2'].astype('float32')\n",
    "features4['SEGMENTO'] = features4['SEGMENTO'].astype('float32')\n"
   ]
  },
  {
   "cell_type": "code",
   "execution_count": 60,
   "id": "940076d1",
   "metadata": {},
   "outputs": [
    {
     "data": {
      "text/plain": [
       "array([[1., 0., 0.],\n",
       "       [1., 0., 0.],\n",
       "       [1., 0., 0.],\n",
       "       ...,\n",
       "       [0., 0., 1.],\n",
       "       [0., 0., 1.],\n",
       "       [0., 1., 0.]], dtype=float32)"
      ]
     },
     "execution_count": 60,
     "metadata": {},
     "output_type": "execute_result"
    }
   ],
   "source": [
    "X = features4.drop(['NUM_DOC_DEST','SEGMENTO'], axis=1)\n",
    "\n",
    "y = features4.loc[:, 'SEGMENTO']\n",
    "\n",
    "# encode class values as integers\n",
    "encoder = LabelEncoder()\n",
    "encoder.fit(y)\n",
    "encoded_Y = encoder.transform(y)\n",
    "# convert integers to dummy variables (i.e. one hot encoded)\n",
    "dummy_y = np_utils.to_categorical(encoded_Y)\n",
    "dummy_y\n",
    "\n",
    "# # # split training into train and test datset\n",
    "# X_train, X_test, y_train, y_test = ms.train_test_split(X, dummy_y, test_size=0.2, random_state=42)\n",
    "\n",
    "# print( X_train.shape, y_train.shape, X_test.shape, y_test.shape )"
   ]
  },
  {
   "cell_type": "code",
   "execution_count": 29,
   "id": "92eca90e",
   "metadata": {},
   "outputs": [],
   "source": [
    "# make the second split to create the final training set and the validation set:\n",
    "X_train, X_val, y_train, y_val = ms.train_test_split(X_train, y_train, test_size=0.2)"
   ]
  },
  {
   "cell_type": "markdown",
   "id": "01cf1664",
   "metadata": {},
   "source": [
    "# MLP Training"
   ]
  },
  {
   "cell_type": "code",
   "execution_count": null,
   "id": "dda16716",
   "metadata": {},
   "outputs": [],
   "source": [
    "# ==================== 1ª Epoca =======================\n",
    "# foward: dados * pesos -> função de ativação -> predito\n",
    "# real - predito = erro\n",
    "# backpropagation: erro -> derivadas parciais -> update pesos\n",
    "\n",
    "# ==================== 2ª Epoca =======================\n",
    "# foward: dados * pesos -> função de ativação -> predito\n",
    "# real - predito = erro\n",
    "# backpropagation: erro -> derivadas parciais -> update pesos\n",
    "\n",
    "# Até os pesos convergirem..."
   ]
  },
  {
   "cell_type": "code",
   "execution_count": 61,
   "id": "f72413f0",
   "metadata": {},
   "outputs": [],
   "source": [
    "# define baseline model:\n",
    "\n",
    "def baseline_model():\n",
    "    model = Sequential()\n",
    "\n",
    "    # Add the first hidden layer\n",
    "    model.add(Dense(32, activation='relu', input_dim=6))\n",
    "\n",
    "    # Add the second hidden layer\n",
    "    model.add(Dense(16, activation='relu'))\n",
    "\n",
    "    # Add the output layer - Note que o número total de neurons na output layer é o total de classe - 1\n",
    "    model.add(Dense(3, activation='softmax'))\n",
    "\n",
    "    # Compile the model\n",
    "    model.compile(optimizer='adam',\n",
    "              loss='categorical_crossentropy',\n",
    "              metrics=['accuracy'])\n",
    "    return model"
   ]
  },
  {
   "cell_type": "code",
   "execution_count": null,
   "id": "2198f4e1",
   "metadata": {},
   "outputs": [
    {
     "name": "stderr",
     "output_type": "stream",
     "text": [
      "C:\\Users\\winicius.faquieri\\AppData\\Local\\Temp/ipykernel_14592/1842752508.py:1: DeprecationWarning: KerasClassifier is deprecated, use Sci-Keras (https://github.com/adriangb/scikeras) instead. See https://www.adriangb.com/scikeras/stable/migration.html for help migrating.\n",
      "  estimator = KerasClassifier(build_fn=baseline_model, epochs=200, batch_size=5, verbose=0)\n"
     ]
    }
   ],
   "source": [
    "estimator = KerasClassifier(build_fn=baseline_model, epochs=200, batch_size=5, verbose=0)\n",
    "kfold = KFold(n_splits=10, shuffle=True)\n",
    "results = cross_val_score(estimator, X, dummy_y, cv=kfold)\n",
    "print(\"Baseline: %.2f%% (%.2f%%)\" % (results.mean()*100, results.std()*100))"
   ]
  },
  {
   "cell_type": "code",
   "execution_count": null,
   "id": "8d43b66a",
   "metadata": {},
   "outputs": [],
   "source": []
  },
  {
   "cell_type": "code",
   "execution_count": null,
   "id": "2090c264",
   "metadata": {},
   "outputs": [],
   "source": []
  },
  {
   "cell_type": "code",
   "execution_count": null,
   "id": "f48009d3",
   "metadata": {},
   "outputs": [],
   "source": []
  },
  {
   "cell_type": "code",
   "execution_count": null,
   "id": "b612767e",
   "metadata": {},
   "outputs": [],
   "source": []
  },
  {
   "cell_type": "code",
   "execution_count": null,
   "id": "283b061e",
   "metadata": {},
   "outputs": [],
   "source": []
  },
  {
   "cell_type": "code",
   "execution_count": null,
   "id": "a9c22bdf",
   "metadata": {},
   "outputs": [],
   "source": []
  },
  {
   "cell_type": "code",
   "execution_count": 45,
   "id": "e6de806d",
   "metadata": {},
   "outputs": [
    {
     "name": "stdout",
     "output_type": "stream",
     "text": [
      "Epoch 1/200\n"
     ]
    },
    {
     "ename": "ValueError",
     "evalue": "in user code:\n\n    File \"C:\\Users\\winicius.faquieri\\Anaconda3\\lib\\site-packages\\keras\\engine\\training.py\", line 1051, in train_function  *\n        return step_function(self, iterator)\n    File \"C:\\Users\\winicius.faquieri\\Anaconda3\\lib\\site-packages\\keras\\engine\\training.py\", line 1040, in step_function  **\n        outputs = model.distribute_strategy.run(run_step, args=(data,))\n    File \"C:\\Users\\winicius.faquieri\\Anaconda3\\lib\\site-packages\\keras\\engine\\training.py\", line 1030, in run_step  **\n        outputs = model.train_step(data)\n    File \"C:\\Users\\winicius.faquieri\\Anaconda3\\lib\\site-packages\\keras\\engine\\training.py\", line 890, in train_step\n        loss = self.compute_loss(x, y, y_pred, sample_weight)\n    File \"C:\\Users\\winicius.faquieri\\Anaconda3\\lib\\site-packages\\keras\\engine\\training.py\", line 948, in compute_loss\n        return self.compiled_loss(\n    File \"C:\\Users\\winicius.faquieri\\Anaconda3\\lib\\site-packages\\keras\\engine\\compile_utils.py\", line 201, in __call__\n        loss_value = loss_obj(y_t, y_p, sample_weight=sw)\n    File \"C:\\Users\\winicius.faquieri\\Anaconda3\\lib\\site-packages\\keras\\losses.py\", line 139, in __call__\n        losses = call_fn(y_true, y_pred)\n    File \"C:\\Users\\winicius.faquieri\\Anaconda3\\lib\\site-packages\\keras\\losses.py\", line 243, in call  **\n        return ag_fn(y_true, y_pred, **self._fn_kwargs)\n    File \"C:\\Users\\winicius.faquieri\\Anaconda3\\lib\\site-packages\\keras\\losses.py\", line 1787, in categorical_crossentropy\n        return backend.categorical_crossentropy(\n    File \"C:\\Users\\winicius.faquieri\\Anaconda3\\lib\\site-packages\\keras\\backend.py\", line 5119, in categorical_crossentropy\n        target.shape.assert_is_compatible_with(output.shape)\n\n    ValueError: Shapes (None, 1) and (None, 3) are incompatible\n",
     "output_type": "error",
     "traceback": [
      "\u001b[1;31m---------------------------------------------------------------------------\u001b[0m",
      "\u001b[1;31mValueError\u001b[0m                                Traceback (most recent call last)",
      "\u001b[1;32m~\\AppData\\Local\\Temp/ipykernel_14592/1180469570.py\u001b[0m in \u001b[0;36m<module>\u001b[1;34m\u001b[0m\n\u001b[0;32m      1\u001b[0m \u001b[1;31m# Train the model for 200 epochs\u001b[0m\u001b[1;33m\u001b[0m\u001b[1;33m\u001b[0m\u001b[0m\n\u001b[1;32m----> 2\u001b[1;33m \u001b[0mmodel\u001b[0m\u001b[1;33m.\u001b[0m\u001b[0mfit\u001b[0m\u001b[1;33m(\u001b[0m\u001b[0mX_train\u001b[0m\u001b[1;33m,\u001b[0m \u001b[0my_train\u001b[0m\u001b[1;33m,\u001b[0m \u001b[0mepochs\u001b[0m\u001b[1;33m=\u001b[0m\u001b[1;36m200\u001b[0m\u001b[1;33m)\u001b[0m\u001b[1;33m\u001b[0m\u001b[1;33m\u001b[0m\u001b[0m\n\u001b[0m",
      "\u001b[1;32m~\\Anaconda3\\lib\\site-packages\\keras\\utils\\traceback_utils.py\u001b[0m in \u001b[0;36merror_handler\u001b[1;34m(*args, **kwargs)\u001b[0m\n\u001b[0;32m     65\u001b[0m     \u001b[1;32mexcept\u001b[0m \u001b[0mException\u001b[0m \u001b[1;32mas\u001b[0m \u001b[0me\u001b[0m\u001b[1;33m:\u001b[0m  \u001b[1;31m# pylint: disable=broad-except\u001b[0m\u001b[1;33m\u001b[0m\u001b[1;33m\u001b[0m\u001b[0m\n\u001b[0;32m     66\u001b[0m       \u001b[0mfiltered_tb\u001b[0m \u001b[1;33m=\u001b[0m \u001b[0m_process_traceback_frames\u001b[0m\u001b[1;33m(\u001b[0m\u001b[0me\u001b[0m\u001b[1;33m.\u001b[0m\u001b[0m__traceback__\u001b[0m\u001b[1;33m)\u001b[0m\u001b[1;33m\u001b[0m\u001b[1;33m\u001b[0m\u001b[0m\n\u001b[1;32m---> 67\u001b[1;33m       \u001b[1;32mraise\u001b[0m \u001b[0me\u001b[0m\u001b[1;33m.\u001b[0m\u001b[0mwith_traceback\u001b[0m\u001b[1;33m(\u001b[0m\u001b[0mfiltered_tb\u001b[0m\u001b[1;33m)\u001b[0m \u001b[1;32mfrom\u001b[0m \u001b[1;32mNone\u001b[0m\u001b[1;33m\u001b[0m\u001b[1;33m\u001b[0m\u001b[0m\n\u001b[0m\u001b[0;32m     68\u001b[0m     \u001b[1;32mfinally\u001b[0m\u001b[1;33m:\u001b[0m\u001b[1;33m\u001b[0m\u001b[1;33m\u001b[0m\u001b[0m\n\u001b[0;32m     69\u001b[0m       \u001b[1;32mdel\u001b[0m \u001b[0mfiltered_tb\u001b[0m\u001b[1;33m\u001b[0m\u001b[1;33m\u001b[0m\u001b[0m\n",
      "\u001b[1;32m~\\Anaconda3\\lib\\site-packages\\keras\\engine\\training.py\u001b[0m in \u001b[0;36mtf__train_function\u001b[1;34m(iterator)\u001b[0m\n\u001b[0;32m     13\u001b[0m                 \u001b[1;32mtry\u001b[0m\u001b[1;33m:\u001b[0m\u001b[1;33m\u001b[0m\u001b[1;33m\u001b[0m\u001b[0m\n\u001b[0;32m     14\u001b[0m                     \u001b[0mdo_return\u001b[0m \u001b[1;33m=\u001b[0m \u001b[1;32mTrue\u001b[0m\u001b[1;33m\u001b[0m\u001b[1;33m\u001b[0m\u001b[0m\n\u001b[1;32m---> 15\u001b[1;33m                     \u001b[0mretval_\u001b[0m \u001b[1;33m=\u001b[0m \u001b[0mag__\u001b[0m\u001b[1;33m.\u001b[0m\u001b[0mconverted_call\u001b[0m\u001b[1;33m(\u001b[0m\u001b[0mag__\u001b[0m\u001b[1;33m.\u001b[0m\u001b[0mld\u001b[0m\u001b[1;33m(\u001b[0m\u001b[0mstep_function\u001b[0m\u001b[1;33m)\u001b[0m\u001b[1;33m,\u001b[0m \u001b[1;33m(\u001b[0m\u001b[0mag__\u001b[0m\u001b[1;33m.\u001b[0m\u001b[0mld\u001b[0m\u001b[1;33m(\u001b[0m\u001b[0mself\u001b[0m\u001b[1;33m)\u001b[0m\u001b[1;33m,\u001b[0m \u001b[0mag__\u001b[0m\u001b[1;33m.\u001b[0m\u001b[0mld\u001b[0m\u001b[1;33m(\u001b[0m\u001b[0miterator\u001b[0m\u001b[1;33m)\u001b[0m\u001b[1;33m)\u001b[0m\u001b[1;33m,\u001b[0m \u001b[1;32mNone\u001b[0m\u001b[1;33m,\u001b[0m \u001b[0mfscope\u001b[0m\u001b[1;33m)\u001b[0m\u001b[1;33m\u001b[0m\u001b[1;33m\u001b[0m\u001b[0m\n\u001b[0m\u001b[0;32m     16\u001b[0m                 \u001b[1;32mexcept\u001b[0m\u001b[1;33m:\u001b[0m\u001b[1;33m\u001b[0m\u001b[1;33m\u001b[0m\u001b[0m\n\u001b[0;32m     17\u001b[0m                     \u001b[0mdo_return\u001b[0m \u001b[1;33m=\u001b[0m \u001b[1;32mFalse\u001b[0m\u001b[1;33m\u001b[0m\u001b[1;33m\u001b[0m\u001b[0m\n",
      "\u001b[1;31mValueError\u001b[0m: in user code:\n\n    File \"C:\\Users\\winicius.faquieri\\Anaconda3\\lib\\site-packages\\keras\\engine\\training.py\", line 1051, in train_function  *\n        return step_function(self, iterator)\n    File \"C:\\Users\\winicius.faquieri\\Anaconda3\\lib\\site-packages\\keras\\engine\\training.py\", line 1040, in step_function  **\n        outputs = model.distribute_strategy.run(run_step, args=(data,))\n    File \"C:\\Users\\winicius.faquieri\\Anaconda3\\lib\\site-packages\\keras\\engine\\training.py\", line 1030, in run_step  **\n        outputs = model.train_step(data)\n    File \"C:\\Users\\winicius.faquieri\\Anaconda3\\lib\\site-packages\\keras\\engine\\training.py\", line 890, in train_step\n        loss = self.compute_loss(x, y, y_pred, sample_weight)\n    File \"C:\\Users\\winicius.faquieri\\Anaconda3\\lib\\site-packages\\keras\\engine\\training.py\", line 948, in compute_loss\n        return self.compiled_loss(\n    File \"C:\\Users\\winicius.faquieri\\Anaconda3\\lib\\site-packages\\keras\\engine\\compile_utils.py\", line 201, in __call__\n        loss_value = loss_obj(y_t, y_p, sample_weight=sw)\n    File \"C:\\Users\\winicius.faquieri\\Anaconda3\\lib\\site-packages\\keras\\losses.py\", line 139, in __call__\n        losses = call_fn(y_true, y_pred)\n    File \"C:\\Users\\winicius.faquieri\\Anaconda3\\lib\\site-packages\\keras\\losses.py\", line 243, in call  **\n        return ag_fn(y_true, y_pred, **self._fn_kwargs)\n    File \"C:\\Users\\winicius.faquieri\\Anaconda3\\lib\\site-packages\\keras\\losses.py\", line 1787, in categorical_crossentropy\n        return backend.categorical_crossentropy(\n    File \"C:\\Users\\winicius.faquieri\\Anaconda3\\lib\\site-packages\\keras\\backend.py\", line 5119, in categorical_crossentropy\n        target.shape.assert_is_compatible_with(output.shape)\n\n    ValueError: Shapes (None, 1) and (None, 3) are incompatible\n"
     ]
    }
   ],
   "source": [
    "# Train the model for 200 epochs\n",
    "model.fit(X_train, y_train, epochs=200)"
   ]
  },
  {
   "cell_type": "code",
   "execution_count": null,
   "id": "a65760cc",
   "metadata": {},
   "outputs": [],
   "source": []
  },
  {
   "cell_type": "code",
   "execution_count": null,
   "id": "3a9ff060",
   "metadata": {},
   "outputs": [],
   "source": []
  },
  {
   "cell_type": "code",
   "execution_count": null,
   "id": "1ff83cbe",
   "metadata": {},
   "outputs": [],
   "source": []
  },
  {
   "cell_type": "code",
   "execution_count": null,
   "id": "6f4f0fb7",
   "metadata": {},
   "outputs": [],
   "source": []
  },
  {
   "cell_type": "code",
   "execution_count": null,
   "id": "e2a4796e",
   "metadata": {},
   "outputs": [],
   "source": [
    "# split training into train and test datset\n",
    "x_train, y_train, x_val, y_val = ms.train_test_split( X, y, test_size = 0.2 )\n",
    "\n",
    "# Multi-Layer Perceptron\n",
    "model = Sequential()\n",
    "\n",
    "# Model definition ( layers, neurons )\n",
    "model.add( Dense(2, input_dim = x_train.shape[1], activation = 'relu' ) ) # input layer + hidden layer\n",
    "\n",
    "# Note que o número total de neurons na output layer é o total de classe - 1\n",
    "model.add( Dense(2, activation = 'sigmoid' ) ) # output layer\n",
    "\n",
    "# Model Compile ( loss, optimizer, metrics )\n",
    "#SGD - Gradient Descent with Momentum\n",
    "opt = SGD( lr = 0.01, momentum =  0.8 )\n",
    "model.compile( loss = 'mean_squared_error', metrics=['accuray'] )\n",
    "\n",
    "# Model Training ( train, test, epocas )\n",
    "history = model.fit( x_train, y_train, validation_data = (x_val, y_val), epochs = 4000, verbose = 1 )\n",
    "\n",
    "# Model Accuracy\n",
    "_, acc_train = model.evaluate( x_train, y_train, verbose = 0)\n",
    "_, acc_val = model.evaluate( x_val, y_val, verbose = 0)\n",
    "\n",
    "# Learning Curve"
   ]
  }
 ],
 "metadata": {
  "kernelspec": {
   "display_name": "Python 3 (ipykernel)",
   "language": "python",
   "name": "python3"
  },
  "language_info": {
   "codemirror_mode": {
    "name": "ipython",
    "version": 3
   },
   "file_extension": ".py",
   "mimetype": "text/x-python",
   "name": "python",
   "nbconvert_exporter": "python",
   "pygments_lexer": "ipython3",
   "version": "3.9.7"
  }
 },
 "nbformat": 4,
 "nbformat_minor": 5
}
